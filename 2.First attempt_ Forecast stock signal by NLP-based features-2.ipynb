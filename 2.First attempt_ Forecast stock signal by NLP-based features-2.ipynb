{
 "cells": [
  {
   "cell_type": "markdown",
   "metadata": {
    "id": "cATRcSji_ovm"
   },
   "source": [
    "# 1. Import library"
   ]
  },
  {
   "cell_type": "code",
   "execution_count": 1,
   "metadata": {
    "executionInfo": {
     "elapsed": 2777,
     "status": "ok",
     "timestamp": 1623805994595,
     "user": {
      "displayName": "HO CHI YU",
      "photoUrl": "",
      "userId": "18254165649626667365"
     },
     "user_tz": -480
    },
    "id": "qbjcRFKy_Q6j",
    "scrolled": true
   },
   "outputs": [],
   "source": [
    "import pandas as pd\n",
    "import numpy as np\n",
    "from datetime import timedelta \n",
    "import matplotlib.pyplot as plt\n",
    "import seaborn as sns\n",
    "from numpy import log\n",
    "\n",
    "import nltk\n",
    "import string\n",
    "from nltk.tokenize import word_tokenize\n",
    "from nltk.corpus import stopwords\n",
    "from nltk.stem import WordNetLemmatizer\n",
    "from nltk.corpus import wordnet\n",
    "\n",
    "from wordcloud import WordCloud\n",
    "from collections import Counter\n",
    "\n",
    "from sklearn.feature_extraction.text import CountVectorizer, TfidfVectorizer\n",
    "import lightgbm as lgb\n",
    "from sklearn.linear_model import RidgeClassifier\n",
    "\n",
    "from sklearn.metrics import confusion_matrix\n",
    "from sklearn.metrics import classification_report\n",
    "from sklearn.metrics import f1_score\n",
    "\n",
    "import time\n",
    "\n",
    "from gensim.models.doc2vec import Doc2Vec, TaggedDocument"
   ]
  },
  {
   "cell_type": "code",
   "execution_count": 2,
   "metadata": {
    "executionInfo": {
     "elapsed": 10,
     "status": "ok",
     "timestamp": 1623805994598,
     "user": {
      "displayName": "HO CHI YU",
      "photoUrl": "",
      "userId": "18254165649626667365"
     },
     "user_tz": -480
    },
    "id": "BOv-EE6z_Q6n"
   },
   "outputs": [],
   "source": [
    "# Function to perform time convertion \n",
    "def tcon(x):\n",
    "    date, time = x.split(\" \")\n",
    "    hour, minute, second = time.split(\":\")\n",
    "    if int(minute) < 15:\n",
    "        minute = \":00\"\n",
    "    elif int(minute) < 30:\n",
    "        minute = \":15\"\n",
    "    elif int(minute) < 45:\n",
    "        minute = \":30\"\n",
    "    else:\n",
    "        minute = \":45\"\n",
    "    block = date + \" \" + hour + minute\n",
    "    return block"
   ]
  },
  {
   "cell_type": "code",
   "execution_count": 3,
   "metadata": {
    "executionInfo": {
     "elapsed": 8,
     "status": "ok",
     "timestamp": 1623805994598,
     "user": {
      "displayName": "HO CHI YU",
      "photoUrl": "",
      "userId": "18254165649626667365"
     },
     "user_tz": -480
    },
    "id": "IPPQNIet_Q6o"
   },
   "outputs": [],
   "source": [
    "# Function to clean the data for bog/n-gram ONLY\n",
    "def data_cleaning(text):\n",
    "    token = word_tokenize(text) # tokenize the text into token (1gram- word)\n",
    "    token = [w.lower() for w in token] # lower the words into lower case\n",
    "    table = str.maketrans('', '', string.punctuation) # remove punctuation\n",
    "    stripped = [w.translate(table) for w in token] \n",
    "    word = [word for word in token if word.isalpha()] # remove non- alphabetic symbol\n",
    "    word = [w for w in word if not w in stopword] # remove stop word\n",
    "    text = \"\".join([\" \"+ i for i in word]).strip()\n",
    "    return text "
   ]
  },
  {
   "cell_type": "code",
   "execution_count": 4,
   "metadata": {
    "executionInfo": {
     "elapsed": 8,
     "status": "ok",
     "timestamp": 1623805994599,
     "user": {
      "displayName": "HO CHI YU",
      "photoUrl": "",
      "userId": "18254165649626667365"
     },
     "user_tz": -480
    },
    "id": "AB-R7z3j_Q6p"
   },
   "outputs": [],
   "source": [
    "#Function to lemmatize the word for bog/n-gram ONLY\n",
    "lemmatizer = WordNetLemmatizer()\n",
    "\n",
    "def lemmatize_sentence(sentence):\n",
    "    #tokenize the sentence and find the POS tag for each token\n",
    "    nltk_tagged = nltk.pos_tag(nltk.word_tokenize(sentence))  \n",
    "    #tuple of (token, wordnet_tag)\n",
    "    wordnet_tagged = map(lambda x: (x[0], nltk_tag_to_wordnet_tag(x[1])), nltk_tagged)\n",
    "    lemmatized_sentence = []\n",
    "    for word, tag in wordnet_tagged:\n",
    "        if tag is None:\n",
    "            #if there is no available tag, append the token as is\n",
    "            lemmatized_sentence.append(word)\n",
    "        else:        \n",
    "            #else use the tag to lemmatize the token\n",
    "            lemmatized_sentence.append(lemmatizer.lemmatize(word, tag))\n",
    "    return \" \".join(lemmatized_sentence)"
   ]
  },
  {
   "cell_type": "code",
   "execution_count": 5,
   "metadata": {
    "executionInfo": {
     "elapsed": 7,
     "status": "ok",
     "timestamp": 1623805994599,
     "user": {
      "displayName": "HO CHI YU",
      "photoUrl": "",
      "userId": "18254165649626667365"
     },
     "user_tz": -480
    },
    "id": "cOvcdIvQ_Q6p"
   },
   "outputs": [],
   "source": [
    "# Function to tagging the word\n",
    "def nltk_tag_to_wordnet_tag(nltk_tag):\n",
    "    if nltk_tag.startswith('J'):\n",
    "        return wordnet.ADJ\n",
    "    elif nltk_tag.startswith('V'):\n",
    "        return wordnet.VERB\n",
    "    elif nltk_tag.startswith('N'):\n",
    "        return wordnet.NOUN\n",
    "    elif nltk_tag.startswith('R'):\n",
    "        return wordnet.ADV\n",
    "    else:          \n",
    "        return None"
   ]
  },
  {
   "cell_type": "code",
   "execution_count": 6,
   "metadata": {
    "executionInfo": {
     "elapsed": 7,
     "status": "ok",
     "timestamp": 1623805994600,
     "user": {
      "displayName": "HO CHI YU",
      "photoUrl": "",
      "userId": "18254165649626667365"
     },
     "user_tz": -480
    },
    "id": "Xrltdzj__Q6q"
   },
   "outputs": [],
   "source": [
    "# Function for EDA\n",
    "\n",
    "def EDA(df):\n",
    "    print(\"Sample Mean =\", df.Profit.mean(), \"\\nSample Variance =\", df.Profit.var(), \"\\nSample Adjusted skewness =\", df.Profit.skew(), \"\\nSample Excess Kurtosis =\", df.Profit.kurtosis())\n",
    "    x = df.Profit.quantile([0, 0.25, 0.5,0.75, 1]).values\n",
    "    print(\"\\nMin =\", x[0], \"\\n1st quartile =\", x[1], \"\\nMedian =\", x[2], \"\\n3rd quartile =\", x[3], \"\\nMax =\", x[4])\n",
    "    sns.displot(df.Profit, bins = 100)\n",
    "    plt.show()\n",
    "    text = \" \".join(df.News)\n",
    "    wordcloud = WordCloud(max_words=200).generate(text)\n",
    "    plt.imshow(wordcloud,interpolation = 'bilinear')\n",
    "    most_occur = Counter(text.split()).most_common(20)\n",
    "    print(\"\\n\", pd.DataFrame(most_occur, columns = [\"word\", \"frequency\"]))"
   ]
  },
  {
   "cell_type": "code",
   "execution_count": 7,
   "metadata": {},
   "outputs": [],
   "source": [
    "def score(actual, predicted):\n",
    "    tmp = f1_score(actual, predicted, average = None)\n",
    "    tmp = tmp[0]+tmp[len(tmp)-1]\n",
    "    return tmp/2"
   ]
  },
  {
   "cell_type": "code",
   "execution_count": 8,
   "metadata": {
    "executionInfo": {
     "elapsed": 7,
     "status": "ok",
     "timestamp": 1623805994600,
     "user": {
      "displayName": "HO CHI YU",
      "photoUrl": "",
      "userId": "18254165649626667365"
     },
     "user_tz": -480
    },
    "id": "WyiW90xo_Q6q"
   },
   "outputs": [],
   "source": [
    "# Function for showing the out-sample performance\n",
    "def performance(actual, predicted):\n",
    "    labels = [0, 1, 2] \n",
    "    print(classification_report(actual, predicted, labels)) #classification report from sklearn\n",
    "    cnf_matrix = confusion_matrix(actual, predicted, labels=labels)\n",
    "    plt.imshow(cnf_matrix, cmap=plt.cm.Blues) #plot confusion matrix grid\n",
    "    threshold = cnf_matrix.max() / 2 #threshold to define text color\n",
    "    for i in range(cnf_matrix.shape[0]): #print text in grid\n",
    "        for j in range(cnf_matrix.shape[1]): \n",
    "            plt.text(j, i, cnf_matrix[i,j], color=\"w\" if cnf_matrix[i,j] > threshold else 'black')\n",
    "    tick_marks = np.arange(len(labels)) #define labeling spacing based on number of classes\n",
    "    plt.xticks(tick_marks, labels, rotation=45)\n",
    "    plt.yticks(tick_marks, labels)\n",
    "    plt.ylabel('True label')\n",
    "    plt.xlabel('Predicted label')\n",
    "    plt.colorbar()\n",
    "    plt.tight_layout()\n",
    "    return score(actual, predicted)"
   ]
  },
  {
   "cell_type": "code",
   "execution_count": 9,
   "metadata": {},
   "outputs": [],
   "source": [
    "def d2v(data, model):\n",
    "    tokenized_doc = []\n",
    "    \n",
    "    for d in data.News:\n",
    "        tokenized_doc.append(word_tokenize(d))\n",
    "    print(\"finished word tokenization\")\n",
    "        \n",
    "    vector = []\n",
    "    \n",
    "    for i in tokenized_doc:\n",
    "        vector.append(model.infer_vector(i))\n",
    "    print(\"finished vector representation\")\n",
    "        \n",
    "    if len(vector) == len(data.News):\n",
    "        tmp = pd.DataFrame(vector)\n",
    "        data_tmp = pd.concat([data.reset_index(drop=True), tmp], axis = 1).copy()\n",
    "        return data_tmp\n",
    "    else:\n",
    "        return (\"The length of vector dose not matched!\")"
   ]
  },
  {
   "cell_type": "markdown",
   "metadata": {
    "id": "4RnnZGlf_Q6r"
   },
   "source": [
    "# Input sp500 data"
   ]
  },
  {
   "cell_type": "code",
   "execution_count": 10,
   "metadata": {
    "colab": {
     "base_uri": "https://localhost:8080/",
     "height": 428
    },
    "executionInfo": {
     "elapsed": 1039,
     "status": "ok",
     "timestamp": 1623805996110,
     "user": {
      "displayName": "HO CHI YU",
      "photoUrl": "",
      "userId": "18254165649626667365"
     },
     "user_tz": -480
    },
    "id": "Muym8WlJ_Q6r",
    "outputId": "32df4b11-ea70-4108-cfbe-03b9f1f6e842"
   },
   "outputs": [
    {
     "data": {
      "text/html": [
       "<div>\n",
       "<style scoped>\n",
       "    .dataframe tbody tr th:only-of-type {\n",
       "        vertical-align: middle;\n",
       "    }\n",
       "\n",
       "    .dataframe tbody tr th {\n",
       "        vertical-align: top;\n",
       "    }\n",
       "\n",
       "    .dataframe thead th {\n",
       "        text-align: right;\n",
       "    }\n",
       "</style>\n",
       "<table border=\"1\" class=\"dataframe\">\n",
       "  <thead>\n",
       "    <tr style=\"text-align: right;\">\n",
       "      <th></th>\n",
       "      <th>0</th>\n",
       "      <th>1</th>\n",
       "      <th>2</th>\n",
       "      <th>3</th>\n",
       "      <th>4</th>\n",
       "      <th>5</th>\n",
       "      <th>6</th>\n",
       "    </tr>\n",
       "  </thead>\n",
       "  <tbody>\n",
       "    <tr>\n",
       "      <th>0</th>\n",
       "      <td>01/04/2007</td>\n",
       "      <td>17:15:00</td>\n",
       "      <td>1430.00</td>\n",
       "      <td>1431.00</td>\n",
       "      <td>1429.75</td>\n",
       "      <td>1431.00</td>\n",
       "      <td>592</td>\n",
       "    </tr>\n",
       "    <tr>\n",
       "      <th>1</th>\n",
       "      <td>01/04/2007</td>\n",
       "      <td>17:30:00</td>\n",
       "      <td>1431.00</td>\n",
       "      <td>1431.50</td>\n",
       "      <td>1430.75</td>\n",
       "      <td>1430.75</td>\n",
       "      <td>461</td>\n",
       "    </tr>\n",
       "    <tr>\n",
       "      <th>2</th>\n",
       "      <td>01/04/2007</td>\n",
       "      <td>17:45:00</td>\n",
       "      <td>1430.50</td>\n",
       "      <td>1431.00</td>\n",
       "      <td>1430.25</td>\n",
       "      <td>1430.50</td>\n",
       "      <td>264</td>\n",
       "    </tr>\n",
       "    <tr>\n",
       "      <th>3</th>\n",
       "      <td>01/04/2007</td>\n",
       "      <td>18:00:00</td>\n",
       "      <td>1430.50</td>\n",
       "      <td>1430.75</td>\n",
       "      <td>1430.25</td>\n",
       "      <td>1430.75</td>\n",
       "      <td>91</td>\n",
       "    </tr>\n",
       "    <tr>\n",
       "      <th>4</th>\n",
       "      <td>01/04/2007</td>\n",
       "      <td>18:15:00</td>\n",
       "      <td>1431.00</td>\n",
       "      <td>1432.00</td>\n",
       "      <td>1431.00</td>\n",
       "      <td>1431.25</td>\n",
       "      <td>561</td>\n",
       "    </tr>\n",
       "    <tr>\n",
       "      <th>...</th>\n",
       "      <td>...</td>\n",
       "      <td>...</td>\n",
       "      <td>...</td>\n",
       "      <td>...</td>\n",
       "      <td>...</td>\n",
       "      <td>...</td>\n",
       "      <td>...</td>\n",
       "    </tr>\n",
       "    <tr>\n",
       "      <th>322193</th>\n",
       "      <td>07/12/2020</td>\n",
       "      <td>22:45:00</td>\n",
       "      <td>3681.25</td>\n",
       "      <td>3681.50</td>\n",
       "      <td>3680.50</td>\n",
       "      <td>3681.00</td>\n",
       "      <td>787</td>\n",
       "    </tr>\n",
       "    <tr>\n",
       "      <th>322194</th>\n",
       "      <td>07/12/2020</td>\n",
       "      <td>23:00:00</td>\n",
       "      <td>3681.25</td>\n",
       "      <td>3682.50</td>\n",
       "      <td>3681.25</td>\n",
       "      <td>3682.25</td>\n",
       "      <td>1179</td>\n",
       "    </tr>\n",
       "    <tr>\n",
       "      <th>322195</th>\n",
       "      <td>07/12/2020</td>\n",
       "      <td>23:15:00</td>\n",
       "      <td>3682.25</td>\n",
       "      <td>3683.00</td>\n",
       "      <td>3681.50</td>\n",
       "      <td>3681.50</td>\n",
       "      <td>1087</td>\n",
       "    </tr>\n",
       "    <tr>\n",
       "      <th>322196</th>\n",
       "      <td>07/12/2020</td>\n",
       "      <td>23:30:00</td>\n",
       "      <td>3681.75</td>\n",
       "      <td>3682.75</td>\n",
       "      <td>3681.50</td>\n",
       "      <td>3682.00</td>\n",
       "      <td>1291</td>\n",
       "    </tr>\n",
       "    <tr>\n",
       "      <th>322197</th>\n",
       "      <td>07/12/2020</td>\n",
       "      <td>23:45:00</td>\n",
       "      <td>3682.00</td>\n",
       "      <td>3682.50</td>\n",
       "      <td>3681.50</td>\n",
       "      <td>3682.00</td>\n",
       "      <td>888</td>\n",
       "    </tr>\n",
       "  </tbody>\n",
       "</table>\n",
       "<p>322198 rows × 7 columns</p>\n",
       "</div>"
      ],
      "text/plain": [
       "                 0         1        2        3        4        5     6\n",
       "0       01/04/2007  17:15:00  1430.00  1431.00  1429.75  1431.00   592\n",
       "1       01/04/2007  17:30:00  1431.00  1431.50  1430.75  1430.75   461\n",
       "2       01/04/2007  17:45:00  1430.50  1431.00  1430.25  1430.50   264\n",
       "3       01/04/2007  18:00:00  1430.50  1430.75  1430.25  1430.75    91\n",
       "4       01/04/2007  18:15:00  1431.00  1432.00  1431.00  1431.25   561\n",
       "...            ...       ...      ...      ...      ...      ...   ...\n",
       "322193  07/12/2020  22:45:00  3681.25  3681.50  3680.50  3681.00   787\n",
       "322194  07/12/2020  23:00:00  3681.25  3682.50  3681.25  3682.25  1179\n",
       "322195  07/12/2020  23:15:00  3682.25  3683.00  3681.50  3681.50  1087\n",
       "322196  07/12/2020  23:30:00  3681.75  3682.75  3681.50  3682.00  1291\n",
       "322197  07/12/2020  23:45:00  3682.00  3682.50  3681.50  3682.00   888\n",
       "\n",
       "[322198 rows x 7 columns]"
      ]
     },
     "execution_count": 10,
     "metadata": {},
     "output_type": "execute_result"
    }
   ],
   "source": [
    "price_path =                    # URL of price's data\n",
    "\n",
    "price = pd.read_csv(price_path, sep=';', header = None)\n",
    "price"
   ]
  },
  {
   "cell_type": "code",
   "execution_count": 14,
   "metadata": {
    "executionInfo": {
     "elapsed": 4,
     "status": "ok",
     "timestamp": 1623805996111,
     "user": {
      "displayName": "HO CHI YU",
      "photoUrl": "",
      "userId": "18254165649626667365"
     },
     "user_tz": -480
    },
    "id": "dSLXbiJ5_Q6t"
   },
   "outputs": [],
   "source": [
    "price.columns = [\"Date\", \"Time\", \"Open\", \"High\", \"Low\", \"Close\", \"Volume\" ]"
   ]
  },
  {
   "cell_type": "code",
   "execution_count": 15,
   "metadata": {
    "executionInfo": {
     "elapsed": 492,
     "status": "ok",
     "timestamp": 1623805996600,
     "user": {
      "displayName": "HO CHI YU",
      "photoUrl": "",
      "userId": "18254165649626667365"
     },
     "user_tz": -480
    },
    "id": "ujp1p_Gm_Q6t"
   },
   "outputs": [],
   "source": [
    "price.Date = price.Date + \" \" + price.Time "
   ]
  },
  {
   "cell_type": "code",
   "execution_count": 16,
   "metadata": {
    "colab": {
     "base_uri": "https://localhost:8080/",
     "height": 568
    },
    "executionInfo": {
     "elapsed": 8,
     "status": "ok",
     "timestamp": 1623805996601,
     "user": {
      "displayName": "HO CHI YU",
      "photoUrl": "",
      "userId": "18254165649626667365"
     },
     "user_tz": -480
    },
    "id": "IJx-mk_y_Q6u",
    "outputId": "cab1d923-6c69-4311-d320-cc021521dfd3"
   },
   "outputs": [
    {
     "data": {
      "text/html": [
       "<div>\n",
       "<style scoped>\n",
       "    .dataframe tbody tr th:only-of-type {\n",
       "        vertical-align: middle;\n",
       "    }\n",
       "\n",
       "    .dataframe tbody tr th {\n",
       "        vertical-align: top;\n",
       "    }\n",
       "\n",
       "    .dataframe thead th {\n",
       "        text-align: right;\n",
       "    }\n",
       "</style>\n",
       "<table border=\"1\" class=\"dataframe\">\n",
       "  <thead>\n",
       "    <tr style=\"text-align: right;\">\n",
       "      <th></th>\n",
       "      <th>Date</th>\n",
       "      <th>Time</th>\n",
       "      <th>Open</th>\n",
       "      <th>High</th>\n",
       "      <th>Low</th>\n",
       "      <th>Close</th>\n",
       "      <th>Volume</th>\n",
       "    </tr>\n",
       "  </thead>\n",
       "  <tbody>\n",
       "    <tr>\n",
       "      <th>0</th>\n",
       "      <td>01/04/2007 17:15:00</td>\n",
       "      <td>17:15:00</td>\n",
       "      <td>1430.00</td>\n",
       "      <td>1431.00</td>\n",
       "      <td>1429.75</td>\n",
       "      <td>1431.00</td>\n",
       "      <td>592</td>\n",
       "    </tr>\n",
       "    <tr>\n",
       "      <th>1</th>\n",
       "      <td>01/04/2007 17:30:00</td>\n",
       "      <td>17:30:00</td>\n",
       "      <td>1431.00</td>\n",
       "      <td>1431.50</td>\n",
       "      <td>1430.75</td>\n",
       "      <td>1430.75</td>\n",
       "      <td>461</td>\n",
       "    </tr>\n",
       "    <tr>\n",
       "      <th>2</th>\n",
       "      <td>01/04/2007 17:45:00</td>\n",
       "      <td>17:45:00</td>\n",
       "      <td>1430.50</td>\n",
       "      <td>1431.00</td>\n",
       "      <td>1430.25</td>\n",
       "      <td>1430.50</td>\n",
       "      <td>264</td>\n",
       "    </tr>\n",
       "    <tr>\n",
       "      <th>3</th>\n",
       "      <td>01/04/2007 18:00:00</td>\n",
       "      <td>18:00:00</td>\n",
       "      <td>1430.50</td>\n",
       "      <td>1430.75</td>\n",
       "      <td>1430.25</td>\n",
       "      <td>1430.75</td>\n",
       "      <td>91</td>\n",
       "    </tr>\n",
       "    <tr>\n",
       "      <th>4</th>\n",
       "      <td>01/04/2007 18:15:00</td>\n",
       "      <td>18:15:00</td>\n",
       "      <td>1431.00</td>\n",
       "      <td>1432.00</td>\n",
       "      <td>1431.00</td>\n",
       "      <td>1431.25</td>\n",
       "      <td>561</td>\n",
       "    </tr>\n",
       "    <tr>\n",
       "      <th>...</th>\n",
       "      <td>...</td>\n",
       "      <td>...</td>\n",
       "      <td>...</td>\n",
       "      <td>...</td>\n",
       "      <td>...</td>\n",
       "      <td>...</td>\n",
       "      <td>...</td>\n",
       "    </tr>\n",
       "    <tr>\n",
       "      <th>322193</th>\n",
       "      <td>07/12/2020 22:45:00</td>\n",
       "      <td>22:45:00</td>\n",
       "      <td>3681.25</td>\n",
       "      <td>3681.50</td>\n",
       "      <td>3680.50</td>\n",
       "      <td>3681.00</td>\n",
       "      <td>787</td>\n",
       "    </tr>\n",
       "    <tr>\n",
       "      <th>322194</th>\n",
       "      <td>07/12/2020 23:00:00</td>\n",
       "      <td>23:00:00</td>\n",
       "      <td>3681.25</td>\n",
       "      <td>3682.50</td>\n",
       "      <td>3681.25</td>\n",
       "      <td>3682.25</td>\n",
       "      <td>1179</td>\n",
       "    </tr>\n",
       "    <tr>\n",
       "      <th>322195</th>\n",
       "      <td>07/12/2020 23:15:00</td>\n",
       "      <td>23:15:00</td>\n",
       "      <td>3682.25</td>\n",
       "      <td>3683.00</td>\n",
       "      <td>3681.50</td>\n",
       "      <td>3681.50</td>\n",
       "      <td>1087</td>\n",
       "    </tr>\n",
       "    <tr>\n",
       "      <th>322196</th>\n",
       "      <td>07/12/2020 23:30:00</td>\n",
       "      <td>23:30:00</td>\n",
       "      <td>3681.75</td>\n",
       "      <td>3682.75</td>\n",
       "      <td>3681.50</td>\n",
       "      <td>3682.00</td>\n",
       "      <td>1291</td>\n",
       "    </tr>\n",
       "    <tr>\n",
       "      <th>322197</th>\n",
       "      <td>07/12/2020 23:45:00</td>\n",
       "      <td>23:45:00</td>\n",
       "      <td>3682.00</td>\n",
       "      <td>3682.50</td>\n",
       "      <td>3681.50</td>\n",
       "      <td>3682.00</td>\n",
       "      <td>888</td>\n",
       "    </tr>\n",
       "  </tbody>\n",
       "</table>\n",
       "<p>322198 rows × 7 columns</p>\n",
       "</div>"
      ],
      "text/plain": [
       "                       Date      Time     Open     High      Low    Close  \\\n",
       "0       01/04/2007 17:15:00  17:15:00  1430.00  1431.00  1429.75  1431.00   \n",
       "1       01/04/2007 17:30:00  17:30:00  1431.00  1431.50  1430.75  1430.75   \n",
       "2       01/04/2007 17:45:00  17:45:00  1430.50  1431.00  1430.25  1430.50   \n",
       "3       01/04/2007 18:00:00  18:00:00  1430.50  1430.75  1430.25  1430.75   \n",
       "4       01/04/2007 18:15:00  18:15:00  1431.00  1432.00  1431.00  1431.25   \n",
       "...                     ...       ...      ...      ...      ...      ...   \n",
       "322193  07/12/2020 22:45:00  22:45:00  3681.25  3681.50  3680.50  3681.00   \n",
       "322194  07/12/2020 23:00:00  23:00:00  3681.25  3682.50  3681.25  3682.25   \n",
       "322195  07/12/2020 23:15:00  23:15:00  3682.25  3683.00  3681.50  3681.50   \n",
       "322196  07/12/2020 23:30:00  23:30:00  3681.75  3682.75  3681.50  3682.00   \n",
       "322197  07/12/2020 23:45:00  23:45:00  3682.00  3682.50  3681.50  3682.00   \n",
       "\n",
       "        Volume  \n",
       "0          592  \n",
       "1          461  \n",
       "2          264  \n",
       "3           91  \n",
       "4          561  \n",
       "...        ...  \n",
       "322193     787  \n",
       "322194    1179  \n",
       "322195    1087  \n",
       "322196    1291  \n",
       "322197     888  \n",
       "\n",
       "[322198 rows x 7 columns]"
      ]
     },
     "execution_count": 16,
     "metadata": {},
     "output_type": "execute_result"
    }
   ],
   "source": [
    "price"
   ]
  },
  {
   "cell_type": "code",
   "execution_count": 17,
   "metadata": {
    "colab": {
     "base_uri": "https://localhost:8080/"
    },
    "executionInfo": {
     "elapsed": 7,
     "status": "ok",
     "timestamp": 1623805996601,
     "user": {
      "displayName": "HO CHI YU",
      "photoUrl": "",
      "userId": "18254165649626667365"
     },
     "user_tz": -480
    },
    "id": "HGRaNLGo_Q6u",
    "outputId": "13d99655-c779-449f-8ef9-1b003fea5887"
   },
   "outputs": [
    {
     "data": {
      "text/plain": [
       "0"
      ]
     },
     "execution_count": 17,
     "metadata": {},
     "output_type": "execute_result"
    }
   ],
   "source": [
    "sum(price.Close.isnull())"
   ]
  },
  {
   "cell_type": "code",
   "execution_count": 18,
   "metadata": {
    "executionInfo": {
     "elapsed": 6,
     "status": "ok",
     "timestamp": 1623805996601,
     "user": {
      "displayName": "HO CHI YU",
      "photoUrl": "",
      "userId": "18254165649626667365"
     },
     "user_tz": -480
    },
    "id": "cpS14oHi_Q6v"
   },
   "outputs": [],
   "source": [
    "profit = (np.log(price.Close.astype(float)) - np.log(price.Open.astype(float)))*100"
   ]
  },
  {
   "cell_type": "code",
   "execution_count": 19,
   "metadata": {
    "executionInfo": {
     "elapsed": 386,
     "status": "ok",
     "timestamp": 1623805996982,
     "user": {
      "displayName": "HO CHI YU",
      "photoUrl": "",
      "userId": "18254165649626667365"
     },
     "user_tz": -480
    },
    "id": "YJlNFMOH_Q6v"
   },
   "outputs": [],
   "source": [
    "price = pd.DataFrame({\"timestamp\": price.Date, \"Profit\": profit})"
   ]
  },
  {
   "cell_type": "code",
   "execution_count": 20,
   "metadata": {
    "executionInfo": {
     "elapsed": 35052,
     "status": "ok",
     "timestamp": 1623806032032,
     "user": {
      "displayName": "HO CHI YU",
      "photoUrl": "",
      "userId": "18254165649626667365"
     },
     "user_tz": -480
    },
    "id": "RB5SadYl_Q6w"
   },
   "outputs": [],
   "source": [
    "price.timestamp = pd.to_datetime(price.timestamp)"
   ]
  },
  {
   "cell_type": "code",
   "execution_count": 21,
   "metadata": {
    "executionInfo": {
     "elapsed": 8,
     "status": "ok",
     "timestamp": 1623806032034,
     "user": {
      "displayName": "HO CHI YU",
      "photoUrl": "",
      "userId": "18254165649626667365"
     },
     "user_tz": -480
    },
    "id": "qzCRQn58_Q6x"
   },
   "outputs": [],
   "source": [
    "price.timestamp = price.timestamp + timedelta(hours = 1) # change from GMT -6 to GMT -5 "
   ]
  },
  {
   "cell_type": "code",
   "execution_count": 22,
   "metadata": {
    "colab": {
     "base_uri": "https://localhost:8080/"
    },
    "executionInfo": {
     "elapsed": 7,
     "status": "ok",
     "timestamp": 1623806032035,
     "user": {
      "displayName": "HO CHI YU",
      "photoUrl": "",
      "userId": "18254165649626667365"
     },
     "user_tz": -480
    },
    "id": "AzLi9URu_Q6x",
    "outputId": "62b242d4-24af-4078-a855-3b037f55d4c7"
   },
   "outputs": [
    {
     "data": {
      "text/plain": [
       "(322198, 2)"
      ]
     },
     "execution_count": 22,
     "metadata": {},
     "output_type": "execute_result"
    }
   ],
   "source": [
    "price.shape"
   ]
  },
  {
   "cell_type": "markdown",
   "metadata": {
    "id": "ckX8HRj6_Q6y"
   },
   "source": [
    "# Input raw news data"
   ]
  },
  {
   "cell_type": "code",
   "execution_count": 23,
   "metadata": {
    "colab": {
     "base_uri": "https://localhost:8080/"
    },
    "executionInfo": {
     "elapsed": 51039,
     "status": "ok",
     "timestamp": 1623806083069,
     "user": {
      "displayName": "HO CHI YU",
      "photoUrl": "",
      "userId": "18254165649626667365"
     },
     "user_tz": -480
    },
    "id": "KJaJIo3i_Q6y",
    "outputId": "a6f82afd-fdfe-4087-8ca4-610b8ae61d5c"
   },
   "outputs": [
    {
     "name": "stderr",
     "output_type": "stream",
     "text": [
      "/Users/andrewyu/opt/anaconda3/lib/python3.8/site-packages/IPython/core/interactiveshell.py:3155: DtypeWarning: Columns (4) have mixed types.Specify dtype option on import or set low_memory=False.\n",
      "  has_raised = await self.run_ast_nodes(code_ast.body, cell_name,\n"
     ]
    }
   ],
   "source": [
    "news_path =                           # URL of news data\n",
    "news = pd.read_csv(news_path, index_col=None, header=0, sep='\\t')"
   ]
  },
  {
   "cell_type": "code",
   "execution_count": 24,
   "metadata": {
    "colab": {
     "base_uri": "https://localhost:8080/"
    },
    "executionInfo": {
     "elapsed": 10,
     "status": "ok",
     "timestamp": 1623806083070,
     "user": {
      "displayName": "HO CHI YU",
      "photoUrl": "",
      "userId": "18254165649626667365"
     },
     "user_tz": -480
    },
    "id": "wDf1sAao_Q6z",
    "outputId": "060d83ce-0ab3-4229-dbfe-f2f99a8ab372"
   },
   "outputs": [
    {
     "name": "stdout",
     "output_type": "stream",
     "text": [
      "<class 'pandas.core.frame.DataFrame'>\n",
      "RangeIndex: 8551425 entries, 0 to 8551424\n",
      "Data columns (total 5 columns):\n",
      " #   Column    Dtype \n",
      "---  ------    ----- \n",
      " 0   ts        object\n",
      " 1   title     object\n",
      " 2   href      object\n",
      " 3   timezone  object\n",
      " 4   newts     object\n",
      "dtypes: object(5)\n",
      "memory usage: 326.2+ MB\n",
      "None\n"
     ]
    }
   ],
   "source": [
    "print(news.info())"
   ]
  },
  {
   "cell_type": "code",
   "execution_count": 25,
   "metadata": {
    "colab": {
     "base_uri": "https://localhost:8080/",
     "height": 500
    },
    "executionInfo": {
     "elapsed": 8,
     "status": "ok",
     "timestamp": 1623806083071,
     "user": {
      "displayName": "HO CHI YU",
      "photoUrl": "",
      "userId": "18254165649626667365"
     },
     "user_tz": -480
    },
    "id": "keXNtlzU_Q6z",
    "outputId": "27959249-2a29-4dc5-c780-7788f5d04839"
   },
   "outputs": [
    {
     "data": {
      "text/html": [
       "<div>\n",
       "<style scoped>\n",
       "    .dataframe tbody tr th:only-of-type {\n",
       "        vertical-align: middle;\n",
       "    }\n",
       "\n",
       "    .dataframe tbody tr th {\n",
       "        vertical-align: top;\n",
       "    }\n",
       "\n",
       "    .dataframe thead th {\n",
       "        text-align: right;\n",
       "    }\n",
       "</style>\n",
       "<table border=\"1\" class=\"dataframe\">\n",
       "  <thead>\n",
       "    <tr style=\"text-align: right;\">\n",
       "      <th></th>\n",
       "      <th>ts</th>\n",
       "      <th>title</th>\n",
       "      <th>href</th>\n",
       "      <th>timezone</th>\n",
       "      <th>newts</th>\n",
       "    </tr>\n",
       "  </thead>\n",
       "  <tbody>\n",
       "    <tr>\n",
       "      <th>0</th>\n",
       "      <td>2007-01-01 23:47:00</td>\n",
       "      <td>UPDATE 1-TSMC plans five new advanced wafer pl...</td>\n",
       "      <td>http://www.reuters.com/article/companyNewsAndP...</td>\n",
       "      <td>EST</td>\n",
       "      <td>2007-01-01 22:47:00</td>\n",
       "    </tr>\n",
       "    <tr>\n",
       "      <th>1</th>\n",
       "      <td>2007-01-01 23:40:00</td>\n",
       "      <td>U2 roadie gets a moment in the spotlight</td>\n",
       "      <td>http://www.reuters.com/article/musicNews/idUSN...</td>\n",
       "      <td>EST</td>\n",
       "      <td>2007-01-01 22:40:00</td>\n",
       "    </tr>\n",
       "    <tr>\n",
       "      <th>2</th>\n",
       "      <td>2007-01-01 23:12:00</td>\n",
       "      <td>Vietnamese family tested negative for bird flu</td>\n",
       "      <td>http://www.reuters.com/article/globalNews/idUS...</td>\n",
       "      <td>EST</td>\n",
       "      <td>2007-01-01 22:12:00</td>\n",
       "    </tr>\n",
       "    <tr>\n",
       "      <th>3</th>\n",
       "      <td>2007-01-01 22:58:00</td>\n",
       "      <td>Chicago jazz mecca closes doors, perhaps forever</td>\n",
       "      <td>http://www.reuters.com/article/musicNews/idUSN...</td>\n",
       "      <td>EST</td>\n",
       "      <td>2007-01-01 21:58:00</td>\n",
       "    </tr>\n",
       "    <tr>\n",
       "      <th>4</th>\n",
       "      <td>2007-01-01 22:56:00</td>\n",
       "      <td>\"Factory Girl\" affords more fame to Warhol muse</td>\n",
       "      <td>http://www.reuters.com/article/entertainmentNe...</td>\n",
       "      <td>EST</td>\n",
       "      <td>2007-01-01 21:56:00</td>\n",
       "    </tr>\n",
       "  </tbody>\n",
       "</table>\n",
       "</div>"
      ],
      "text/plain": [
       "                    ts                                              title  \\\n",
       "0  2007-01-01 23:47:00  UPDATE 1-TSMC plans five new advanced wafer pl...   \n",
       "1  2007-01-01 23:40:00           U2 roadie gets a moment in the spotlight   \n",
       "2  2007-01-01 23:12:00     Vietnamese family tested negative for bird flu   \n",
       "3  2007-01-01 22:58:00   Chicago jazz mecca closes doors, perhaps forever   \n",
       "4  2007-01-01 22:56:00    \"Factory Girl\" affords more fame to Warhol muse   \n",
       "\n",
       "                                                href timezone  \\\n",
       "0  http://www.reuters.com/article/companyNewsAndP...      EST   \n",
       "1  http://www.reuters.com/article/musicNews/idUSN...      EST   \n",
       "2  http://www.reuters.com/article/globalNews/idUS...      EST   \n",
       "3  http://www.reuters.com/article/musicNews/idUSN...      EST   \n",
       "4  http://www.reuters.com/article/entertainmentNe...      EST   \n",
       "\n",
       "                 newts  \n",
       "0  2007-01-01 22:47:00  \n",
       "1  2007-01-01 22:40:00  \n",
       "2  2007-01-01 22:12:00  \n",
       "3  2007-01-01 21:58:00  \n",
       "4  2007-01-01 21:56:00  "
      ]
     },
     "execution_count": 25,
     "metadata": {},
     "output_type": "execute_result"
    }
   ],
   "source": [
    "news.head()"
   ]
  },
  {
   "cell_type": "code",
   "execution_count": 26,
   "metadata": {
    "executionInfo": {
     "elapsed": 460,
     "status": "ok",
     "timestamp": 1623806083526,
     "user": {
      "displayName": "HO CHI YU",
      "photoUrl": "",
      "userId": "18254165649626667365"
     },
     "user_tz": -480
    },
    "id": "q6z__fLf_Q60"
   },
   "outputs": [],
   "source": [
    "news.drop(\"newts\", axis = 1, inplace = True)"
   ]
  },
  {
   "cell_type": "code",
   "execution_count": 27,
   "metadata": {
    "executionInfo": {
     "elapsed": 1807,
     "status": "ok",
     "timestamp": 1623806085331,
     "user": {
      "displayName": "HO CHI YU",
      "photoUrl": "",
      "userId": "18254165649626667365"
     },
     "user_tz": -480
    },
    "id": "8E197GhM_Q60"
   },
   "outputs": [],
   "source": [
    "news.ts = pd.to_datetime(news.ts)"
   ]
  },
  {
   "cell_type": "code",
   "execution_count": 28,
   "metadata": {
    "executionInfo": {
     "elapsed": 3927,
     "status": "ok",
     "timestamp": 1623806089256,
     "user": {
      "displayName": "HO CHI YU",
      "photoUrl": "",
      "userId": "18254165649626667365"
     },
     "user_tz": -480
    },
    "id": "C59yk71F_Q60"
   },
   "outputs": [],
   "source": [
    "# convert all timezone to EST\n",
    "news.loc[news.timezone == \"UTC\", \"timestamp\"] = news.loc[news.timezone == \"UTC\", \"ts\"] - timedelta(hours = 5)\n",
    "news.loc[news.timezone == \"EDT\", \"timestamp\"] = news.loc[news.timezone == \"EDT\", \"ts\"] - timedelta(hours = 1)\n",
    "news.loc[news.timezone == \"EST\", \"timestamp\"] = news.loc[news.timezone == \"EST\", \"ts\"] "
   ]
  },
  {
   "cell_type": "code",
   "execution_count": 29,
   "metadata": {
    "executionInfo": {
     "elapsed": 26266,
     "status": "ok",
     "timestamp": 1623806115520,
     "user": {
      "displayName": "HO CHI YU",
      "photoUrl": "",
      "userId": "18254165649626667365"
     },
     "user_tz": -480
    },
    "id": "0WMWtJz1_Q61"
   },
   "outputs": [],
   "source": [
    "news.timestamp = news.timestamp.astype(str)\n",
    "news.timestamp = news.timestamp.apply(tcon) # convert time into 15 mins interval\n",
    "news.timestamp = pd.to_datetime(news.timestamp)"
   ]
  },
  {
   "cell_type": "code",
   "execution_count": 30,
   "metadata": {
    "colab": {
     "base_uri": "https://localhost:8080/",
     "height": 63
    },
    "executionInfo": {
     "elapsed": 534,
     "status": "ok",
     "timestamp": 1623806116052,
     "user": {
      "displayName": "HO CHI YU",
      "photoUrl": "",
      "userId": "18254165649626667365"
     },
     "user_tz": -480
    },
    "id": "WUC_CVky_Q61",
    "outputId": "3d96ca8e-11aa-4544-ed8a-44aa591c9dce"
   },
   "outputs": [
    {
     "data": {
      "text/html": [
       "<div>\n",
       "<style scoped>\n",
       "    .dataframe tbody tr th:only-of-type {\n",
       "        vertical-align: middle;\n",
       "    }\n",
       "\n",
       "    .dataframe tbody tr th {\n",
       "        vertical-align: top;\n",
       "    }\n",
       "\n",
       "    .dataframe thead th {\n",
       "        text-align: right;\n",
       "    }\n",
       "</style>\n",
       "<table border=\"1\" class=\"dataframe\">\n",
       "  <thead>\n",
       "    <tr style=\"text-align: right;\">\n",
       "      <th></th>\n",
       "      <th>ts</th>\n",
       "      <th>title</th>\n",
       "      <th>href</th>\n",
       "      <th>timezone</th>\n",
       "      <th>timestamp</th>\n",
       "    </tr>\n",
       "  </thead>\n",
       "  <tbody>\n",
       "  </tbody>\n",
       "</table>\n",
       "</div>"
      ],
      "text/plain": [
       "Empty DataFrame\n",
       "Columns: [ts, title, href, timezone, timestamp]\n",
       "Index: []"
      ]
     },
     "execution_count": 30,
     "metadata": {},
     "output_type": "execute_result"
    }
   ],
   "source": [
    "news[news['title'].isnull()]"
   ]
  },
  {
   "cell_type": "code",
   "execution_count": 31,
   "metadata": {
    "executionInfo": {
     "elapsed": 24992,
     "status": "ok",
     "timestamp": 1623806141042,
     "user": {
      "displayName": "HO CHI YU",
      "photoUrl": "",
      "userId": "18254165649626667365"
     },
     "user_tz": -480
    },
    "id": "hVDcIdbb_Q62"
   },
   "outputs": [],
   "source": [
    "news = news[['timestamp','title','href']].drop_duplicates() #drop_duplicates if have duplicates input"
   ]
  },
  {
   "cell_type": "code",
   "execution_count": 32,
   "metadata": {
    "executionInfo": {
     "elapsed": 7,
     "status": "ok",
     "timestamp": 1623806141044,
     "user": {
      "displayName": "HO CHI YU",
      "photoUrl": "",
      "userId": "18254165649626667365"
     },
     "user_tz": -480
    },
    "id": "TcOUUzB5_Q62"
   },
   "outputs": [],
   "source": [
    "news = news[[\"timestamp\",\"title\"]]"
   ]
  },
  {
   "cell_type": "code",
   "execution_count": 33,
   "metadata": {
    "colab": {
     "base_uri": "https://localhost:8080/"
    },
    "executionInfo": {
     "elapsed": 6,
     "status": "ok",
     "timestamp": 1623806141045,
     "user": {
      "displayName": "HO CHI YU",
      "photoUrl": "",
      "userId": "18254165649626667365"
     },
     "user_tz": -480
    },
    "id": "nC2rwfJX_Q63",
    "outputId": "b5816240-d7cd-450f-a2da-f80cbc8c45d6"
   },
   "outputs": [
    {
     "data": {
      "text/plain": [
       "(8551425, 2)"
      ]
     },
     "execution_count": 33,
     "metadata": {},
     "output_type": "execute_result"
    }
   ],
   "source": [
    "news.shape"
   ]
  },
  {
   "cell_type": "markdown",
   "metadata": {
    "id": "BiXITDnr_Q63"
   },
   "source": [
    "# Merge 2 dataset"
   ]
  },
  {
   "cell_type": "code",
   "execution_count": 34,
   "metadata": {
    "executionInfo": {
     "elapsed": 462,
     "status": "ok",
     "timestamp": 1623806141502,
     "user": {
      "displayName": "HO CHI YU",
      "photoUrl": "",
      "userId": "18254165649626667365"
     },
     "user_tz": -480
    },
    "id": "uVpsojbC_Q64"
   },
   "outputs": [],
   "source": [
    "news.timestamp = news.timestamp + timedelta(minutes = 15) # histrorical news to predict future news"
   ]
  },
  {
   "cell_type": "code",
   "execution_count": 35,
   "metadata": {
    "colab": {
     "base_uri": "https://localhost:8080/"
    },
    "executionInfo": {
     "elapsed": 4,
     "status": "ok",
     "timestamp": 1623806141503,
     "user": {
      "displayName": "HO CHI YU",
      "photoUrl": "",
      "userId": "18254165649626667365"
     },
     "user_tz": -480
    },
    "id": "zorhP5tX_Q64",
    "outputId": "fe23ba00-9e55-44a9-9925-08934024ad3d"
   },
   "outputs": [
    {
     "name": "stdout",
     "output_type": "stream",
     "text": [
      "Earilest news:  2007-01-01 01:00:00 \n",
      "Latest news:  2016-08-16 19:00:00 \n",
      "\n",
      "Earilest return:  2007-01-04 18:15:00 \n",
      "Latest return:  2020-12-12 00:45:00\n"
     ]
    }
   ],
   "source": [
    "print(\"Earilest news: \" , news.timestamp.min() , \"\\nLatest news: \" , news.timestamp.max() , \"\\n\\nEarilest return: \" , price.timestamp.min() , \"\\nLatest return: \" , price.timestamp.max()) "
   ]
  },
  {
   "cell_type": "code",
   "execution_count": 36,
   "metadata": {
    "executionInfo": {
     "elapsed": 3,
     "status": "ok",
     "timestamp": 1623806141503,
     "user": {
      "displayName": "HO CHI YU",
      "photoUrl": "",
      "userId": "18254165649626667365"
     },
     "user_tz": -480
    },
    "id": "1ztkD_KS_Q66"
   },
   "outputs": [],
   "source": [
    "t = pd.DataFrame({\"timestamp\": pd.date_range('2007-01-01', '2016-08-16', freq='15min')})"
   ]
  },
  {
   "cell_type": "code",
   "execution_count": 37,
   "metadata": {
    "executionInfo": {
     "elapsed": 2349,
     "status": "ok",
     "timestamp": 1623806143849,
     "user": {
      "displayName": "HO CHI YU",
      "photoUrl": "",
      "userId": "18254165649626667365"
     },
     "user_tz": -480
    },
    "id": "Igr2SFBk_Q67"
   },
   "outputs": [],
   "source": [
    "t = pd.merge(t, price, on= \"timestamp\", how = \"left\")\n",
    "df = pd.merge(t, news, on= \"timestamp\", how = \"left\")"
   ]
  },
  {
   "cell_type": "code",
   "execution_count": 38,
   "metadata": {
    "id": "Sn9zbT1S_Q69"
   },
   "outputs": [],
   "source": [
    "df.timestamp = pd.to_datetime(df.timestamp) \n",
    "df.loc[df.title.notnull() == False,\"title\"] = \"Empty\"\n",
    "df[\"title\"] = df.groupby('timestamp')['title'].transform(lambda x: ' '.join(x)) # combine all news released in the same time interval together\n",
    "df = df[['timestamp','Profit','title']].drop_duplicates()"
   ]
  },
  {
   "cell_type": "code",
   "execution_count": 39,
   "metadata": {
    "id": "t7p_pzEk_Q6-"
   },
   "outputs": [],
   "source": [
    "# to capture time lag, each data row contained 4 set of news repersenting news released before 0-3 x time intervals\n",
    "df[\"news2\"] = np.append([\"EMP\"], df.title[0:-1])\n",
    "df[\"news3\"] = np.append([\"EMP\"], df.news2[0:-1])\n",
    "df[\"news4\"] = np.append([\"EMP\"], df.news3[0:-1])"
   ]
  },
  {
   "cell_type": "code",
   "execution_count": 40,
   "metadata": {
    "id": "SVs1_EdW_Q6-"
   },
   "outputs": [],
   "source": [
    "df = df[df.timestamp >= \"2007-01-04 18:15:00\"] # filter out the data without stock return\n",
    "df = df[df.timestamp <= \"2016-08-16 18:30:00 \"] # filter out the data without news record"
   ]
  },
  {
   "cell_type": "code",
   "execution_count": 41,
   "metadata": {
    "id": "4IhijWLG_Q6_"
   },
   "outputs": [
    {
     "data": {
      "text/plain": [
       "0.34301056129108815"
      ]
     },
     "execution_count": 41,
     "metadata": {},
     "output_type": "execute_result"
    }
   ],
   "source": [
    "df.Profit.isnull().sum()/ len(df.Profit)"
   ]
  },
  {
   "cell_type": "code",
   "execution_count": 42,
   "metadata": {
    "id": "LWznDU1M_Q6_"
   },
   "outputs": [],
   "source": [
    "df = df[df.Profit.isnull() == False] # Only keep on reliable data"
   ]
  },
  {
   "cell_type": "code",
   "execution_count": 43,
   "metadata": {
    "id": "HTdre3wy_Q7A"
   },
   "outputs": [
    {
     "data": {
      "text/html": [
       "<div>\n",
       "<style scoped>\n",
       "    .dataframe tbody tr th:only-of-type {\n",
       "        vertical-align: middle;\n",
       "    }\n",
       "\n",
       "    .dataframe tbody tr th {\n",
       "        vertical-align: top;\n",
       "    }\n",
       "\n",
       "    .dataframe thead th {\n",
       "        text-align: right;\n",
       "    }\n",
       "</style>\n",
       "<table border=\"1\" class=\"dataframe\">\n",
       "  <thead>\n",
       "    <tr style=\"text-align: right;\">\n",
       "      <th></th>\n",
       "      <th>timestamp</th>\n",
       "      <th>Profit</th>\n",
       "      <th>title</th>\n",
       "      <th>news2</th>\n",
       "      <th>news3</th>\n",
       "      <th>news4</th>\n",
       "    </tr>\n",
       "  </thead>\n",
       "  <tbody>\n",
       "    <tr>\n",
       "      <th>1881</th>\n",
       "      <td>2007-01-04 18:15:00</td>\n",
       "      <td>0.069906</td>\n",
       "      <td>UPDATE 1-Power confirms Putnam talks but says ...</td>\n",
       "      <td>US STOCKS-Indexes end up as Intel lifts techs,...</td>\n",
       "      <td>Former President Bush has second hip replaceme...</td>\n",
       "      <td>Power Financial confirms Putnam talks; no deal...</td>\n",
       "    </tr>\n",
       "    <tr>\n",
       "      <th>1888</th>\n",
       "      <td>2007-01-04 18:30:00</td>\n",
       "      <td>-0.017472</td>\n",
       "      <td>Negroponte adds weight to U.S. diplomacy Japan...</td>\n",
       "      <td>UPDATE 1-Power confirms Putnam talks but says ...</td>\n",
       "      <td>US STOCKS-Indexes end up as Intel lifts techs,...</td>\n",
       "      <td>Former President Bush has second hip replaceme...</td>\n",
       "    </tr>\n",
       "    <tr>\n",
       "      <th>1899</th>\n",
       "      <td>2007-01-04 18:45:00</td>\n",
       "      <td>0.000000</td>\n",
       "      <td>Foreign brokers place net Japan stock sell ord...</td>\n",
       "      <td>Negroponte adds weight to U.S. diplomacy Japan...</td>\n",
       "      <td>UPDATE 1-Power confirms Putnam talks but says ...</td>\n",
       "      <td>US STOCKS-Indexes end up as Intel lifts techs,...</td>\n",
       "    </tr>\n",
       "    <tr>\n",
       "      <th>1908</th>\n",
       "      <td>2007-01-04 19:00:00</td>\n",
       "      <td>0.017475</td>\n",
       "      <td>New U.N. chief speeds plans to reshape bureauc...</td>\n",
       "      <td>Foreign brokers place net Japan stock sell ord...</td>\n",
       "      <td>Negroponte adds weight to U.S. diplomacy Japan...</td>\n",
       "      <td>UPDATE 1-Power confirms Putnam talks but says ...</td>\n",
       "    </tr>\n",
       "    <tr>\n",
       "      <th>1926</th>\n",
       "      <td>2007-01-04 19:15:00</td>\n",
       "      <td>0.017469</td>\n",
       "      <td>Longs Drug Stores December same-store US sales...</td>\n",
       "      <td>New U.N. chief speeds plans to reshape bureauc...</td>\n",
       "      <td>Foreign brokers place net Japan stock sell ord...</td>\n",
       "      <td>Negroponte adds weight to U.S. diplomacy Japan...</td>\n",
       "    </tr>\n",
       "    <tr>\n",
       "      <th>...</th>\n",
       "      <td>...</td>\n",
       "      <td>...</td>\n",
       "      <td>...</td>\n",
       "      <td>...</td>\n",
       "      <td>...</td>\n",
       "      <td>...</td>\n",
       "    </tr>\n",
       "    <tr>\n",
       "      <th>8560455</th>\n",
       "      <td>2016-08-15 23:00:00</td>\n",
       "      <td>0.000000</td>\n",
       "      <td>Column: Who do you hate the least? The dilemma...</td>\n",
       "      <td>BRIEF-Shanghai Shenda cuts share issue size to...</td>\n",
       "      <td>BRIEF-Her Chee Industrial to pay 2015 dividend...</td>\n",
       "      <td>BRIEF-Akis REIT Q2 net result turns to profit ...</td>\n",
       "    </tr>\n",
       "    <tr>\n",
       "      <th>8560461</th>\n",
       "      <td>2016-08-15 23:15:00</td>\n",
       "      <td>0.011450</td>\n",
       "      <td>Shooting: Americans miss the mark, Europeans r...</td>\n",
       "      <td>Column: Who do you hate the least? The dilemma...</td>\n",
       "      <td>BRIEF-Shanghai Shenda cuts share issue size to...</td>\n",
       "      <td>BRIEF-Her Chee Industrial to pay 2015 dividend...</td>\n",
       "    </tr>\n",
       "    <tr>\n",
       "      <th>8560477</th>\n",
       "      <td>2016-08-15 23:30:00</td>\n",
       "      <td>0.000000</td>\n",
       "      <td>BRIEF-Domenomania.pl Q2 net profit up at 39,40...</td>\n",
       "      <td>Shooting: Americans miss the mark, Europeans r...</td>\n",
       "      <td>Column: Who do you hate the least? The dilemma...</td>\n",
       "      <td>BRIEF-Shanghai Shenda cuts share issue size to...</td>\n",
       "    </tr>\n",
       "    <tr>\n",
       "      <th>8560495</th>\n",
       "      <td>2016-08-15 23:45:00</td>\n",
       "      <td>0.000000</td>\n",
       "      <td>China Filmâs opening week follows bad IPO sc...</td>\n",
       "      <td>BRIEF-Domenomania.pl Q2 net profit up at 39,40...</td>\n",
       "      <td>Shooting: Americans miss the mark, Europeans r...</td>\n",
       "      <td>Column: Who do you hate the least? The dilemma...</td>\n",
       "    </tr>\n",
       "    <tr>\n",
       "      <th>8560510</th>\n",
       "      <td>2016-08-16 00:00:00</td>\n",
       "      <td>-0.011449</td>\n",
       "      <td>BRIEF-Skardin Industrial says 2015 dividend re...</td>\n",
       "      <td>China Filmâs opening week follows bad IPO sc...</td>\n",
       "      <td>BRIEF-Domenomania.pl Q2 net profit up at 39,40...</td>\n",
       "      <td>Shooting: Americans miss the mark, Europeans r...</td>\n",
       "    </tr>\n",
       "  </tbody>\n",
       "</table>\n",
       "<p>221458 rows × 6 columns</p>\n",
       "</div>"
      ],
      "text/plain": [
       "                  timestamp    Profit  \\\n",
       "1881    2007-01-04 18:15:00  0.069906   \n",
       "1888    2007-01-04 18:30:00 -0.017472   \n",
       "1899    2007-01-04 18:45:00  0.000000   \n",
       "1908    2007-01-04 19:00:00  0.017475   \n",
       "1926    2007-01-04 19:15:00  0.017469   \n",
       "...                     ...       ...   \n",
       "8560455 2016-08-15 23:00:00  0.000000   \n",
       "8560461 2016-08-15 23:15:00  0.011450   \n",
       "8560477 2016-08-15 23:30:00  0.000000   \n",
       "8560495 2016-08-15 23:45:00  0.000000   \n",
       "8560510 2016-08-16 00:00:00 -0.011449   \n",
       "\n",
       "                                                     title  \\\n",
       "1881     UPDATE 1-Power confirms Putnam talks but says ...   \n",
       "1888     Negroponte adds weight to U.S. diplomacy Japan...   \n",
       "1899     Foreign brokers place net Japan stock sell ord...   \n",
       "1908     New U.N. chief speeds plans to reshape bureauc...   \n",
       "1926     Longs Drug Stores December same-store US sales...   \n",
       "...                                                    ...   \n",
       "8560455  Column: Who do you hate the least? The dilemma...   \n",
       "8560461  Shooting: Americans miss the mark, Europeans r...   \n",
       "8560477  BRIEF-Domenomania.pl Q2 net profit up at 39,40...   \n",
       "8560495  China Filmâs opening week follows bad IPO sc...   \n",
       "8560510  BRIEF-Skardin Industrial says 2015 dividend re...   \n",
       "\n",
       "                                                     news2  \\\n",
       "1881     US STOCKS-Indexes end up as Intel lifts techs,...   \n",
       "1888     UPDATE 1-Power confirms Putnam talks but says ...   \n",
       "1899     Negroponte adds weight to U.S. diplomacy Japan...   \n",
       "1908     Foreign brokers place net Japan stock sell ord...   \n",
       "1926     New U.N. chief speeds plans to reshape bureauc...   \n",
       "...                                                    ...   \n",
       "8560455  BRIEF-Shanghai Shenda cuts share issue size to...   \n",
       "8560461  Column: Who do you hate the least? The dilemma...   \n",
       "8560477  Shooting: Americans miss the mark, Europeans r...   \n",
       "8560495  BRIEF-Domenomania.pl Q2 net profit up at 39,40...   \n",
       "8560510  China Filmâs opening week follows bad IPO sc...   \n",
       "\n",
       "                                                     news3  \\\n",
       "1881     Former President Bush has second hip replaceme...   \n",
       "1888     US STOCKS-Indexes end up as Intel lifts techs,...   \n",
       "1899     UPDATE 1-Power confirms Putnam talks but says ...   \n",
       "1908     Negroponte adds weight to U.S. diplomacy Japan...   \n",
       "1926     Foreign brokers place net Japan stock sell ord...   \n",
       "...                                                    ...   \n",
       "8560455  BRIEF-Her Chee Industrial to pay 2015 dividend...   \n",
       "8560461  BRIEF-Shanghai Shenda cuts share issue size to...   \n",
       "8560477  Column: Who do you hate the least? The dilemma...   \n",
       "8560495  Shooting: Americans miss the mark, Europeans r...   \n",
       "8560510  BRIEF-Domenomania.pl Q2 net profit up at 39,40...   \n",
       "\n",
       "                                                     news4  \n",
       "1881     Power Financial confirms Putnam talks; no deal...  \n",
       "1888     Former President Bush has second hip replaceme...  \n",
       "1899     US STOCKS-Indexes end up as Intel lifts techs,...  \n",
       "1908     UPDATE 1-Power confirms Putnam talks but says ...  \n",
       "1926     Negroponte adds weight to U.S. diplomacy Japan...  \n",
       "...                                                    ...  \n",
       "8560455  BRIEF-Akis REIT Q2 net result turns to profit ...  \n",
       "8560461  BRIEF-Her Chee Industrial to pay 2015 dividend...  \n",
       "8560477  BRIEF-Shanghai Shenda cuts share issue size to...  \n",
       "8560495  Column: Who do you hate the least? The dilemma...  \n",
       "8560510  Shooting: Americans miss the mark, Europeans r...  \n",
       "\n",
       "[221458 rows x 6 columns]"
      ]
     },
     "execution_count": 43,
     "metadata": {},
     "output_type": "execute_result"
    }
   ],
   "source": [
    "df"
   ]
  },
  {
   "cell_type": "code",
   "execution_count": 44,
   "metadata": {
    "id": "vSkbygcT_Q7A"
   },
   "outputs": [],
   "source": [
    "df['News'] = df[['title', 'news2', 'news3', 'news4']].apply(lambda x: ' '.join(x), axis=1)"
   ]
  },
  {
   "cell_type": "code",
   "execution_count": null,
   "metadata": {
    "id": "jTlX-wzh_Q7B"
   },
   "outputs": [],
   "source": [
    "stopword = stopwords.words('english') \n",
    "df.News = df.News.apply(data_cleaning) # data cleaning for the our inital model, bag of word with td-idf\n",
    "df.News = df.News.apply(lemmatize_sentence) # lemmatization for the our inital model, bag of word with td-idf"
   ]
  },
  {
   "cell_type": "code",
   "execution_count": 10,
   "metadata": {},
   "outputs": [
    {
     "data": {
      "text/html": [
       "<div>\n",
       "<style scoped>\n",
       "    .dataframe tbody tr th:only-of-type {\n",
       "        vertical-align: middle;\n",
       "    }\n",
       "\n",
       "    .dataframe tbody tr th {\n",
       "        vertical-align: top;\n",
       "    }\n",
       "\n",
       "    .dataframe thead th {\n",
       "        text-align: right;\n",
       "    }\n",
       "</style>\n",
       "<table border=\"1\" class=\"dataframe\">\n",
       "  <thead>\n",
       "    <tr style=\"text-align: right;\">\n",
       "      <th></th>\n",
       "      <th>Unnamed: 0</th>\n",
       "      <th>timestamp</th>\n",
       "      <th>Profit</th>\n",
       "      <th>title</th>\n",
       "      <th>news2</th>\n",
       "      <th>news3</th>\n",
       "      <th>news4</th>\n",
       "      <th>News</th>\n",
       "    </tr>\n",
       "  </thead>\n",
       "  <tbody>\n",
       "    <tr>\n",
       "      <th>0</th>\n",
       "      <td>1881</td>\n",
       "      <td>2007-01-04 18:15:00</td>\n",
       "      <td>0.069906</td>\n",
       "      <td>UPDATE 1-Power confirms Putnam talks but says ...</td>\n",
       "      <td>US STOCKS-Indexes end up as Intel lifts techs,...</td>\n",
       "      <td>Former President Bush has second hip replaceme...</td>\n",
       "      <td>Power Financial confirms Putnam talks; no deal...</td>\n",
       "      <td>update confirms putnam talk say deal yet samsu...</td>\n",
       "    </tr>\n",
       "    <tr>\n",
       "      <th>1</th>\n",
       "      <td>1888</td>\n",
       "      <td>2007-01-04 18:30:00</td>\n",
       "      <td>-0.017472</td>\n",
       "      <td>Negroponte adds weight to U.S. diplomacy Japan...</td>\n",
       "      <td>UPDATE 1-Power confirms Putnam talks but says ...</td>\n",
       "      <td>US STOCKS-Indexes end up as Intel lifts techs,...</td>\n",
       "      <td>Former President Bush has second hip replaceme...</td>\n",
       "      <td>negroponte add weight diplomacy japan toshiba ...</td>\n",
       "    </tr>\n",
       "    <tr>\n",
       "      <th>2</th>\n",
       "      <td>1899</td>\n",
       "      <td>2007-01-04 18:45:00</td>\n",
       "      <td>0.000000</td>\n",
       "      <td>Foreign brokers place net Japan stock sell ord...</td>\n",
       "      <td>Negroponte adds weight to U.S. diplomacy Japan...</td>\n",
       "      <td>UPDATE 1-Power confirms Putnam talks but says ...</td>\n",
       "      <td>US STOCKS-Indexes end up as Intel lifts techs,...</td>\n",
       "      <td>foreign broker place net japan stock sell orde...</td>\n",
       "    </tr>\n",
       "    <tr>\n",
       "      <th>3</th>\n",
       "      <td>1908</td>\n",
       "      <td>2007-01-04 19:00:00</td>\n",
       "      <td>0.017475</td>\n",
       "      <td>New U.N. chief speeds plans to reshape bureauc...</td>\n",
       "      <td>Foreign brokers place net Japan stock sell ord...</td>\n",
       "      <td>Negroponte adds weight to U.S. diplomacy Japan...</td>\n",
       "      <td>UPDATE 1-Power confirms Putnam talks but says ...</td>\n",
       "      <td>new chief speed plan reshape bureaucracy updat...</td>\n",
       "    </tr>\n",
       "    <tr>\n",
       "      <th>4</th>\n",
       "      <td>1926</td>\n",
       "      <td>2007-01-04 19:15:00</td>\n",
       "      <td>0.017469</td>\n",
       "      <td>Longs Drug Stores December same-store US sales...</td>\n",
       "      <td>New U.N. chief speeds plans to reshape bureauc...</td>\n",
       "      <td>Foreign brokers place net Japan stock sell ord...</td>\n",
       "      <td>Negroponte adds weight to U.S. diplomacy Japan...</td>\n",
       "      <td>longs drug store december us sale pct liberty ...</td>\n",
       "    </tr>\n",
       "    <tr>\n",
       "      <th>...</th>\n",
       "      <td>...</td>\n",
       "      <td>...</td>\n",
       "      <td>...</td>\n",
       "      <td>...</td>\n",
       "      <td>...</td>\n",
       "      <td>...</td>\n",
       "      <td>...</td>\n",
       "      <td>...</td>\n",
       "    </tr>\n",
       "    <tr>\n",
       "      <th>221453</th>\n",
       "      <td>8560455</td>\n",
       "      <td>2016-08-15 23:00:00</td>\n",
       "      <td>0.000000</td>\n",
       "      <td>Column: Who do you hate the least? The dilemma...</td>\n",
       "      <td>BRIEF-Shanghai Shenda cuts share issue size to...</td>\n",
       "      <td>BRIEF-Her Chee Industrial to pay 2015 dividend...</td>\n",
       "      <td>BRIEF-Akis REIT Q2 net result turns to profit ...</td>\n",
       "      <td>column hate least dilemma french voter comment...</td>\n",
       "    </tr>\n",
       "    <tr>\n",
       "      <th>221454</th>\n",
       "      <td>8560461</td>\n",
       "      <td>2016-08-15 23:15:00</td>\n",
       "      <td>0.011450</td>\n",
       "      <td>Shooting: Americans miss the mark, Europeans r...</td>\n",
       "      <td>Column: Who do you hate the least? The dilemma...</td>\n",
       "      <td>BRIEF-Shanghai Shenda cuts share issue size to...</td>\n",
       "      <td>BRIEF-Her Chee Industrial to pay 2015 dividend...</td>\n",
       "      <td>shoot american miss mark european rule range m...</td>\n",
       "    </tr>\n",
       "    <tr>\n",
       "      <th>221455</th>\n",
       "      <td>8560477</td>\n",
       "      <td>2016-08-15 23:30:00</td>\n",
       "      <td>0.000000</td>\n",
       "      <td>BRIEF-Domenomania.pl Q2 net profit up at 39,40...</td>\n",
       "      <td>Shooting: Americans miss the mark, Europeans r...</td>\n",
       "      <td>Column: Who do you hate the least? The dilemma...</td>\n",
       "      <td>BRIEF-Shanghai Shenda cuts share issue size to...</td>\n",
       "      <td>net profit zloty technology pay dividend europ...</td>\n",
       "    </tr>\n",
       "    <tr>\n",
       "      <th>221456</th>\n",
       "      <td>8560495</td>\n",
       "      <td>2016-08-15 23:45:00</td>\n",
       "      <td>0.000000</td>\n",
       "      <td>China Filmâs opening week follows bad IPO sc...</td>\n",
       "      <td>BRIEF-Domenomania.pl Q2 net profit up at 39,40...</td>\n",
       "      <td>Shooting: Americans miss the mark, Europeans r...</td>\n",
       "      <td>Column: Who do you hate the least? The dilemma...</td>\n",
       "      <td>china open week follow bad ipo script forbes s...</td>\n",
       "    </tr>\n",
       "    <tr>\n",
       "      <th>221457</th>\n",
       "      <td>8560510</td>\n",
       "      <td>2016-08-16 00:00:00</td>\n",
       "      <td>-0.011449</td>\n",
       "      <td>BRIEF-Skardin Industrial says 2015 dividend re...</td>\n",
       "      <td>China Filmâs opening week follows bad IPO sc...</td>\n",
       "      <td>BRIEF-Domenomania.pl Q2 net profit up at 39,40...</td>\n",
       "      <td>Shooting: Americans miss the mark, Europeans r...</td>\n",
       "      <td>industrial say dividend record date long grape...</td>\n",
       "    </tr>\n",
       "  </tbody>\n",
       "</table>\n",
       "<p>221458 rows × 8 columns</p>\n",
       "</div>"
      ],
      "text/plain": [
       "        Unnamed: 0            timestamp    Profit  \\\n",
       "0             1881  2007-01-04 18:15:00  0.069906   \n",
       "1             1888  2007-01-04 18:30:00 -0.017472   \n",
       "2             1899  2007-01-04 18:45:00  0.000000   \n",
       "3             1908  2007-01-04 19:00:00  0.017475   \n",
       "4             1926  2007-01-04 19:15:00  0.017469   \n",
       "...            ...                  ...       ...   \n",
       "221453     8560455  2016-08-15 23:00:00  0.000000   \n",
       "221454     8560461  2016-08-15 23:15:00  0.011450   \n",
       "221455     8560477  2016-08-15 23:30:00  0.000000   \n",
       "221456     8560495  2016-08-15 23:45:00  0.000000   \n",
       "221457     8560510  2016-08-16 00:00:00 -0.011449   \n",
       "\n",
       "                                                    title  \\\n",
       "0       UPDATE 1-Power confirms Putnam talks but says ...   \n",
       "1       Negroponte adds weight to U.S. diplomacy Japan...   \n",
       "2       Foreign brokers place net Japan stock sell ord...   \n",
       "3       New U.N. chief speeds plans to reshape bureauc...   \n",
       "4       Longs Drug Stores December same-store US sales...   \n",
       "...                                                   ...   \n",
       "221453  Column: Who do you hate the least? The dilemma...   \n",
       "221454  Shooting: Americans miss the mark, Europeans r...   \n",
       "221455  BRIEF-Domenomania.pl Q2 net profit up at 39,40...   \n",
       "221456  China Filmâs opening week follows bad IPO sc...   \n",
       "221457  BRIEF-Skardin Industrial says 2015 dividend re...   \n",
       "\n",
       "                                                    news2  \\\n",
       "0       US STOCKS-Indexes end up as Intel lifts techs,...   \n",
       "1       UPDATE 1-Power confirms Putnam talks but says ...   \n",
       "2       Negroponte adds weight to U.S. diplomacy Japan...   \n",
       "3       Foreign brokers place net Japan stock sell ord...   \n",
       "4       New U.N. chief speeds plans to reshape bureauc...   \n",
       "...                                                   ...   \n",
       "221453  BRIEF-Shanghai Shenda cuts share issue size to...   \n",
       "221454  Column: Who do you hate the least? The dilemma...   \n",
       "221455  Shooting: Americans miss the mark, Europeans r...   \n",
       "221456  BRIEF-Domenomania.pl Q2 net profit up at 39,40...   \n",
       "221457  China Filmâs opening week follows bad IPO sc...   \n",
       "\n",
       "                                                    news3  \\\n",
       "0       Former President Bush has second hip replaceme...   \n",
       "1       US STOCKS-Indexes end up as Intel lifts techs,...   \n",
       "2       UPDATE 1-Power confirms Putnam talks but says ...   \n",
       "3       Negroponte adds weight to U.S. diplomacy Japan...   \n",
       "4       Foreign brokers place net Japan stock sell ord...   \n",
       "...                                                   ...   \n",
       "221453  BRIEF-Her Chee Industrial to pay 2015 dividend...   \n",
       "221454  BRIEF-Shanghai Shenda cuts share issue size to...   \n",
       "221455  Column: Who do you hate the least? The dilemma...   \n",
       "221456  Shooting: Americans miss the mark, Europeans r...   \n",
       "221457  BRIEF-Domenomania.pl Q2 net profit up at 39,40...   \n",
       "\n",
       "                                                    news4  \\\n",
       "0       Power Financial confirms Putnam talks; no deal...   \n",
       "1       Former President Bush has second hip replaceme...   \n",
       "2       US STOCKS-Indexes end up as Intel lifts techs,...   \n",
       "3       UPDATE 1-Power confirms Putnam talks but says ...   \n",
       "4       Negroponte adds weight to U.S. diplomacy Japan...   \n",
       "...                                                   ...   \n",
       "221453  BRIEF-Akis REIT Q2 net result turns to profit ...   \n",
       "221454  BRIEF-Her Chee Industrial to pay 2015 dividend...   \n",
       "221455  BRIEF-Shanghai Shenda cuts share issue size to...   \n",
       "221456  Column: Who do you hate the least? The dilemma...   \n",
       "221457  Shooting: Americans miss the mark, Europeans r...   \n",
       "\n",
       "                                                     News  \n",
       "0       update confirms putnam talk say deal yet samsu...  \n",
       "1       negroponte add weight diplomacy japan toshiba ...  \n",
       "2       foreign broker place net japan stock sell orde...  \n",
       "3       new chief speed plan reshape bureaucracy updat...  \n",
       "4       longs drug store december us sale pct liberty ...  \n",
       "...                                                   ...  \n",
       "221453  column hate least dilemma french voter comment...  \n",
       "221454  shoot american miss mark european rule range m...  \n",
       "221455  net profit zloty technology pay dividend europ...  \n",
       "221456  china open week follow bad ipo script forbes s...  \n",
       "221457  industrial say dividend record date long grape...  \n",
       "\n",
       "[221458 rows x 8 columns]"
      ]
     },
     "execution_count": 10,
     "metadata": {},
     "output_type": "execute_result"
    }
   ],
   "source": [
    "df.to_csv(\"processed_df.csv\")\n",
    "# df = pd.read_csv(\"processed_df.csv\", header = 0)\n",
    "df"
   ]
  },
  {
   "cell_type": "code",
   "execution_count": 11,
   "metadata": {
    "id": "Ifn-eLmW_Q7C"
   },
   "outputs": [
    {
     "data": {
      "text/plain": [
       "'nz win america cup classic go earnings calendar transportation acquire marine transportation operation hawaii seattle approx mln conference meeting interest subprime crisis open banker broker rift update energy amends ferc complaint ecuador shelf oilfield drilling plan year sec cox say agency probe cdo matter live earth global warming gig ditch istanbul italy antitrust body probe bank insurer link uae bank company offer buy egyptian bank uk meet office see wet warm north europe summer bid pdvsa borco oil storage see mln stock bond low bond watch wind low mauresmo unruffled henman cause buzz abbas seek bolster fatah force declare ecuador galapagos island danger brixton warns oversold property fund backlash stock market update tue jun edt jones lang chief see peak reit buyout health problem follow childhood cancer survivor abbas seek bolster fatah force abbas seek bolster fatah force credit suisse see property stock weakness correct us drop subprime worry weigh mexico stock mortage market fear rice see breakthrough late talk oil drop percent eye stockpile update oil output slip mexico cantarell field time smart fairer farm subsidy senator update drop percent eye us stockpile new issue fmc finance iii sell mln note hospital rife superbug bacteria survey fda say unmoved cancer report tourists indulge wimbledon judge tell google work justice cbrl june restaurant sale pct update investment management retire palestinian president ban arm west bank update hedge fund pay mln sec settlement market view p set fresh wk low stock market update tue jun edt update mexico cetes edge auction sacyr appeal watchdog decision eiffage palestinian president ban arm west bank pacificnet imobile partner tivo great china market distribute localized video product honeywell buy dutch enraf mln us energy chief concerned venezuelan supply reynolds share ahead star patent rule lawmaker examine medicare anemia drug payment aol take page blog relaunches news wimbledon men single result intercontinentalexchange day alert market view dow slip morning low set new low reynolds share ahead star patent ruling'"
      ]
     },
     "execution_count": 11,
     "metadata": {},
     "output_type": "execute_result"
    }
   ],
   "source": [
    "df = df[[\"timestamp\", \"Profit\", \"News\"]]\n",
    "df.reset_index(drop = True, inplace = True) #reset index\n",
    "df[\"News\"][6894] # example"
   ]
  },
  {
   "cell_type": "code",
   "execution_count": 12,
   "metadata": {
    "id": "BgZzhi-2_Q7C"
   },
   "outputs": [
    {
     "data": {
      "text/plain": [
       "44064"
      ]
     },
     "execution_count": 12,
     "metadata": {},
     "output_type": "execute_result"
    }
   ],
   "source": [
    "len(df[df.timestamp >= \"2014-10-01 00:00:00\"])"
   ]
  },
  {
   "cell_type": "code",
   "execution_count": 13,
   "metadata": {
    "id": "MCvxAJvv_Q7C"
   },
   "outputs": [
    {
     "data": {
      "text/plain": [
       "44909"
      ]
     },
     "execution_count": 13,
     "metadata": {},
     "output_type": "execute_result"
    }
   ],
   "source": [
    "len(df[(df.timestamp >= \"2012-11-01 00:00:00\") &(df.timestamp < \"2014-10-01 00:00:00\") ])"
   ]
  },
  {
   "cell_type": "code",
   "execution_count": 14,
   "metadata": {
    "id": "DrVkdTKn_Q7C"
   },
   "outputs": [],
   "source": [
    "# training-validation-testing approach\n",
    "train = df[df.timestamp < \"2012-11-01 00:00:00\"]\n",
    "validation = df[(df.timestamp >= \"2012-11-01 00:00:00\") &(df.timestamp < \"2014-10-01 00:00:00\")]\n",
    "test = df[df.timestamp >= \"2014-10-01 00:00:00\"]"
   ]
  },
  {
   "cell_type": "code",
   "execution_count": 15,
   "metadata": {
    "id": "NCODWmlS_Q7D"
   },
   "outputs": [
    {
     "data": {
      "text/plain": [
       "(132485, 3)"
      ]
     },
     "execution_count": 15,
     "metadata": {},
     "output_type": "execute_result"
    }
   ],
   "source": [
    "train.shape"
   ]
  },
  {
   "cell_type": "code",
   "execution_count": 16,
   "metadata": {
    "id": "sr1JdyXl_Q7D"
   },
   "outputs": [
    {
     "data": {
      "text/html": [
       "<div>\n",
       "<style scoped>\n",
       "    .dataframe tbody tr th:only-of-type {\n",
       "        vertical-align: middle;\n",
       "    }\n",
       "\n",
       "    .dataframe tbody tr th {\n",
       "        vertical-align: top;\n",
       "    }\n",
       "\n",
       "    .dataframe thead th {\n",
       "        text-align: right;\n",
       "    }\n",
       "</style>\n",
       "<table border=\"1\" class=\"dataframe\">\n",
       "  <thead>\n",
       "    <tr style=\"text-align: right;\">\n",
       "      <th></th>\n",
       "      <th>timestamp</th>\n",
       "      <th>Profit</th>\n",
       "      <th>News</th>\n",
       "    </tr>\n",
       "  </thead>\n",
       "  <tbody>\n",
       "    <tr>\n",
       "      <th>0</th>\n",
       "      <td>2007-01-04 18:15:00</td>\n",
       "      <td>0.069906</td>\n",
       "      <td>update confirms putnam talk say deal yet samsu...</td>\n",
       "    </tr>\n",
       "    <tr>\n",
       "      <th>1</th>\n",
       "      <td>2007-01-04 18:30:00</td>\n",
       "      <td>-0.017472</td>\n",
       "      <td>negroponte add weight diplomacy japan toshiba ...</td>\n",
       "    </tr>\n",
       "    <tr>\n",
       "      <th>2</th>\n",
       "      <td>2007-01-04 18:45:00</td>\n",
       "      <td>0.000000</td>\n",
       "      <td>foreign broker place net japan stock sell orde...</td>\n",
       "    </tr>\n",
       "    <tr>\n",
       "      <th>3</th>\n",
       "      <td>2007-01-04 19:00:00</td>\n",
       "      <td>0.017475</td>\n",
       "      <td>new chief speed plan reshape bureaucracy updat...</td>\n",
       "    </tr>\n",
       "    <tr>\n",
       "      <th>4</th>\n",
       "      <td>2007-01-04 19:15:00</td>\n",
       "      <td>0.017469</td>\n",
       "      <td>longs drug store december us sale pct liberty ...</td>\n",
       "    </tr>\n",
       "    <tr>\n",
       "      <th>...</th>\n",
       "      <td>...</td>\n",
       "      <td>...</td>\n",
       "      <td>...</td>\n",
       "    </tr>\n",
       "    <tr>\n",
       "      <th>221453</th>\n",
       "      <td>2016-08-15 23:00:00</td>\n",
       "      <td>0.000000</td>\n",
       "      <td>column hate least dilemma french voter comment...</td>\n",
       "    </tr>\n",
       "    <tr>\n",
       "      <th>221454</th>\n",
       "      <td>2016-08-15 23:15:00</td>\n",
       "      <td>0.011450</td>\n",
       "      <td>shoot american miss mark european rule range m...</td>\n",
       "    </tr>\n",
       "    <tr>\n",
       "      <th>221455</th>\n",
       "      <td>2016-08-15 23:30:00</td>\n",
       "      <td>0.000000</td>\n",
       "      <td>net profit zloty technology pay dividend europ...</td>\n",
       "    </tr>\n",
       "    <tr>\n",
       "      <th>221456</th>\n",
       "      <td>2016-08-15 23:45:00</td>\n",
       "      <td>0.000000</td>\n",
       "      <td>china open week follow bad ipo script forbes s...</td>\n",
       "    </tr>\n",
       "    <tr>\n",
       "      <th>221457</th>\n",
       "      <td>2016-08-16 00:00:00</td>\n",
       "      <td>-0.011449</td>\n",
       "      <td>industrial say dividend record date long grape...</td>\n",
       "    </tr>\n",
       "  </tbody>\n",
       "</table>\n",
       "<p>221458 rows × 3 columns</p>\n",
       "</div>"
      ],
      "text/plain": [
       "                  timestamp    Profit  \\\n",
       "0       2007-01-04 18:15:00  0.069906   \n",
       "1       2007-01-04 18:30:00 -0.017472   \n",
       "2       2007-01-04 18:45:00  0.000000   \n",
       "3       2007-01-04 19:00:00  0.017475   \n",
       "4       2007-01-04 19:15:00  0.017469   \n",
       "...                     ...       ...   \n",
       "221453  2016-08-15 23:00:00  0.000000   \n",
       "221454  2016-08-15 23:15:00  0.011450   \n",
       "221455  2016-08-15 23:30:00  0.000000   \n",
       "221456  2016-08-15 23:45:00  0.000000   \n",
       "221457  2016-08-16 00:00:00 -0.011449   \n",
       "\n",
       "                                                     News  \n",
       "0       update confirms putnam talk say deal yet samsu...  \n",
       "1       negroponte add weight diplomacy japan toshiba ...  \n",
       "2       foreign broker place net japan stock sell orde...  \n",
       "3       new chief speed plan reshape bureaucracy updat...  \n",
       "4       longs drug store december us sale pct liberty ...  \n",
       "...                                                   ...  \n",
       "221453  column hate least dilemma french voter comment...  \n",
       "221454  shoot american miss mark european rule range m...  \n",
       "221455  net profit zloty technology pay dividend europ...  \n",
       "221456  china open week follow bad ipo script forbes s...  \n",
       "221457  industrial say dividend record date long grape...  \n",
       "\n",
       "[221458 rows x 3 columns]"
      ]
     },
     "execution_count": 16,
     "metadata": {},
     "output_type": "execute_result"
    }
   ],
   "source": [
    "df"
   ]
  },
  {
   "cell_type": "markdown",
   "metadata": {
    "id": "J8ZDLkck_Q7D"
   },
   "source": [
    "# EDA"
   ]
  },
  {
   "cell_type": "code",
   "execution_count": null,
   "metadata": {
    "id": "SWj3kzNC_Q7D",
    "outputId": "b03c4f2e-abda-41bb-c0f8-54007e814af5",
    "scrolled": false
   },
   "outputs": [
    {
     "name": "stdout",
     "output_type": "stream",
     "text": [
      "Sample Mean = -6.605503610663323e-05 \n",
      "Sample Variance = 0.025614317235473666 \n",
      "Sample Adjusted skewness = -0.04840927209799198 \n",
      "Sample Excess Kurtosis = 43.31309595035078\n",
      "\n",
      "Min = -4.438087158931836 \n",
      "1st quartile = -0.04976362381876598 \n",
      "Median = 0.0 \n",
      "3rd quartile = 0.05249803252951324 \n",
      "Max = 3.6116860470500884\n"
     ]
    },
    {
     "data": {
      "image/png": "[encoded data removed]",
      "text/plain": [
       "<Figure size 360x360 with 1 Axes>"
      ]
     },
     "metadata": {
      "needs_background": "light",
      "tags": []
     },
     "output_type": "display_data"
    },
    {
     "name": "stdout",
     "output_type": "stream",
     "text": [
      "\n",
      "           word  frequency\n",
      "0          reg    1686331\n",
      "1        asset    1586048\n",
      "2          net    1562834\n",
      "3        value    1519447\n",
      "4          new    1052263\n",
      "5       update     995953\n",
      "6          plc     976335\n",
      "7    announces     958240\n",
      "8       result     844553\n",
      "9       market     838001\n",
      "10      report     764770\n",
      "11       group     664603\n",
      "12     quarter     659466\n",
      "13         etf     537708\n",
      "14       share     502814\n",
      "15    research     465260\n",
      "16  conference     461436\n",
      "17        bank     448183\n",
      "18     company     437692\n",
      "19   financial     424150\n"
     ]
    }
   ],
   "source": [
    "EDA(train)"
   ]
  },
  {
   "cell_type": "code",
   "execution_count": 15,
   "metadata": {
    "id": "KIzEBK8Q_Q7D"
   },
   "outputs": [],
   "source": [
    "BUY = train[train.Profit >= 0.05] \n",
    "HOLD = train[(train.Profit > -0.05) & (train.Profit < 0.05)] \n",
    "SELL = train[train.Profit <= -0.05] "
   ]
  },
  {
   "cell_type": "code",
   "execution_count": null,
   "metadata": {
    "id": "8lxOpNC__Q7E",
    "outputId": "0bb8594a-884b-4828-e55f-77ee8d452f98"
   },
   "outputs": [
    {
     "name": "stdout",
     "output_type": "stream",
     "text": [
      "Sample Mean = 0.15783846372142474 \n",
      "Sample Variance = 0.02499943094768623 \n",
      "Sample Adjusted skewness = 5.615834897594974 \n",
      "Sample Excess Kurtosis = 59.62233185325014\n",
      "\n",
      "Min = 0.05249803252951324 \n",
      "1st quartile = 0.07411525260518914 \n",
      "Median = 0.11109055021396587 \n",
      "3rd quartile = 0.17956549985598258 \n",
      "Max = 3.6116860470500884\n"
     ]
    },
    {
     "data": {
      "image/png": "[encoded data removed]",
      "text/plain": [
       "<Figure size 360x360 with 1 Axes>"
      ]
     },
     "metadata": {
      "needs_background": "light",
      "tags": []
     },
     "output_type": "display_data"
    },
    {
     "name": "stdout",
     "output_type": "stream",
     "text": [
      "\n",
      "           word  frequency\n",
      "0        asset     370822\n",
      "1          net     364114\n",
      "2          reg     358139\n",
      "3        value     352870\n",
      "4          new     305193\n",
      "5    announces     285929\n",
      "6       update     277515\n",
      "7          plc     244872\n",
      "8       market     230806\n",
      "9       result     228393\n",
      "10      report     217084\n",
      "11     quarter     196761\n",
      "12       group     168700\n",
      "13  conference     139701\n",
      "14       share     134151\n",
      "15    research     131416\n",
      "16     company     125764\n",
      "17        bank     125734\n",
      "18   financial     123960\n",
      "19         etf     123119\n"
     ]
    }
   ],
   "source": [
    "EDA(BUY)"
   ]
  },
  {
   "cell_type": "code",
   "execution_count": null,
   "metadata": {
    "id": "J_n1X9BJ_Q7E",
    "outputId": "a383b19f-413a-42fb-ef2e-a443db986dcb"
   },
   "outputs": [
    {
     "name": "stdout",
     "output_type": "stream",
     "text": [
      "Sample Mean = -0.15957587321767755 \n",
      "Sample Variance = 0.025703200714131506 \n",
      "Sample Adjusted skewness = -5.43969316654499 \n",
      "Sample Excess Kurtosis = 65.35257652402365\n",
      "\n",
      "Min = -4.438087158931836 \n",
      "1st quartile = -0.18482395650458727 \n",
      "Median = -0.10970928143727576 \n",
      "3rd quartile = -0.07195539076425561 \n",
      "Max = -0.04976362381876598\n"
     ]
    },
    {
     "data": {
      "image/png": "[encoded data removed]",
      "text/plain": [
       "<Figure size 360x360 with 1 Axes>"
      ]
     },
     "metadata": {
      "needs_background": "light",
      "tags": []
     },
     "output_type": "display_data"
    },
    {
     "name": "stdout",
     "output_type": "stream",
     "text": [
      "\n",
      "           word  frequency\n",
      "0        asset     363293\n",
      "1          net     356667\n",
      "2          reg     347113\n",
      "3        value     345414\n",
      "4          new     303942\n",
      "5    announces     282157\n",
      "6       update     275376\n",
      "7          plc     240951\n",
      "8       market     228149\n",
      "9       result     226430\n",
      "10      report     213882\n",
      "11     quarter     191400\n",
      "12       group     170149\n",
      "13  conference     136898\n",
      "14       share     134137\n",
      "15    research     129378\n",
      "16        bank     124614\n",
      "17     company     124246\n",
      "18         etf     122451\n",
      "19   financial     121574\n"
     ]
    }
   ],
   "source": [
    "EDA(SELL)"
   ]
  },
  {
   "cell_type": "code",
   "execution_count": 17,
   "metadata": {
    "id": "LeoZG7C5_Q7E",
    "outputId": "51d5525d-1451-464c-a64d-8a56f1a98251",
    "scrolled": true
   },
   "outputs": [
    {
     "name": "stderr",
     "output_type": "stream",
     "text": [
      "/Users/andrewyu/opt/anaconda3/lib/python3.8/site-packages/pandas/core/indexing.py:1599: SettingWithCopyWarning: \n",
      "A value is trying to be set on a copy of a slice from a DataFrame.\n",
      "Try using .loc[row_indexer,col_indexer] = value instead\n",
      "\n",
      "See the caveats in the documentation: https://pandas.pydata.org/pandas-docs/stable/user_guide/indexing.html#returning-a-view-versus-a-copy\n",
      "  self.obj[key] = infer_fill_value(value)\n",
      "/Users/andrewyu/opt/anaconda3/lib/python3.8/site-packages/pandas/core/indexing.py:1720: SettingWithCopyWarning: \n",
      "A value is trying to be set on a copy of a slice from a DataFrame.\n",
      "Try using .loc[row_indexer,col_indexer] = value instead\n",
      "\n",
      "See the caveats in the documentation: https://pandas.pydata.org/pandas-docs/stable/user_guide/indexing.html#returning-a-view-versus-a-copy\n",
      "  self._setitem_single_column(loc, value, pi)\n",
      "/Users/andrewyu/opt/anaconda3/lib/python3.8/site-packages/pandas/core/indexing.py:1720: SettingWithCopyWarning: \n",
      "A value is trying to be set on a copy of a slice from a DataFrame.\n",
      "Try using .loc[row_indexer,col_indexer] = value instead\n",
      "\n",
      "See the caveats in the documentation: https://pandas.pydata.org/pandas-docs/stable/user_guide/indexing.html#returning-a-view-versus-a-copy\n",
      "  self._setitem_single_column(loc, value, pi)\n",
      "/Users/andrewyu/opt/anaconda3/lib/python3.8/site-packages/pandas/core/indexing.py:1720: SettingWithCopyWarning: \n",
      "A value is trying to be set on a copy of a slice from a DataFrame.\n",
      "Try using .loc[row_indexer,col_indexer] = value instead\n",
      "\n",
      "See the caveats in the documentation: https://pandas.pydata.org/pandas-docs/stable/user_guide/indexing.html#returning-a-view-versus-a-copy\n",
      "  self._setitem_single_column(loc, value, pi)\n",
      "/Users/andrewyu/opt/anaconda3/lib/python3.8/site-packages/pandas/core/indexing.py:1599: SettingWithCopyWarning: \n",
      "A value is trying to be set on a copy of a slice from a DataFrame.\n",
      "Try using .loc[row_indexer,col_indexer] = value instead\n",
      "\n",
      "See the caveats in the documentation: https://pandas.pydata.org/pandas-docs/stable/user_guide/indexing.html#returning-a-view-versus-a-copy\n",
      "  self.obj[key] = infer_fill_value(value)\n",
      "/Users/andrewyu/opt/anaconda3/lib/python3.8/site-packages/pandas/core/indexing.py:1720: SettingWithCopyWarning: \n",
      "A value is trying to be set on a copy of a slice from a DataFrame.\n",
      "Try using .loc[row_indexer,col_indexer] = value instead\n",
      "\n",
      "See the caveats in the documentation: https://pandas.pydata.org/pandas-docs/stable/user_guide/indexing.html#returning-a-view-versus-a-copy\n",
      "  self._setitem_single_column(loc, value, pi)\n",
      "/Users/andrewyu/opt/anaconda3/lib/python3.8/site-packages/pandas/core/indexing.py:1720: SettingWithCopyWarning: \n",
      "A value is trying to be set on a copy of a slice from a DataFrame.\n",
      "Try using .loc[row_indexer,col_indexer] = value instead\n",
      "\n",
      "See the caveats in the documentation: https://pandas.pydata.org/pandas-docs/stable/user_guide/indexing.html#returning-a-view-versus-a-copy\n",
      "  self._setitem_single_column(loc, value, pi)\n",
      "/Users/andrewyu/opt/anaconda3/lib/python3.8/site-packages/pandas/core/indexing.py:1720: SettingWithCopyWarning: \n",
      "A value is trying to be set on a copy of a slice from a DataFrame.\n",
      "Try using .loc[row_indexer,col_indexer] = value instead\n",
      "\n",
      "See the caveats in the documentation: https://pandas.pydata.org/pandas-docs/stable/user_guide/indexing.html#returning-a-view-versus-a-copy\n",
      "  self._setitem_single_column(loc, value, pi)\n",
      "/Users/andrewyu/opt/anaconda3/lib/python3.8/site-packages/pandas/core/indexing.py:1599: SettingWithCopyWarning: \n",
      "A value is trying to be set on a copy of a slice from a DataFrame.\n",
      "Try using .loc[row_indexer,col_indexer] = value instead\n",
      "\n",
      "See the caveats in the documentation: https://pandas.pydata.org/pandas-docs/stable/user_guide/indexing.html#returning-a-view-versus-a-copy\n",
      "  self.obj[key] = infer_fill_value(value)\n",
      "/Users/andrewyu/opt/anaconda3/lib/python3.8/site-packages/pandas/core/indexing.py:1720: SettingWithCopyWarning: \n",
      "A value is trying to be set on a copy of a slice from a DataFrame.\n",
      "Try using .loc[row_indexer,col_indexer] = value instead\n",
      "\n",
      "See the caveats in the documentation: https://pandas.pydata.org/pandas-docs/stable/user_guide/indexing.html#returning-a-view-versus-a-copy\n",
      "  self._setitem_single_column(loc, value, pi)\n",
      "/Users/andrewyu/opt/anaconda3/lib/python3.8/site-packages/pandas/core/indexing.py:1720: SettingWithCopyWarning: \n",
      "A value is trying to be set on a copy of a slice from a DataFrame.\n",
      "Try using .loc[row_indexer,col_indexer] = value instead\n",
      "\n",
      "See the caveats in the documentation: https://pandas.pydata.org/pandas-docs/stable/user_guide/indexing.html#returning-a-view-versus-a-copy\n",
      "  self._setitem_single_column(loc, value, pi)\n",
      "/Users/andrewyu/opt/anaconda3/lib/python3.8/site-packages/pandas/core/indexing.py:1720: SettingWithCopyWarning: \n",
      "A value is trying to be set on a copy of a slice from a DataFrame.\n",
      "Try using .loc[row_indexer,col_indexer] = value instead\n",
      "\n",
      "See the caveats in the documentation: https://pandas.pydata.org/pandas-docs/stable/user_guide/indexing.html#returning-a-view-versus-a-copy\n",
      "  self._setitem_single_column(loc, value, pi)\n"
     ]
    }
   ],
   "source": [
    "train.loc[(train.Profit >= 0.05), \"Strategy\"] = 0\n",
    "train.loc[((train.Profit > -0.05) & (train.Profit < 0.05)), \"Strategy\"] = 1\n",
    "train.loc[(train.Profit <= -0.05), \"Strategy\"] = 2 \n",
    "\n",
    "validation.loc[(validation.Profit >= 0.05), \"Strategy\"] = 0\n",
    "validation.loc[((validation.Profit > -0.05) & (validation.Profit < 0.05)), \"Strategy\"] = 1\n",
    "validation.loc[(validation.Profit <= -0.05), \"Strategy\"] = 2\n",
    "\n",
    "test.loc[(test.Profit >= 0.05), \"Strategy\"] = 0\n",
    "test.loc[((test.Profit > -0.05) & (test.Profit < 0.05)), \"Strategy\"] = 1\n",
    "test.loc[(test.Profit <= -0.05), \"Strategy\"] = 2 "
   ]
  },
  {
   "cell_type": "code",
   "execution_count": 18,
   "metadata": {},
   "outputs": [
    {
     "name": "stderr",
     "output_type": "stream",
     "text": [
      "/Users/andrewyu/opt/anaconda3/lib/python3.8/site-packages/pandas/core/generic.py:5491: SettingWithCopyWarning: \n",
      "A value is trying to be set on a copy of a slice from a DataFrame.\n",
      "Try using .loc[row_indexer,col_indexer] = value instead\n",
      "\n",
      "See the caveats in the documentation: https://pandas.pydata.org/pandas-docs/stable/user_guide/indexing.html#returning-a-view-versus-a-copy\n",
      "  self[name] = value\n"
     ]
    }
   ],
   "source": [
    "train.Strategy = train.Strategy.astype(\"category\")\n",
    "validation.Strategy = validation.Strategy.astype(\"category\")\n",
    "test.Strategy = test.Strategy.astype(\"category\")"
   ]
  },
  {
   "cell_type": "code",
   "execution_count": 19,
   "metadata": {},
   "outputs": [
    {
     "name": "stderr",
     "output_type": "stream",
     "text": [
      "/Users/andrewyu/opt/anaconda3/lib/python3.8/site-packages/pandas/io/formats/format.py:1403: FutureWarning: Index.ravel returning ndarray is deprecated; in a future version this will return a view on self.\n",
      "  for val, m in zip(values.ravel(), mask.ravel())\n"
     ]
    },
    {
     "data": {
      "text/plain": [
       "0         0.0\n",
       "1         1.0\n",
       "2         1.0\n",
       "3         1.0\n",
       "4         1.0\n",
       "         ... \n",
       "132480    1.0\n",
       "132481    0.0\n",
       "132482    1.0\n",
       "132483    2.0\n",
       "132484    1.0\n",
       "Name: Strategy, Length: 132485, dtype: category\n",
       "Categories (3, float64): [0.0, 1.0, 2.0]"
      ]
     },
     "execution_count": 19,
     "metadata": {},
     "output_type": "execute_result"
    }
   ],
   "source": [
    "train.Strategy"
   ]
  },
  {
   "cell_type": "markdown",
   "metadata": {
    "id": "QrOlOzkv_Q7E"
   },
   "source": [
    "# Feature Engineering - BOG with Tf-idf"
   ]
  },
  {
   "cell_type": "code",
   "execution_count": 19,
   "metadata": {
    "id": "FL908k3L_Q7E"
   },
   "outputs": [],
   "source": [
    "basicvectorizer = TfidfVectorizer(ngram_range=(1,1))\n",
    "basictrain = basicvectorizer.fit_transform(train.News)\n",
    "basictest = basicvectorizer.transform(test.News)\n",
    "basicvalidation = basicvectorizer.transform(validation.News)"
   ]
  },
  {
   "cell_type": "code",
   "execution_count": 20,
   "metadata": {
    "id": "R-I-2zrI_Q7F"
   },
   "outputs": [],
   "source": [
    "mod1 = lgb.LGBMClassifier(objective = 'multiclass', class_weight = \"balanced\", random_state = 2046, n_jobs = -1)\n",
    "fit1 = mod1.fit(basictrain, train.Strategy)"
   ]
  },
  {
   "cell_type": "code",
   "execution_count": 21,
   "metadata": {},
   "outputs": [],
   "source": [
    "pred1_train = fit1.predict(basictrain)\n",
    "pred1 = fit1.predict(basicvalidation)\n",
    "pred1_test = fit1.predict(basictest)"
   ]
  },
  {
   "cell_type": "code",
   "execution_count": 25,
   "metadata": {},
   "outputs": [
    {
     "name": "stdout",
     "output_type": "stream",
     "text": [
      "              precision    recall  f1-score   support\n",
      "\n",
      "           0       0.54      0.55      0.54     33891\n",
      "           1       0.70      0.67      0.68     65551\n",
      "           2       0.54      0.57      0.55     33043\n",
      "\n",
      "    accuracy                           0.61    132485\n",
      "   macro avg       0.59      0.60      0.59    132485\n",
      "weighted avg       0.62      0.61      0.61    132485\n",
      "\n"
     ]
    },
    {
     "data": {
      "text/plain": [
       "0.5479721921588339"
      ]
     },
     "execution_count": 25,
     "metadata": {},
     "output_type": "execute_result"
    },
    {
     "data": {
      "image/png": "[encoded data removed]",
      "text/plain": [
       "<Figure size 432x288 with 2 Axes>"
      ]
     },
     "metadata": {
      "needs_background": "light"
     },
     "output_type": "display_data"
    }
   ],
   "source": [
    "performance(train.Strategy, pred1_train)"
   ]
  },
  {
   "cell_type": "code",
   "execution_count": 26,
   "metadata": {},
   "outputs": [
    {
     "name": "stdout",
     "output_type": "stream",
     "text": [
      "              precision    recall  f1-score   support\n",
      "\n",
      "           0       0.21      0.40      0.27      7173\n",
      "           1       0.78      0.53      0.63     31106\n",
      "           2       0.18      0.26      0.21      6630\n",
      "\n",
      "    accuracy                           0.47     44909\n",
      "   macro avg       0.39      0.40      0.37     44909\n",
      "weighted avg       0.60      0.47      0.51     44909\n",
      "\n"
     ]
    },
    {
     "data": {
      "text/plain": [
       "0.24342948245696858"
      ]
     },
     "execution_count": 26,
     "metadata": {},
     "output_type": "execute_result"
    },
    {
     "data": {
      "image/png": "[encoded data removed]",
      "text/plain": [
       "<Figure size 432x288 with 2 Axes>"
      ]
     },
     "metadata": {
      "needs_background": "light"
     },
     "output_type": "display_data"
    }
   ],
   "source": [
    "performance(validation.Strategy, pred1)"
   ]
  },
  {
   "cell_type": "code",
   "execution_count": 27,
   "metadata": {},
   "outputs": [
    {
     "name": "stdout",
     "output_type": "stream",
     "text": [
      "              precision    recall  f1-score   support\n",
      "\n",
      "           0       0.23      0.24      0.23      8287\n",
      "           1       0.67      0.68      0.68     27696\n",
      "           2       0.22      0.20      0.21      8081\n",
      "\n",
      "    accuracy                           0.51     44064\n",
      "   macro avg       0.37      0.37      0.37     44064\n",
      "weighted avg       0.50      0.51      0.51     44064\n",
      "\n"
     ]
    },
    {
     "data": {
      "text/plain": [
       "0.219972907631642"
      ]
     },
     "execution_count": 27,
     "metadata": {},
     "output_type": "execute_result"
    },
    {
     "data": {
      "image/png": "[encoded data removed]",
      "text/plain": [
       "<Figure size 432x288 with 2 Axes>"
      ]
     },
     "metadata": {
      "needs_background": "light"
     },
     "output_type": "display_data"
    }
   ],
   "source": [
    "performance(test.Strategy, pred1_test)"
   ]
  },
  {
   "cell_type": "code",
   "execution_count": 74,
   "metadata": {
    "id": "jiSPuMTi_Q7F",
    "outputId": "07986a32-c110-42a3-ce67-b103da91b980"
   },
   "outputs": [
    {
     "data": {
      "text/html": [
       "<div>\n",
       "<style scoped>\n",
       "    .dataframe tbody tr th:only-of-type {\n",
       "        vertical-align: middle;\n",
       "    }\n",
       "\n",
       "    .dataframe tbody tr th {\n",
       "        vertical-align: top;\n",
       "    }\n",
       "\n",
       "    .dataframe thead th {\n",
       "        text-align: right;\n",
       "    }\n",
       "</style>\n",
       "<table border=\"1\" class=\"dataframe\">\n",
       "  <thead>\n",
       "    <tr style=\"text-align: right;\">\n",
       "      <th></th>\n",
       "      <th>Words</th>\n",
       "      <th>Feature Importance</th>\n",
       "    </tr>\n",
       "  </thead>\n",
       "  <tbody>\n",
       "    <tr>\n",
       "      <th>214708</th>\n",
       "      <td>reg</td>\n",
       "      <td>65</td>\n",
       "    </tr>\n",
       "    <tr>\n",
       "      <th>45878</th>\n",
       "      <td>china</td>\n",
       "      <td>63</td>\n",
       "    </tr>\n",
       "    <tr>\n",
       "      <th>57668</th>\n",
       "      <td>crisis</td>\n",
       "      <td>43</td>\n",
       "    </tr>\n",
       "    <tr>\n",
       "      <th>92764</th>\n",
       "      <td>follow</td>\n",
       "      <td>40</td>\n",
       "    </tr>\n",
       "    <tr>\n",
       "      <th>182847</th>\n",
       "      <td>obama</td>\n",
       "      <td>35</td>\n",
       "    </tr>\n",
       "    <tr>\n",
       "      <th>131520</th>\n",
       "      <td>jgbs</td>\n",
       "      <td>30</td>\n",
       "    </tr>\n",
       "    <tr>\n",
       "      <th>166482</th>\n",
       "      <td>mln</td>\n",
       "      <td>29</td>\n",
       "    </tr>\n",
       "    <tr>\n",
       "      <th>126749</th>\n",
       "      <td>investec</td>\n",
       "      <td>27</td>\n",
       "    </tr>\n",
       "    <tr>\n",
       "      <th>11976</th>\n",
       "      <td>announces</td>\n",
       "      <td>26</td>\n",
       "    </tr>\n",
       "    <tr>\n",
       "      <th>130451</th>\n",
       "      <td>japan</td>\n",
       "      <td>26</td>\n",
       "    </tr>\n",
       "    <tr>\n",
       "      <th>178719</th>\n",
       "      <td>nikkei</td>\n",
       "      <td>26</td>\n",
       "    </tr>\n",
       "    <tr>\n",
       "      <th>270744</th>\n",
       "      <td>update</td>\n",
       "      <td>24</td>\n",
       "    </tr>\n",
       "    <tr>\n",
       "      <th>150356</th>\n",
       "      <td>loss</td>\n",
       "      <td>23</td>\n",
       "    </tr>\n",
       "    <tr>\n",
       "      <th>215506</th>\n",
       "      <td>release</td>\n",
       "      <td>23</td>\n",
       "    </tr>\n",
       "    <tr>\n",
       "      <th>88140</th>\n",
       "      <td>fear</td>\n",
       "      <td>22</td>\n",
       "    </tr>\n",
       "    <tr>\n",
       "      <th>257422</th>\n",
       "      <td>test</td>\n",
       "      <td>22</td>\n",
       "    </tr>\n",
       "    <tr>\n",
       "      <th>271330</th>\n",
       "      <td>us</td>\n",
       "      <td>22</td>\n",
       "    </tr>\n",
       "    <tr>\n",
       "      <th>156001</th>\n",
       "      <td>market</td>\n",
       "      <td>21</td>\n",
       "    </tr>\n",
       "    <tr>\n",
       "      <th>67151</th>\n",
       "      <td>digest</td>\n",
       "      <td>20</td>\n",
       "    </tr>\n",
       "    <tr>\n",
       "      <th>22198</th>\n",
       "      <td>bank</td>\n",
       "      <td>19</td>\n",
       "    </tr>\n",
       "  </tbody>\n",
       "</table>\n",
       "</div>"
      ],
      "text/plain": [
       "            Words  Feature Importance\n",
       "214708        reg                  65\n",
       "45878       china                  63\n",
       "57668      crisis                  43\n",
       "92764      follow                  40\n",
       "182847      obama                  35\n",
       "131520       jgbs                  30\n",
       "166482        mln                  29\n",
       "126749   investec                  27\n",
       "11976   announces                  26\n",
       "130451      japan                  26\n",
       "178719     nikkei                  26\n",
       "270744     update                  24\n",
       "150356       loss                  23\n",
       "215506    release                  23\n",
       "88140        fear                  22\n",
       "257422       test                  22\n",
       "271330         us                  22\n",
       "156001     market                  21\n",
       "67151      digest                  20\n",
       "22198        bank                  19"
      ]
     },
     "execution_count": 74,
     "metadata": {},
     "output_type": "execute_result"
    }
   ],
   "source": [
    "mod1words = basicvectorizer.get_feature_names()\n",
    "fi = fit1.feature_importances_\n",
    "fidf = pd.DataFrame({'Words' : mod1words, \n",
    "                        'Feature Importance' : fi})\n",
    "\n",
    "fidf = fidf.sort_values(['Feature Importance', 'Words'], ascending=[0, 1])\n",
    "fidf.head(20)"
   ]
  },
  {
   "cell_type": "code",
   "execution_count": 75,
   "metadata": {
    "id": "C68PomsH_Q7F"
   },
   "outputs": [
    {
     "name": "stdout",
     "output_type": "stream",
     "text": [
      "(132485, 292493)\n",
      "288400\n"
     ]
    }
   ],
   "source": [
    "print(basictrain.shape)\n",
    "print(sum(np.array(fit1.feature_importances_) == 0 ))"
   ]
  },
  {
   "cell_type": "markdown",
   "metadata": {
    "id": "GOUTGcBY_Q7F"
   },
   "source": [
    "# Dimension reduction by limiting max and min td-idf"
   ]
  },
  {
   "cell_type": "code",
   "execution_count": 19,
   "metadata": {},
   "outputs": [
    {
     "name": "stdout",
     "output_type": "stream",
     "text": [
      "Finished the model with min_df = 0 and max_df =  0.8\n",
      "Finished the model with min_df = 0 and max_df =  0.85\n",
      "Finished the model with min_df = 0 and max_df =  0.9\n",
      "Finished the model with min_df = 0 and max_df =  0.95\n",
      "Finished the model with min_df = 0 and max_df =  1\n",
      "Finished the model with min_df = 0.01 and max_df =  0.8\n",
      "Finished the model with min_df = 0.01 and max_df =  0.85\n",
      "Finished the model with min_df = 0.01 and max_df =  0.9\n",
      "Finished the model with min_df = 0.01 and max_df =  0.95\n",
      "Finished the model with min_df = 0.01 and max_df =  1\n",
      "Finished the model with min_df = 0.02 and max_df =  0.8\n",
      "Finished the model with min_df = 0.02 and max_df =  0.85\n",
      "Finished the model with min_df = 0.02 and max_df =  0.9\n",
      "Finished the model with min_df = 0.02 and max_df =  0.95\n",
      "Finished the model with min_df = 0.02 and max_df =  1\n",
      "Finished the model with min_df = 0.03 and max_df =  0.8\n",
      "Finished the model with min_df = 0.03 and max_df =  0.85\n",
      "Finished the model with min_df = 0.03 and max_df =  0.9\n",
      "Finished the model with min_df = 0.03 and max_df =  0.95\n",
      "Finished the model with min_df = 0.03 and max_df =  1\n",
      "Finished the model with min_df = 0.04 and max_df =  0.8\n",
      "Finished the model with min_df = 0.04 and max_df =  0.85\n",
      "Finished the model with min_df = 0.04 and max_df =  0.9\n",
      "Finished the model with min_df = 0.04 and max_df =  0.95\n",
      "Finished the model with min_df = 0.04 and max_df =  1\n"
     ]
    }
   ],
   "source": [
    "# A gird search is performed to find the best min_df and max_df assuming no change on other hyperparameter of lightGBM yet.\n",
    "mod1 = lgb.LGBMClassifier(objective = 'multiclass', class_weight = \"balanced\", random_state = 2046, n_jobs = -1)\n",
    "\n",
    "min_df = [0, 0.01, 0.02, 0.03, 0.04]\n",
    "max_df = [0.8, 0.85, 0.9, 0.95, 1]\n",
    "\n",
    "val_score = np.zeros((len(min_df), len(max_df)))\n",
    "\n",
    "for i in range(len(min_df)):\n",
    "    for j in range(len(max_df)):\n",
    "        if max_df[j] == 1:\n",
    "            basicvectorizer = TfidfVectorizer(ngram_range=(1,1), min_df = min_df[i])\n",
    "        else:\n",
    "            basicvectorizer = TfidfVectorizer(ngram_range=(1,1), min_df = min_df[i], max_df = max_df[j])\n",
    "        basictrain = basicvectorizer.fit_transform(train.News)\n",
    "        basicvalidation = basicvectorizer.transform(validation.News)\n",
    "        \n",
    "        fit1 = mod1.fit(basictrain, train.Strategy)\n",
    "        pred1 = fit1.predict(basicvalidation)\n",
    "        val_score[i,j] = score(validation.Strategy, pred1)\n",
    "        print(\"Finished the model with min_df =\", min_df[i], \"and max_df = \", max_df[j])"
   ]
  },
  {
   "cell_type": "code",
   "execution_count": 20,
   "metadata": {},
   "outputs": [
    {
     "data": {
      "text/plain": [
       "array([0.24383825, 0.24638997, 0.24728652, 0.2461469 , 0.2428661 ])"
      ]
     },
     "execution_count": 20,
     "metadata": {},
     "output_type": "execute_result"
    }
   ],
   "source": [
    "val_score.max(axis=1)"
   ]
  },
  {
   "cell_type": "code",
   "execution_count": 21,
   "metadata": {},
   "outputs": [
    {
     "data": {
      "text/plain": [
       "array([0.24716638, 0.24728652, 0.24638997, 0.24638997, 0.24638997])"
      ]
     },
     "execution_count": 21,
     "metadata": {},
     "output_type": "execute_result"
    }
   ],
   "source": [
    "val_score.max(axis=0)"
   ]
  },
  {
   "cell_type": "code",
   "execution_count": 22,
   "metadata": {},
   "outputs": [
    {
     "data": {
      "text/plain": [
       "0.24728652498425713"
      ]
     },
     "execution_count": 22,
     "metadata": {},
     "output_type": "execute_result"
    }
   ],
   "source": [
    "val_score[2, 1]"
   ]
  },
  {
   "cell_type": "markdown",
   "metadata": {},
   "source": [
    "min_df = 0.02\n",
    "max_df = 0.85"
   ]
  },
  {
   "cell_type": "code",
   "execution_count": 19,
   "metadata": {},
   "outputs": [],
   "source": [
    "basicvectorizer = TfidfVectorizer(ngram_range=(1,1), min_df = 0.02, max_df = 0.85)\n",
    "basictrain = basicvectorizer.fit_transform(train.News)\n",
    "basicvalidation = basicvectorizer.transform(validation.News)\n",
    "basictest = basicvectorizer.transform(test.News)"
   ]
  },
  {
   "cell_type": "markdown",
   "metadata": {
    "id": "bYqIk3JT_Q7H"
   },
   "source": [
    "# Gird Search "
   ]
  },
  {
   "cell_type": "markdown",
   "metadata": {},
   "source": [
    "objective = 'multiclass'\n",
    "\n",
    "class_weight = \"balanced\"\n",
    "\n",
    "learning_rate = 0.1\n",
    "\n",
    "min_df = 0.02\n",
    "\n",
    "max_df = 0.85\n",
    "\n",
    "n_estimators = \n",
    "\n",
    "max_depth = \n",
    "\n",
    "colsample_bytree = \n",
    "\n",
    "reg_alpha = \n",
    "\n",
    "reg_lambda = "
   ]
  },
  {
   "cell_type": "code",
   "execution_count": 20,
   "metadata": {
    "id": "pXyuqfpI_Q7H"
   },
   "outputs": [
    {
     "name": "stdout",
     "output_type": "stream",
     "text": [
      "Finished the model with n_estimators = 10\n",
      "--- 26.871601819992065 seconds ---\n",
      "Finished the model with n_estimators = 30\n",
      "--- 50.492982149124146 seconds ---\n",
      "Finished the model with n_estimators = 50\n",
      "--- 70.56165099143982 seconds ---\n",
      "Finished the model with n_estimators = 100\n",
      "--- 105.02547812461853 seconds ---\n",
      "Finished the model with n_estimators = 150\n",
      "--- 136.00914788246155 seconds ---\n",
      "Finished the model with n_estimators = 200\n",
      "--- 165.99635195732117 seconds ---\n"
     ]
    }
   ],
   "source": [
    "n_estimators = [10, 30, 50, 100, 150, 200]\n",
    "\n",
    "val_score = np.zeros((len(n_estimators)))\n",
    "\n",
    "for i in range(len(n_estimators)):\n",
    "    start_time = time.time()\n",
    "    mod1 = lgb.LGBMClassifier(objective = 'multiclass', class_weight = \"balanced\", random_state = 1234, n_jobs = -1,\n",
    "                         learning_rate = 0.1, n_estimators = n_estimators[i])\n",
    "    fit1 = mod1.fit(basictrain, train.Strategy)\n",
    "    pred1 = fit1.predict(basicvalidation)\n",
    "    val_score[i] = score(validation.Strategy, pred1)\n",
    "    \n",
    "    print(\"Finished the model with n_estimators =\", n_estimators[i])\n",
    "    print(\"--- %s seconds ---\" % (time.time() - start_time))"
   ]
  },
  {
   "cell_type": "code",
   "execution_count": 21,
   "metadata": {},
   "outputs": [
    {
     "data": {
      "text/plain": [
       "array([0.24164576, 0.24356832, 0.24443593, 0.24728652, 0.24538948,\n",
       "       0.24416201])"
      ]
     },
     "execution_count": 21,
     "metadata": {},
     "output_type": "execute_result"
    }
   ],
   "source": [
    "val_score"
   ]
  },
  {
   "cell_type": "code",
   "execution_count": 22,
   "metadata": {},
   "outputs": [
    {
     "data": {
      "text/plain": [
       "0.24728652498425713"
      ]
     },
     "execution_count": 22,
     "metadata": {},
     "output_type": "execute_result"
    }
   ],
   "source": [
    "val_score[3]"
   ]
  },
  {
   "cell_type": "code",
   "execution_count": 26,
   "metadata": {},
   "outputs": [
    {
     "name": "stdout",
     "output_type": "stream",
     "text": [
      "Finished the model with max_depth = 1\n",
      "--- 44.48656368255615 seconds ---\n",
      "Finished the model with max_depth = 2\n",
      "--- 52.9736750125885 seconds ---\n",
      "Finished the model with max_depth = 3\n",
      "--- 60.172322034835815 seconds ---\n",
      "Finished the model with max_depth = 4\n",
      "--- 68.90432095527649 seconds ---\n",
      "Finished the model with max_depth = 5\n",
      "--- 78.85705184936523 seconds ---\n",
      "Finished the model with max_depth = 6\n",
      "--- 90.81422400474548 seconds ---\n",
      "Finished the model with max_depth = 7\n",
      "--- 105.76493906974792 seconds ---\n",
      "Finished the model with max_depth = 8\n",
      "--- 125.13331723213196 seconds ---\n",
      "Finished the model with max_depth = 9\n",
      "--- 146.96611499786377 seconds ---\n",
      "Finished the model with max_depth = 10\n",
      "--- 213.18199801445007 seconds ---\n"
     ]
    }
   ],
   "source": [
    "max_depth = [1,2,3,4,5,6,7,8,9,10]\n",
    "\n",
    "val_score = np.zeros((len(max_depth)))\n",
    "\n",
    "for i in range(len(max_depth)):\n",
    "    start_time = time.time()\n",
    "    mod1 = lgb.LGBMClassifier(objective = 'multiclass', class_weight = \"balanced\", random_state = 1234, n_jobs = -1,\n",
    "                         learning_rate = 0.1, n_estimators = 100, max_depth = max_depth[i], num_leaves = 2**max_depth[i]+1)\n",
    "    fit1 = mod1.fit(basictrain, train.Strategy)\n",
    "    pred1 = fit1.predict(basicvalidation)\n",
    "    val_score[i] = score(validation.Strategy, pred1)\n",
    "    \n",
    "    print(\"Finished the model with max_depth =\", max_depth[i])\n",
    "    print(\"--- %s seconds ---\" % (time.time() - start_time))"
   ]
  },
  {
   "cell_type": "code",
   "execution_count": 27,
   "metadata": {},
   "outputs": [
    {
     "data": {
      "text/plain": [
       "array([0.23467666, 0.23171332, 0.23857736, 0.24210893, 0.24322026,\n",
       "       0.24533902, 0.24677182, 0.24253333, 0.23870384, 0.24016146])"
      ]
     },
     "execution_count": 27,
     "metadata": {},
     "output_type": "execute_result"
    }
   ],
   "source": [
    "val_score"
   ]
  },
  {
   "cell_type": "code",
   "execution_count": 28,
   "metadata": {},
   "outputs": [
    {
     "data": {
      "text/plain": [
       "0.24677182446577456"
      ]
     },
     "execution_count": 28,
     "metadata": {},
     "output_type": "execute_result"
    }
   ],
   "source": [
    "val_score[6]"
   ]
  },
  {
   "cell_type": "code",
   "execution_count": 30,
   "metadata": {},
   "outputs": [
    {
     "name": "stdout",
     "output_type": "stream",
     "text": [
      "Finished the model with colsample_bytree = 0.1\n",
      "--- 84.28679013252258 seconds ---\n",
      "Finished the model with colsample_bytree = 0.2\n",
      "--- 111.54145789146423 seconds ---\n",
      "Finished the model with colsample_bytree = 0.3\n",
      "--- 141.03445291519165 seconds ---\n",
      "Finished the model with colsample_bytree = 0.4\n",
      "--- 168.35745477676392 seconds ---\n",
      "Finished the model with colsample_bytree = 0.5\n",
      "--- 191.37067127227783 seconds ---\n",
      "Finished the model with colsample_bytree = 0.6\n",
      "--- 201.22482800483704 seconds ---\n",
      "Finished the model with colsample_bytree = 0.7\n",
      "--- 184.98922395706177 seconds ---\n",
      "Finished the model with colsample_bytree = 0.8\n",
      "--- 190.07721090316772 seconds ---\n",
      "Finished the model with colsample_bytree = 0.9\n",
      "--- 191.4558720588684 seconds ---\n",
      "Finished the model with colsample_bytree = 1\n",
      "--- 194.02742886543274 seconds ---\n"
     ]
    }
   ],
   "source": [
    "colsample_bytree = [0.1, 0.2, 0.3, 0.4, 0.5, 0.6, 0.7, 0.8,0.9,1]\n",
    "\n",
    "val_score = np.zeros(len(colsample_bytree))\n",
    "\n",
    "for i in range(len(colsample_bytree)):\n",
    "    start_time = time.time()\n",
    "    mod1 = lgb.LGBMClassifier(objective = 'multiclass', class_weight = \"balanced\", random_state = 1234, n_jobs = -1,\n",
    "                        learning_rate = 0.1, n_estimators = 100, max_depth = 7, num_leaves = 129, \n",
    "                        colsample_bytree = colsample_bytree[i])\n",
    "    fit1 = mod1.fit(basictrain, train.Strategy)\n",
    "    fit1 = mod1.fit(basictrain, train.Strategy)\n",
    "    pred1 = fit1.predict(basicvalidation)\n",
    "    val_score[i] = score(validation.Strategy, pred1)\n",
    "    \n",
    "    print(\"Finished the model with colsample_bytree =\", colsample_bytree[i])\n",
    "    print(\"--- %s seconds ---\" % (time.time() - start_time))"
   ]
  },
  {
   "cell_type": "code",
   "execution_count": 31,
   "metadata": {},
   "outputs": [
    {
     "data": {
      "text/plain": [
       "array([0.24193178, 0.24544116, 0.24481686, 0.24426364, 0.24201208,\n",
       "       0.24322468, 0.24480811, 0.24823913, 0.25091512, 0.24677182])"
      ]
     },
     "execution_count": 31,
     "metadata": {},
     "output_type": "execute_result"
    }
   ],
   "source": [
    "val_score"
   ]
  },
  {
   "cell_type": "code",
   "execution_count": 32,
   "metadata": {},
   "outputs": [
    {
     "name": "stdout",
     "output_type": "stream",
     "text": [
      "Finished the model with reg_alpha = 0 and reg_lambda = 0\n",
      "--- 97.59093308448792 seconds ---\n",
      "Finished the model with reg_alpha = 0 and reg_lambda = 1\n",
      "--- 103.2830798625946 seconds ---\n",
      "Finished the model with reg_alpha = 0 and reg_lambda = 2\n",
      "--- 100.78897404670715 seconds ---\n",
      "Finished the model with reg_alpha = 0 and reg_lambda = 3\n",
      "--- 105.84365367889404 seconds ---\n",
      "Finished the model with reg_alpha = 0 and reg_lambda = 4\n",
      "--- 103.55224609375 seconds ---\n",
      "Finished the model with reg_alpha = 0 and reg_lambda = 5\n",
      "--- 103.04143714904785 seconds ---\n",
      "Finished the model with reg_alpha = 1 and reg_lambda = 0\n",
      "--- 108.25446486473083 seconds ---\n",
      "Finished the model with reg_alpha = 1 and reg_lambda = 1\n",
      "--- 109.20595717430115 seconds ---\n",
      "Finished the model with reg_alpha = 1 and reg_lambda = 2\n",
      "--- 113.45925092697144 seconds ---\n",
      "Finished the model with reg_alpha = 1 and reg_lambda = 3\n",
      "--- 111.45858907699585 seconds ---\n",
      "Finished the model with reg_alpha = 1 and reg_lambda = 4\n",
      "--- 111.08317995071411 seconds ---\n",
      "Finished the model with reg_alpha = 1 and reg_lambda = 5\n",
      "--- 111.10902404785156 seconds ---\n",
      "Finished the model with reg_alpha = 2 and reg_lambda = 0\n",
      "--- 111.09776997566223 seconds ---\n",
      "Finished the model with reg_alpha = 2 and reg_lambda = 1\n",
      "--- 111.21987509727478 seconds ---\n",
      "Finished the model with reg_alpha = 2 and reg_lambda = 2\n",
      "--- 112.45910286903381 seconds ---\n",
      "Finished the model with reg_alpha = 2 and reg_lambda = 3\n",
      "--- 112.06225991249084 seconds ---\n",
      "Finished the model with reg_alpha = 2 and reg_lambda = 4\n",
      "--- 112.73278069496155 seconds ---\n",
      "Finished the model with reg_alpha = 2 and reg_lambda = 5\n",
      "--- 112.93536615371704 seconds ---\n",
      "Finished the model with reg_alpha = 3 and reg_lambda = 0\n",
      "--- 112.57226181030273 seconds ---\n",
      "Finished the model with reg_alpha = 3 and reg_lambda = 1\n",
      "--- 113.50973701477051 seconds ---\n",
      "Finished the model with reg_alpha = 3 and reg_lambda = 2\n",
      "--- 114.39769220352173 seconds ---\n",
      "Finished the model with reg_alpha = 3 and reg_lambda = 3\n",
      "--- 114.47129702568054 seconds ---\n",
      "Finished the model with reg_alpha = 3 and reg_lambda = 4\n",
      "--- 114.89984607696533 seconds ---\n",
      "Finished the model with reg_alpha = 3 and reg_lambda = 5\n",
      "--- 115.62624001502991 seconds ---\n",
      "Finished the model with reg_alpha = 4 and reg_lambda = 0\n",
      "--- 115.1252818107605 seconds ---\n",
      "Finished the model with reg_alpha = 4 and reg_lambda = 1\n",
      "--- 115.22489213943481 seconds ---\n",
      "Finished the model with reg_alpha = 4 and reg_lambda = 2\n",
      "--- 116.13877201080322 seconds ---\n",
      "Finished the model with reg_alpha = 4 and reg_lambda = 3\n",
      "--- 166.71573209762573 seconds ---\n",
      "Finished the model with reg_alpha = 4 and reg_lambda = 4\n",
      "--- 166.77685499191284 seconds ---\n",
      "Finished the model with reg_alpha = 4 and reg_lambda = 5\n",
      "--- 185.15667295455933 seconds ---\n",
      "Finished the model with reg_alpha = 5 and reg_lambda = 0\n",
      "--- 188.10776805877686 seconds ---\n",
      "Finished the model with reg_alpha = 5 and reg_lambda = 1\n",
      "--- 190.33563113212585 seconds ---\n",
      "Finished the model with reg_alpha = 5 and reg_lambda = 2\n",
      "--- 191.3891749382019 seconds ---\n",
      "Finished the model with reg_alpha = 5 and reg_lambda = 3\n",
      "--- 194.16763520240784 seconds ---\n",
      "Finished the model with reg_alpha = 5 and reg_lambda = 4\n",
      "--- 192.31100296974182 seconds ---\n",
      "Finished the model with reg_alpha = 5 and reg_lambda = 5\n",
      "--- 186.8812611103058 seconds ---\n"
     ]
    }
   ],
   "source": [
    "reg_alpha = [0, 1, 2,3,4,5]\n",
    "reg_lambda = [0, 1, 2,3,4,5]\n",
    "\n",
    "val_score = np.zeros((len(reg_alpha), len(reg_lambda)))\n",
    "\n",
    "for i in range(len(reg_alpha)):\n",
    "    for j in range(len(reg_lambda)):\n",
    "        start_time = time.time()\n",
    "        mod1 = lgb.LGBMClassifier(objective = 'multiclass', class_weight = \"balanced\", random_state = 1234, n_jobs = -1,\n",
    "                        learning_rate = 0.1, n_estimators = 100, max_depth = 7, num_leaves = 129, \n",
    "                        colsample_bytree = 0.9, reg_alpha = reg_alpha[i], reg_lambda = reg_lambda[j])\n",
    "        fit1 = mod1.fit(basictrain, train.Strategy)\n",
    "        pred1 = fit1.predict(basicvalidation)\n",
    "        val_score[i,j] = score(validation.Strategy, pred1)\n",
    "    \n",
    "        print(\"Finished the model with reg_alpha =\", reg_alpha[i], \"and reg_lambda =\", reg_lambda[j])\n",
    "        print(\"--- %s seconds ---\" % (time.time() - start_time))"
   ]
  },
  {
   "cell_type": "code",
   "execution_count": 33,
   "metadata": {},
   "outputs": [
    {
     "data": {
      "text/plain": [
       "0.25091511725024623"
      ]
     },
     "execution_count": 33,
     "metadata": {},
     "output_type": "execute_result"
    }
   ],
   "source": [
    "val_score.max()"
   ]
  },
  {
   "cell_type": "code",
   "execution_count": 34,
   "metadata": {},
   "outputs": [
    {
     "data": {
      "text/plain": [
       "array([0.25091512, 0.24670921, 0.2454149 , 0.24691761, 0.24784352,\n",
       "       0.24413511])"
      ]
     },
     "execution_count": 34,
     "metadata": {},
     "output_type": "execute_result"
    }
   ],
   "source": [
    "val_score.max(axis =1)"
   ]
  },
  {
   "cell_type": "code",
   "execution_count": 35,
   "metadata": {},
   "outputs": [
    {
     "data": {
      "text/plain": [
       "array([0.25091512, 0.24511502, 0.24524746, 0.24866457, 0.24605379,\n",
       "       0.24784352])"
      ]
     },
     "execution_count": 35,
     "metadata": {},
     "output_type": "execute_result"
    }
   ],
   "source": [
    "val_score.max(axis =0)"
   ]
  },
  {
   "cell_type": "code",
   "execution_count": 36,
   "metadata": {},
   "outputs": [
    {
     "data": {
      "text/plain": [
       "0.25091511725024623"
      ]
     },
     "execution_count": 36,
     "metadata": {},
     "output_type": "execute_result"
    }
   ],
   "source": [
    "val_score[0, 0]"
   ]
  },
  {
   "cell_type": "code",
   "execution_count": 19,
   "metadata": {},
   "outputs": [
    {
     "name": "stdout",
     "output_type": "stream",
     "text": [
      "Finished the model with min_df = 0.01 and max_df =  0.8\n",
      "Finished the model with min_df = 0.01 and max_df =  0.85\n",
      "Finished the model with min_df = 0.01 and max_df =  0.9\n",
      "Finished the model with min_df = 0.01 and max_df =  0.95\n",
      "Finished the model with min_df = 0.01 and max_df =  1\n",
      "Finished the model with min_df = 0.02 and max_df =  0.8\n",
      "Finished the model with min_df = 0.02 and max_df =  0.85\n",
      "Finished the model with min_df = 0.02 and max_df =  0.9\n",
      "Finished the model with min_df = 0.02 and max_df =  0.95\n",
      "Finished the model with min_df = 0.02 and max_df =  1\n",
      "Finished the model with min_df = 0.03 and max_df =  0.8\n",
      "Finished the model with min_df = 0.03 and max_df =  0.85\n",
      "Finished the model with min_df = 0.03 and max_df =  0.9\n",
      "Finished the model with min_df = 0.03 and max_df =  0.95\n",
      "Finished the model with min_df = 0.03 and max_df =  1\n",
      "Finished the model with min_df = 0.04 and max_df =  0.8\n",
      "Finished the model with min_df = 0.04 and max_df =  0.85\n",
      "Finished the model with min_df = 0.04 and max_df =  0.9\n",
      "Finished the model with min_df = 0.04 and max_df =  0.95\n",
      "Finished the model with min_df = 0.04 and max_df =  1\n"
     ]
    }
   ],
   "source": [
    "mod1 = lgb.LGBMClassifier(objective = 'multiclass', class_weight = \"balanced\", random_state = 1234, n_jobs = -1,\n",
    "                        learning_rate = 0.1, n_estimators = 100, max_depth = 7, num_leaves = 129, \n",
    "                        colsample_bytree = 0.9, reg_alpha = 0, reg_lambda = 0)\n",
    "\n",
    "min_df = [0.01, 0.02, 0.03, 0.04]\n",
    "max_df = [0.8, 0.85, 0.9, 0.95, 1]\n",
    "\n",
    "val_score = np.zeros((len(min_df), len(max_df)))\n",
    "\n",
    "for i in range(len(min_df)):\n",
    "    for j in range(len(max_df)):\n",
    "        if max_df[j] == 1:\n",
    "            basicvectorizer = TfidfVectorizer(ngram_range=(1,1), min_df = min_df[i])\n",
    "        else:\n",
    "            basicvectorizer = TfidfVectorizer(ngram_range=(1,1), min_df = min_df[i], max_df = max_df[j])\n",
    "        basictrain = basicvectorizer.fit_transform(train.News)\n",
    "        basicvalidation = basicvectorizer.transform(validation.News)\n",
    "        \n",
    "        fit1 = mod1.fit(basictrain, train.Strategy)\n",
    "        pred1 = fit1.predict(basicvalidation)\n",
    "        val_score[i,j] = score(validation.Strategy, pred1)\n",
    "        print(\"Finished the model with min_df =\", min_df[i], \"and max_df = \", max_df[j])"
   ]
  },
  {
   "cell_type": "code",
   "execution_count": 21,
   "metadata": {},
   "outputs": [
    {
     "data": {
      "text/plain": [
       "array([0.24473408, 0.25091512, 0.24381912, 0.24341778])"
      ]
     },
     "execution_count": 21,
     "metadata": {},
     "output_type": "execute_result"
    }
   ],
   "source": [
    "val_score.max(axis = 1)"
   ]
  },
  {
   "cell_type": "code",
   "execution_count": 22,
   "metadata": {},
   "outputs": [
    {
     "data": {
      "text/plain": [
       "array([0.24473408, 0.25091512, 0.2434385 , 0.2434385 , 0.2434385 ])"
      ]
     },
     "execution_count": 22,
     "metadata": {},
     "output_type": "execute_result"
    }
   ],
   "source": [
    "val_score.max(axis = 0)"
   ]
  },
  {
   "cell_type": "code",
   "execution_count": 23,
   "metadata": {},
   "outputs": [],
   "source": [
    "basicvectorizer = TfidfVectorizer(ngram_range=(1,1), min_df = 0.02, max_df = 0.85)\n",
    "basictrain = basicvectorizer.fit_transform(train.News)\n",
    "basicvalidation = basicvectorizer.transform(validation.News)\n",
    "basictest = basicvectorizer.transform(test.News)"
   ]
  },
  {
   "cell_type": "code",
   "execution_count": 26,
   "metadata": {},
   "outputs": [
    {
     "name": "stdout",
     "output_type": "stream",
     "text": [
      "Finished the model with n_estimators = 10\n",
      "--- 30.039335012435913 seconds ---\n",
      "Finished the model with n_estimators = 30\n",
      "--- 52.75768995285034 seconds ---\n",
      "Finished the model with n_estimators = 50\n",
      "--- 74.7722008228302 seconds ---\n",
      "Finished the model with n_estimators = 100\n",
      "--- 105.19764423370361 seconds ---\n",
      "Finished the model with n_estimators = 150\n",
      "--- 131.8245210647583 seconds ---\n",
      "Finished the model with n_estimators = 200\n",
      "--- 160.7210750579834 seconds ---\n",
      "Finished the model with n_estimators = 300\n",
      "--- 219.15481400489807 seconds ---\n"
     ]
    }
   ],
   "source": [
    "n_estimators = [10, 30, 50, 100, 150, 200, 300]\n",
    "\n",
    "val_score = np.zeros((len(n_estimators)))\n",
    "\n",
    "for i in range(len(n_estimators)):\n",
    "    start_time = time.time()\n",
    "    mod1 = lgb.LGBMClassifier(objective = 'multiclass', class_weight = \"balanced\", random_state = 1234, n_jobs = -1,\n",
    "                        learning_rate = 0.1, n_estimators = n_estimators[i], max_depth = 7, num_leaves = 129, \n",
    "                        colsample_bytree = 0.9, reg_alpha = 0, reg_lambda = 0)\n",
    "    fit1 = mod1.fit(basictrain, train.Strategy)\n",
    "    pred1 = fit1.predict(basicvalidation)\n",
    "    val_score[i] = score(validation.Strategy, pred1)\n",
    "    \n",
    "    print(\"Finished the model with n_estimators =\", n_estimators[i])\n",
    "    print(\"--- %s seconds ---\" % (time.time() - start_time))"
   ]
  },
  {
   "cell_type": "code",
   "execution_count": 27,
   "metadata": {},
   "outputs": [
    {
     "data": {
      "text/plain": [
       "array([0.2372081 , 0.24573854, 0.24706324, 0.25091512, 0.24540242,\n",
       "       0.24284507, 0.24131739])"
      ]
     },
     "execution_count": 27,
     "metadata": {},
     "output_type": "execute_result"
    }
   ],
   "source": [
    "val_score"
   ]
  },
  {
   "cell_type": "markdown",
   "metadata": {},
   "source": [
    "# Finalised 1-gram model"
   ]
  },
  {
   "cell_type": "code",
   "execution_count": 41,
   "metadata": {},
   "outputs": [],
   "source": [
    "basicvectorizer = TfidfVectorizer(ngram_range=(1,1), min_df = 0.02, max_df = 0.85)\n",
    "basictrain = basicvectorizer.fit_transform(train.News)\n",
    "basicvalidation = basicvectorizer.transform(validation.News)\n",
    "basictest = basicvectorizer.transform(test.News)\n",
    "\n",
    "mod1 = lgb.LGBMClassifier(objective = 'multiclass', class_weight = \"balanced\", random_state = 1234, n_jobs = -1,\n",
    "                        learning_rate = 0.1, n_estimators = 100, max_depth = 7, num_leaves = 129, \n",
    "                        colsample_bytree = 0.9, reg_alpha = 0, reg_lambda = 0)\n",
    "fit1 = mod1.fit(basictrain, train.Strategy)\n",
    "pred1_train = fit1.predict(basictrain)\n",
    "pred1 = fit1.predict(basicvalidation)\n",
    "pred1_test = fit1.predict(basictest)"
   ]
  },
  {
   "cell_type": "code",
   "execution_count": 42,
   "metadata": {},
   "outputs": [
    {
     "name": "stderr",
     "output_type": "stream",
     "text": [
      "/Users/andrewyu/opt/anaconda3/lib/python3.8/site-packages/sklearn/utils/validation.py:67: FutureWarning: Pass labels=[0, 1, 2] as keyword args. From version 0.25 passing these as positional arguments will result in an error\n",
      "  warnings.warn(\"Pass {} as keyword args. From version 0.25 \"\n"
     ]
    },
    {
     "name": "stdout",
     "output_type": "stream",
     "text": [
      "              precision    recall  f1-score   support\n",
      "\n",
      "           0       0.60      0.62      0.61     33891\n",
      "           1       0.72      0.70      0.71     65551\n",
      "           2       0.61      0.62      0.61     33043\n",
      "\n",
      "    accuracy                           0.66    132485\n",
      "   macro avg       0.64      0.65      0.65    132485\n",
      "weighted avg       0.66      0.66      0.66    132485\n",
      "\n"
     ]
    },
    {
     "data": {
      "text/plain": [
       "0.612330580822817"
      ]
     },
     "execution_count": 42,
     "metadata": {},
     "output_type": "execute_result"
    },
    {
     "data": {
      "image/png": "[encoded data removed]",
      "text/plain": [
       "<Figure size 432x288 with 2 Axes>"
      ]
     },
     "metadata": {
      "needs_background": "light"
     },
     "output_type": "display_data"
    }
   ],
   "source": [
    "performance(train.Strategy, pred1_train)"
   ]
  },
  {
   "cell_type": "code",
   "execution_count": 43,
   "metadata": {},
   "outputs": [
    {
     "name": "stdout",
     "output_type": "stream",
     "text": [
      "              precision    recall  f1-score   support\n",
      "\n",
      "           0       0.21      0.40      0.28      7173\n",
      "           1       0.78      0.53      0.63     31106\n",
      "           2       0.19      0.29      0.22      6630\n",
      "\n",
      "    accuracy                           0.47     44909\n",
      "   macro avg       0.39      0.41      0.38     44909\n",
      "weighted avg       0.60      0.47      0.51     44909\n",
      "\n"
     ]
    },
    {
     "data": {
      "text/plain": [
       "0.25091511725024623"
      ]
     },
     "execution_count": 43,
     "metadata": {},
     "output_type": "execute_result"
    },
    {
     "data": {
      "image/png": "[encoded data removed]",
      "text/plain": [
       "<Figure size 432x288 with 2 Axes>"
      ]
     },
     "metadata": {
      "needs_background": "light"
     },
     "output_type": "display_data"
    }
   ],
   "source": [
    "performance(validation.Strategy, pred1)"
   ]
  },
  {
   "cell_type": "code",
   "execution_count": 44,
   "metadata": {},
   "outputs": [
    {
     "name": "stdout",
     "output_type": "stream",
     "text": [
      "              precision    recall  f1-score   support\n",
      "\n",
      "           0       0.23      0.24      0.23      8287\n",
      "           1       0.67      0.68      0.68     27696\n",
      "           2       0.22      0.20      0.21      8081\n",
      "\n",
      "    accuracy                           0.51     44064\n",
      "   macro avg       0.37      0.37      0.37     44064\n",
      "weighted avg       0.51      0.51      0.51     44064\n",
      "\n"
     ]
    },
    {
     "data": {
      "text/plain": [
       "0.22131675759576336"
      ]
     },
     "execution_count": 44,
     "metadata": {},
     "output_type": "execute_result"
    },
    {
     "data": {
      "image/png": "[encoded data removed]",
      "text/plain": [
       "<Figure size 432x288 with 2 Axes>"
      ]
     },
     "metadata": {
      "needs_background": "light"
     },
     "output_type": "display_data"
    }
   ],
   "source": [
    "performance(test.Strategy, pred1_test)"
   ]
  },
  {
   "cell_type": "code",
   "execution_count": 45,
   "metadata": {},
   "outputs": [
    {
     "data": {
      "text/html": [
       "<div>\n",
       "<style scoped>\n",
       "    .dataframe tbody tr th:only-of-type {\n",
       "        vertical-align: middle;\n",
       "    }\n",
       "\n",
       "    .dataframe tbody tr th {\n",
       "        vertical-align: top;\n",
       "    }\n",
       "\n",
       "    .dataframe thead th {\n",
       "        text-align: right;\n",
       "    }\n",
       "</style>\n",
       "<table border=\"1\" class=\"dataframe\">\n",
       "  <thead>\n",
       "    <tr style=\"text-align: right;\">\n",
       "      <th></th>\n",
       "      <th>Words</th>\n",
       "      <th>Feature Importance</th>\n",
       "    </tr>\n",
       "  </thead>\n",
       "  <tbody>\n",
       "    <tr>\n",
       "      <th>1529</th>\n",
       "      <td>follow</td>\n",
       "      <td>117</td>\n",
       "    </tr>\n",
       "    <tr>\n",
       "      <th>667</th>\n",
       "      <td>china</td>\n",
       "      <td>115</td>\n",
       "    </tr>\n",
       "    <tr>\n",
       "      <th>3186</th>\n",
       "      <td>release</td>\n",
       "      <td>96</td>\n",
       "    </tr>\n",
       "    <tr>\n",
       "      <th>3166</th>\n",
       "      <td>reg</td>\n",
       "      <td>82</td>\n",
       "    </tr>\n",
       "    <tr>\n",
       "      <th>3844</th>\n",
       "      <td>test</td>\n",
       "      <td>82</td>\n",
       "    </tr>\n",
       "    <tr>\n",
       "      <th>4037</th>\n",
       "      <td>us</td>\n",
       "      <td>74</td>\n",
       "    </tr>\n",
       "    <tr>\n",
       "      <th>3376</th>\n",
       "      <td>say</td>\n",
       "      <td>72</td>\n",
       "    </tr>\n",
       "    <tr>\n",
       "      <th>1430</th>\n",
       "      <td>fall</td>\n",
       "      <td>70</td>\n",
       "    </tr>\n",
       "    <tr>\n",
       "      <th>2474</th>\n",
       "      <td>mln</td>\n",
       "      <td>68</td>\n",
       "    </tr>\n",
       "    <tr>\n",
       "      <th>176</th>\n",
       "      <td>announces</td>\n",
       "      <td>67</td>\n",
       "    </tr>\n",
       "    <tr>\n",
       "      <th>337</th>\n",
       "      <td>bank</td>\n",
       "      <td>66</td>\n",
       "    </tr>\n",
       "    <tr>\n",
       "      <th>952</th>\n",
       "      <td>cut</td>\n",
       "      <td>66</td>\n",
       "    </tr>\n",
       "    <tr>\n",
       "      <th>2340</th>\n",
       "      <td>market</td>\n",
       "      <td>65</td>\n",
       "    </tr>\n",
       "    <tr>\n",
       "      <th>3214</th>\n",
       "      <td>report</td>\n",
       "      <td>61</td>\n",
       "    </tr>\n",
       "    <tr>\n",
       "      <th>924</th>\n",
       "      <td>crisis</td>\n",
       "      <td>58</td>\n",
       "    </tr>\n",
       "    <tr>\n",
       "      <th>2276</th>\n",
       "      <td>loss</td>\n",
       "      <td>55</td>\n",
       "    </tr>\n",
       "    <tr>\n",
       "      <th>3465</th>\n",
       "      <td>share</td>\n",
       "      <td>55</td>\n",
       "    </tr>\n",
       "    <tr>\n",
       "      <th>3671</th>\n",
       "      <td>stock</td>\n",
       "      <td>53</td>\n",
       "    </tr>\n",
       "    <tr>\n",
       "      <th>2580</th>\n",
       "      <td>new</td>\n",
       "      <td>50</td>\n",
       "    </tr>\n",
       "    <tr>\n",
       "      <th>2870</th>\n",
       "      <td>plan</td>\n",
       "      <td>49</td>\n",
       "    </tr>\n",
       "  </tbody>\n",
       "</table>\n",
       "</div>"
      ],
      "text/plain": [
       "          Words  Feature Importance\n",
       "1529     follow                 117\n",
       "667       china                 115\n",
       "3186    release                  96\n",
       "3166        reg                  82\n",
       "3844       test                  82\n",
       "4037         us                  74\n",
       "3376        say                  72\n",
       "1430       fall                  70\n",
       "2474        mln                  68\n",
       "176   announces                  67\n",
       "337        bank                  66\n",
       "952         cut                  66\n",
       "2340     market                  65\n",
       "3214     report                  61\n",
       "924      crisis                  58\n",
       "2276       loss                  55\n",
       "3465      share                  55\n",
       "3671      stock                  53\n",
       "2580        new                  50\n",
       "2870       plan                  49"
      ]
     },
     "execution_count": 45,
     "metadata": {},
     "output_type": "execute_result"
    }
   ],
   "source": [
    "mod1words = basicvectorizer.get_feature_names()\n",
    "fi = fit1.feature_importances_\n",
    "fidf = pd.DataFrame({'Words' : mod1words, \n",
    "                        'Feature Importance' : fi})\n",
    "\n",
    "fidf = fidf.sort_values(['Feature Importance', 'Words'], ascending=[0, 1])\n",
    "fidf.head(20)"
   ]
  },
  {
   "cell_type": "markdown",
   "metadata": {
    "id": "vWCyYGzw_Q7J"
   },
   "source": [
    "# 2-grams model"
   ]
  },
  {
   "cell_type": "code",
   "execution_count": 46,
   "metadata": {
    "id": "UDCCMf5U_Q7J"
   },
   "outputs": [],
   "source": [
    "basicvectorizer = TfidfVectorizer(ngram_range=(2,2), min_df = 0.02, max_df = 0.85)\n",
    "basictrain = basicvectorizer.fit_transform(train.News)\n",
    "basictest = basicvectorizer.transform(test.News)\n",
    "basicvalidation = basicvectorizer.transform(validation.News)"
   ]
  },
  {
   "cell_type": "code",
   "execution_count": 47,
   "metadata": {
    "id": "SiXuIdpi_Q7J"
   },
   "outputs": [],
   "source": [
    "mod2 = lgb.LGBMClassifier(objective = 'multiclass', class_weight = \"balanced\", random_state = 1234, n_jobs = -1,\n",
    "                        learning_rate = 0.1, n_estimators = 100, max_depth = 7, num_leaves = 129, \n",
    "                        colsample_bytree = 0.9, reg_alpha = 0, reg_lambda = 0)\n",
    "fit2 = mod2.fit(basictrain, train.Strategy)"
   ]
  },
  {
   "cell_type": "code",
   "execution_count": 48,
   "metadata": {
    "id": "vMwAML3u_Q7J",
    "outputId": "8cf4271e-3cd6-473f-dc06-53acff80bfe9"
   },
   "outputs": [],
   "source": [
    "pred2_train = fit2.predict(basictrain)\n",
    "pred2 = fit2.predict(basicvalidation)\n",
    "pred2_test = fit2.predict(basictest)"
   ]
  },
  {
   "cell_type": "code",
   "execution_count": 49,
   "metadata": {},
   "outputs": [
    {
     "name": "stderr",
     "output_type": "stream",
     "text": [
      "/Users/andrewyu/opt/anaconda3/lib/python3.8/site-packages/sklearn/utils/validation.py:67: FutureWarning: Pass labels=[0, 1, 2] as keyword args. From version 0.25 passing these as positional arguments will result in an error\n",
      "  warnings.warn(\"Pass {} as keyword args. From version 0.25 \"\n"
     ]
    },
    {
     "name": "stdout",
     "output_type": "stream",
     "text": [
      "              precision    recall  f1-score   support\n",
      "\n",
      "           0       0.50      0.51      0.51     33891\n",
      "           1       0.67      0.69      0.68     65551\n",
      "           2       0.53      0.48      0.50     33043\n",
      "\n",
      "    accuracy                           0.59    132485\n",
      "   macro avg       0.56      0.56      0.56    132485\n",
      "weighted avg       0.59      0.59      0.59    132485\n",
      "\n"
     ]
    },
    {
     "data": {
      "text/plain": [
       "0.5038060433789409"
      ]
     },
     "execution_count": 49,
     "metadata": {},
     "output_type": "execute_result"
    },
    {
     "data": {
      "image/png": "[encoded data removed]",
      "text/plain": [
       "<Figure size 432x288 with 2 Axes>"
      ]
     },
     "metadata": {
      "needs_background": "light"
     },
     "output_type": "display_data"
    }
   ],
   "source": [
    "performance(train.Strategy, pred2_train)"
   ]
  },
  {
   "cell_type": "code",
   "execution_count": 50,
   "metadata": {},
   "outputs": [
    {
     "name": "stdout",
     "output_type": "stream",
     "text": [
      "              precision    recall  f1-score   support\n",
      "\n",
      "           0       0.20      0.40      0.27      7173\n",
      "           1       0.77      0.56      0.65     31106\n",
      "           2       0.19      0.24      0.21      6630\n",
      "\n",
      "    accuracy                           0.49     44909\n",
      "   macro avg       0.39      0.40      0.38     44909\n",
      "weighted avg       0.60      0.49      0.53     44909\n",
      "\n"
     ]
    },
    {
     "data": {
      "text/plain": [
       "0.24068428109115494"
      ]
     },
     "execution_count": 50,
     "metadata": {},
     "output_type": "execute_result"
    },
    {
     "data": {
      "image/png": "[encoded data removed]",
      "text/plain": [
       "<Figure size 432x288 with 2 Axes>"
      ]
     },
     "metadata": {
      "needs_background": "light"
     },
     "output_type": "display_data"
    }
   ],
   "source": [
    "performance(validation.Strategy, pred2)"
   ]
  },
  {
   "cell_type": "code",
   "execution_count": 51,
   "metadata": {},
   "outputs": [
    {
     "name": "stdout",
     "output_type": "stream",
     "text": [
      "              precision    recall  f1-score   support\n",
      "\n",
      "           0       0.22      0.24      0.23      8287\n",
      "           1       0.66      0.69      0.67     27696\n",
      "           2       0.21      0.16      0.18      8081\n",
      "\n",
      "    accuracy                           0.51     44064\n",
      "   macro avg       0.36      0.36      0.36     44064\n",
      "weighted avg       0.49      0.51      0.50     44064\n",
      "\n"
     ]
    },
    {
     "data": {
      "text/plain": [
       "0.2050623938724242"
      ]
     },
     "execution_count": 51,
     "metadata": {},
     "output_type": "execute_result"
    },
    {
     "data": {
      "image/png": "[encoded data removed]",
      "text/plain": [
       "<Figure size 432x288 with 2 Axes>"
      ]
     },
     "metadata": {
      "needs_background": "light"
     },
     "output_type": "display_data"
    }
   ],
   "source": [
    "performance(test.Strategy, pred2_test)"
   ]
  },
  {
   "cell_type": "markdown",
   "metadata": {},
   "source": [
    "max_df, min_df turning"
   ]
  },
  {
   "cell_type": "code",
   "execution_count": 19,
   "metadata": {
    "id": "hgCDgkZy_Q7K",
    "scrolled": true
   },
   "outputs": [
    {
     "name": "stdout",
     "output_type": "stream",
     "text": [
      "Finished the model with min_df = 0.01 and max_df =  0.4\n",
      "Finished the model with min_df = 0.01 and max_df =  0.6\n",
      "Finished the model with min_df = 0.01 and max_df =  0.8\n",
      "Finished the model with min_df = 0.01 and max_df =  1\n",
      "Finished the model with min_df = 0.02 and max_df =  0.4\n",
      "Finished the model with min_df = 0.02 and max_df =  0.6\n",
      "Finished the model with min_df = 0.02 and max_df =  0.8\n",
      "Finished the model with min_df = 0.02 and max_df =  1\n",
      "Finished the model with min_df = 0.03 and max_df =  0.4\n",
      "Finished the model with min_df = 0.03 and max_df =  0.6\n",
      "Finished the model with min_df = 0.03 and max_df =  0.8\n",
      "Finished the model with min_df = 0.03 and max_df =  1\n",
      "Finished the model with min_df = 0.04 and max_df =  0.4\n",
      "Finished the model with min_df = 0.04 and max_df =  0.6\n",
      "Finished the model with min_df = 0.04 and max_df =  0.8\n",
      "Finished the model with min_df = 0.04 and max_df =  1\n"
     ]
    }
   ],
   "source": [
    "mod3 = lgb.LGBMClassifier(objective = 'multiclass', class_weight = \"balanced\", random_state = 1234, n_jobs = -1,\n",
    "                        learning_rate = 0.1, n_estimators = 100, max_depth = 7, num_leaves = 129, \n",
    "                        colsample_bytree = 0.9, reg_alpha = 0, reg_lambda = 0)\n",
    "\n",
    "min_df = [0.01, 0.02, 0.03, 0.04]\n",
    "max_df = [0.4, 0.6, 0.8, 1]\n",
    "\n",
    "val_score = np.zeros((len(min_df), len(max_df)))\n",
    "\n",
    "for i in range(len(min_df)):\n",
    "    for j in range(len(max_df)):\n",
    "        if max_df[j] == 1:\n",
    "            basicvectorizer = TfidfVectorizer(ngram_range=(2,2), min_df = min_df[i])\n",
    "        else:\n",
    "            basicvectorizer = TfidfVectorizer(ngram_range=(2,2), min_df = min_df[i], max_df = max_df[j])\n",
    "        basictrain = basicvectorizer.fit_transform(train.News)\n",
    "        basicvalidation = basicvectorizer.transform(validation.News)\n",
    "        \n",
    "        fit2 = mod2.fit(basictrain, train.Strategy)\n",
    "        pred2 = fit2.predict(basicvalidation)\n",
    "        val_score[i,j] = score(validation.Strategy, pred2)\n",
    "        print(\"Finished the model with min_df =\", min_df[i], \"and max_df = \", max_df[j])"
   ]
  },
  {
   "cell_type": "code",
   "execution_count": 21,
   "metadata": {},
   "outputs": [
    {
     "data": {
      "text/plain": [
       "array([0.24064329, 0.24291495, 0.23954276, 0.24237584])"
      ]
     },
     "execution_count": 21,
     "metadata": {},
     "output_type": "execute_result"
    }
   ],
   "source": [
    "val_score.max(axis = 1)"
   ]
  },
  {
   "cell_type": "code",
   "execution_count": 23,
   "metadata": {},
   "outputs": [
    {
     "data": {
      "text/plain": [
       "array([0.24291495, 0.24068428, 0.24068428, 0.24068428])"
      ]
     },
     "execution_count": 23,
     "metadata": {},
     "output_type": "execute_result"
    }
   ],
   "source": [
    "val_score.max(axis = 0)"
   ]
  },
  {
   "cell_type": "code",
   "execution_count": 20,
   "metadata": {},
   "outputs": [],
   "source": [
    "basicvectorizer = TfidfVectorizer(ngram_range=(2,2), min_df = 0.02, max_df = 0.4)\n",
    "basictrain = basicvectorizer.fit_transform(train.News)\n",
    "basicvalidation = basicvectorizer.transform(validation.News)\n",
    "basictest = basicvectorizer.transform(test.News)"
   ]
  },
  {
   "cell_type": "code",
   "execution_count": 25,
   "metadata": {},
   "outputs": [
    {
     "name": "stdout",
     "output_type": "stream",
     "text": [
      "Finished the model with n_estimators = 10\n",
      "--- 8.943965911865234 seconds ---\n",
      "Finished the model with n_estimators = 30\n",
      "--- 12.18501615524292 seconds ---\n",
      "Finished the model with n_estimators = 50\n",
      "--- 16.660294771194458 seconds ---\n",
      "Finished the model with n_estimators = 100\n",
      "--- 27.078731060028076 seconds ---\n",
      "Finished the model with n_estimators = 150\n",
      "--- 32.986790895462036 seconds ---\n",
      "Finished the model with n_estimators = 200\n",
      "--- 41.147154092788696 seconds ---\n",
      "Finished the model with n_estimators = 300\n",
      "--- 56.387068033218384 seconds ---\n"
     ]
    }
   ],
   "source": [
    "n_estimators = [10, 30, 50, 100, 150, 200, 300]\n",
    "\n",
    "val_score = np.zeros((len(n_estimators)))\n",
    "\n",
    "for i in range(len(n_estimators)):\n",
    "    start_time = time.time()\n",
    "    mod2 = lgb.LGBMClassifier(objective = 'multiclass', class_weight = \"balanced\", random_state = 1234, n_jobs = -1,\n",
    "                        learning_rate = 0.1, n_estimators = n_estimators[i], max_depth = 7, num_leaves = 129, \n",
    "                        colsample_bytree = 0.9, reg_alpha = 0, reg_lambda = 0)\n",
    "    fit2 = mod2.fit(basictrain, train.Strategy)\n",
    "    pred2 = fit2.predict(basicvalidation)\n",
    "    val_score[i] = score(validation.Strategy, pred2)\n",
    "    \n",
    "    print(\"Finished the model with n_estimators =\", n_estimators[i])\n",
    "    print(\"--- %s seconds ---\" % (time.time() - start_time))"
   ]
  },
  {
   "cell_type": "code",
   "execution_count": 26,
   "metadata": {},
   "outputs": [
    {
     "data": {
      "text/plain": [
       "array([0.23451915, 0.24156449, 0.24138139, 0.24291495, 0.24259572,\n",
       "       0.24102799, 0.23725147])"
      ]
     },
     "execution_count": 26,
     "metadata": {},
     "output_type": "execute_result"
    }
   ],
   "source": [
    "val_score"
   ]
  },
  {
   "cell_type": "code",
   "execution_count": 27,
   "metadata": {},
   "outputs": [
    {
     "data": {
      "text/plain": [
       "0.2429149520558973"
      ]
     },
     "execution_count": 27,
     "metadata": {},
     "output_type": "execute_result"
    }
   ],
   "source": [
    "val_score[3]"
   ]
  },
  {
   "cell_type": "code",
   "execution_count": 28,
   "metadata": {},
   "outputs": [
    {
     "name": "stdout",
     "output_type": "stream",
     "text": [
      "Finished the model with max_depth = 1\n",
      "--- 11.769036054611206 seconds ---\n",
      "Finished the model with max_depth = 2\n",
      "--- 12.4336838722229 seconds ---\n",
      "Finished the model with max_depth = 3\n",
      "--- 14.155574083328247 seconds ---\n",
      "Finished the model with max_depth = 4\n",
      "--- 16.001200914382935 seconds ---\n",
      "Finished the model with max_depth = 5\n",
      "--- 17.936711072921753 seconds ---\n",
      "Finished the model with max_depth = 6\n",
      "--- 20.497804164886475 seconds ---\n",
      "Finished the model with max_depth = 7\n",
      "--- 24.307456970214844 seconds ---\n",
      "Finished the model with max_depth = 8\n",
      "--- 28.879267930984497 seconds ---\n",
      "Finished the model with max_depth = 9\n",
      "--- 34.667495250701904 seconds ---\n",
      "Finished the model with max_depth = 10\n",
      "--- 43.671287059783936 seconds ---\n"
     ]
    }
   ],
   "source": [
    "max_depth = [1,2,3,4,5,6,7,8,9,10]\n",
    "\n",
    "val_score = np.zeros((len(max_depth)))\n",
    "\n",
    "for i in range(len(max_depth)):\n",
    "    start_time = time.time()\n",
    "    mod2 = lgb.LGBMClassifier(objective = 'multiclass', class_weight = \"balanced\", random_state = 1234, n_jobs = -1,\n",
    "                        learning_rate = 0.1, n_estimators = 100, max_depth = max_depth[i], num_leaves = 2**max_depth[i]+1, \n",
    "                        colsample_bytree = 0.9, reg_alpha = 0, reg_lambda = 0)\n",
    "    fit2 = mod2.fit(basictrain, train.Strategy)\n",
    "    pred2 = fit2.predict(basicvalidation)\n",
    "    val_score[i] = score(validation.Strategy, pred2)\n",
    "\n",
    "    print(\"Finished the model with max_depth =\", max_depth[i])\n",
    "    print(\"--- %s seconds ---\" % (time.time() - start_time))"
   ]
  },
  {
   "cell_type": "code",
   "execution_count": 29,
   "metadata": {},
   "outputs": [
    {
     "data": {
      "text/plain": [
       "array([0.21718587, 0.2218858 , 0.23070896, 0.23662945, 0.23645607,\n",
       "       0.23759007, 0.24291495, 0.24162946, 0.24412608, 0.23895561])"
      ]
     },
     "execution_count": 29,
     "metadata": {},
     "output_type": "execute_result"
    }
   ],
   "source": [
    "val_score"
   ]
  },
  {
   "cell_type": "code",
   "execution_count": 30,
   "metadata": {},
   "outputs": [
    {
     "name": "stdout",
     "output_type": "stream",
     "text": [
      "Finished the model with colsample_bytree = 0.1\n",
      "--- 35.677937030792236 seconds ---\n",
      "Finished the model with colsample_bytree = 0.2\n",
      "--- 46.55678391456604 seconds ---\n",
      "Finished the model with colsample_bytree = 0.3\n",
      "--- 56.36997389793396 seconds ---\n",
      "Finished the model with colsample_bytree = 0.4\n",
      "--- 65.19521880149841 seconds ---\n",
      "Finished the model with colsample_bytree = 0.5\n",
      "--- 75.30300188064575 seconds ---\n",
      "Finished the model with colsample_bytree = 0.6\n",
      "--- 74.24315404891968 seconds ---\n",
      "Finished the model with colsample_bytree = 0.7\n",
      "--- 65.0988130569458 seconds ---\n",
      "Finished the model with colsample_bytree = 0.8\n",
      "--- 66.03393030166626 seconds ---\n",
      "Finished the model with colsample_bytree = 0.9\n",
      "--- 67.77288699150085 seconds ---\n",
      "Finished the model with colsample_bytree = 1\n",
      "--- 69.16404986381531 seconds ---\n"
     ]
    }
   ],
   "source": [
    "colsample_bytree = [0.1, 0.2, 0.3, 0.4, 0.5, 0.6, 0.7, 0.8,0.9,1]\n",
    "\n",
    "val_score = np.zeros(len(colsample_bytree))\n",
    "\n",
    "for i in range(len(colsample_bytree)):\n",
    "    start_time = time.time()\n",
    "    mod2 = lgb.LGBMClassifier(objective = 'multiclass', class_weight = \"balanced\", random_state = 1234, n_jobs = -1,\n",
    "                        learning_rate = 0.1, n_estimators = 100, max_depth = 9, num_leaves = 2**9+1, \n",
    "                        colsample_bytree = colsample_bytree[i], reg_alpha = 0, reg_lambda = 0)\n",
    "    fit2 = mod2.fit(basictrain, train.Strategy)\n",
    "    fit2 = mod2.fit(basictrain, train.Strategy)\n",
    "    pred2 = fit2.predict(basicvalidation)\n",
    "    val_score[i] = score(validation.Strategy, pred2)\n",
    "    \n",
    "    print(\"Finished the model with colsample_bytree =\", colsample_bytree[i])\n",
    "    print(\"--- %s seconds ---\" % (time.time() - start_time))"
   ]
  },
  {
   "cell_type": "code",
   "execution_count": 32,
   "metadata": {},
   "outputs": [
    {
     "data": {
      "text/plain": [
       "0.2441260791572504"
      ]
     },
     "execution_count": 32,
     "metadata": {},
     "output_type": "execute_result"
    }
   ],
   "source": [
    "val_score.max()"
   ]
  },
  {
   "cell_type": "code",
   "execution_count": 33,
   "metadata": {},
   "outputs": [
    {
     "data": {
      "text/plain": [
       "8"
      ]
     },
     "execution_count": 33,
     "metadata": {},
     "output_type": "execute_result"
    }
   ],
   "source": [
    "val_score.argmax()"
   ]
  },
  {
   "cell_type": "code",
   "execution_count": 36,
   "metadata": {},
   "outputs": [
    {
     "name": "stdout",
     "output_type": "stream",
     "text": [
      "Finished the model with reg_alpha = 0 and reg_lambda = 0\n",
      "--- 64.86676383018494 seconds ---\n",
      "Finished the model with reg_alpha = 0 and reg_lambda = 1\n",
      "--- 68.39655685424805 seconds ---\n",
      "Finished the model with reg_alpha = 0 and reg_lambda = 2\n",
      "--- 68.67139196395874 seconds ---\n",
      "Finished the model with reg_alpha = 0 and reg_lambda = 3\n",
      "--- 67.93736910820007 seconds ---\n",
      "Finished the model with reg_alpha = 0 and reg_lambda = 4\n",
      "--- 68.23092317581177 seconds ---\n",
      "Finished the model with reg_alpha = 0 and reg_lambda = 5\n",
      "--- 69.43372297286987 seconds ---\n",
      "Finished the model with reg_alpha = 1 and reg_lambda = 0\n",
      "--- 73.55054998397827 seconds ---\n",
      "Finished the model with reg_alpha = 1 and reg_lambda = 1\n",
      "--- 73.64712309837341 seconds ---\n",
      "Finished the model with reg_alpha = 1 and reg_lambda = 2\n",
      "--- 74.11304092407227 seconds ---\n",
      "Finished the model with reg_alpha = 1 and reg_lambda = 3\n",
      "--- 74.2677960395813 seconds ---\n",
      "Finished the model with reg_alpha = 1 and reg_lambda = 4\n",
      "--- 75.1329071521759 seconds ---\n",
      "Finished the model with reg_alpha = 1 and reg_lambda = 5\n",
      "--- 74.5184211730957 seconds ---\n",
      "Finished the model with reg_alpha = 2 and reg_lambda = 0\n",
      "--- 74.2328429222107 seconds ---\n",
      "Finished the model with reg_alpha = 2 and reg_lambda = 1\n",
      "--- 75.28143525123596 seconds ---\n",
      "Finished the model with reg_alpha = 2 and reg_lambda = 2\n",
      "--- 75.67678713798523 seconds ---\n",
      "Finished the model with reg_alpha = 2 and reg_lambda = 3\n",
      "--- 76.47254872322083 seconds ---\n",
      "Finished the model with reg_alpha = 2 and reg_lambda = 4\n",
      "--- 77.12506127357483 seconds ---\n",
      "Finished the model with reg_alpha = 2 and reg_lambda = 5\n",
      "--- 77.39449787139893 seconds ---\n",
      "Finished the model with reg_alpha = 3 and reg_lambda = 0\n",
      "--- 78.14006400108337 seconds ---\n",
      "Finished the model with reg_alpha = 3 and reg_lambda = 1\n",
      "--- 78.9646201133728 seconds ---\n",
      "Finished the model with reg_alpha = 3 and reg_lambda = 2\n",
      "--- 77.74156498908997 seconds ---\n",
      "Finished the model with reg_alpha = 3 and reg_lambda = 3\n",
      "--- 77.96139693260193 seconds ---\n",
      "Finished the model with reg_alpha = 3 and reg_lambda = 4\n",
      "--- 77.31222081184387 seconds ---\n",
      "Finished the model with reg_alpha = 3 and reg_lambda = 5\n",
      "--- 77.7851710319519 seconds ---\n",
      "Finished the model with reg_alpha = 4 and reg_lambda = 0\n",
      "--- 78.21592307090759 seconds ---\n",
      "Finished the model with reg_alpha = 4 and reg_lambda = 1\n",
      "--- 79.48047709465027 seconds ---\n",
      "Finished the model with reg_alpha = 4 and reg_lambda = 2\n",
      "--- 78.34496712684631 seconds ---\n",
      "Finished the model with reg_alpha = 4 and reg_lambda = 3\n",
      "--- 79.23659300804138 seconds ---\n",
      "Finished the model with reg_alpha = 4 and reg_lambda = 4\n",
      "--- 79.67125463485718 seconds ---\n",
      "Finished the model with reg_alpha = 4 and reg_lambda = 5\n",
      "--- 79.116366147995 seconds ---\n",
      "Finished the model with reg_alpha = 5 and reg_lambda = 0\n",
      "--- 79.76085782051086 seconds ---\n",
      "Finished the model with reg_alpha = 5 and reg_lambda = 1\n",
      "--- 79.6461226940155 seconds ---\n",
      "Finished the model with reg_alpha = 5 and reg_lambda = 2\n",
      "--- 79.71411180496216 seconds ---\n",
      "Finished the model with reg_alpha = 5 and reg_lambda = 3\n",
      "--- 81.27902483940125 seconds ---\n",
      "Finished the model with reg_alpha = 5 and reg_lambda = 4\n",
      "--- 81.62904405593872 seconds ---\n",
      "Finished the model with reg_alpha = 5 and reg_lambda = 5\n",
      "--- 80.90852093696594 seconds ---\n"
     ]
    }
   ],
   "source": [
    "reg_alpha = [0, 1, 2,3,4,5]\n",
    "reg_lambda = [0, 1, 2,3,4,5]\n",
    "\n",
    "val_score = np.zeros((len(reg_alpha), len(reg_lambda)))\n",
    "\n",
    "for i in range(len(reg_alpha)):\n",
    "    for j in range(len(reg_lambda)):\n",
    "        start_time = time.time()\n",
    "        mod2 = lgb.LGBMClassifier(objective = 'multiclass', class_weight = \"balanced\", random_state = 1234, n_jobs = -1,\n",
    "                        learning_rate = 0.1, n_estimators = 100, max_depth = 9, num_leaves = 2**9+1, \n",
    "                        colsample_bytree = 0.9, reg_alpha = reg_alpha[i], reg_lambda = reg_lambda[j])\n",
    "        fit2 = mod2.fit(basictrain, train.Strategy)\n",
    "        fit2 = mod2.fit(basictrain, train.Strategy)\n",
    "        pred2 = fit2.predict(basicvalidation)\n",
    "        val_score[i,j] = score(validation.Strategy, pred2)\n",
    "    \n",
    "        print(\"Finished the model with reg_alpha =\", reg_alpha[i], \"and reg_lambda =\", reg_lambda[j])\n",
    "        print(\"--- %s seconds ---\" % (time.time() - start_time))"
   ]
  },
  {
   "cell_type": "code",
   "execution_count": 38,
   "metadata": {},
   "outputs": [
    {
     "data": {
      "text/plain": [
       "array([0.24859539, 0.24367023, 0.24531334, 0.24676999, 0.24206932,\n",
       "       0.24325296])"
      ]
     },
     "execution_count": 38,
     "metadata": {},
     "output_type": "execute_result"
    }
   ],
   "source": [
    "val_score.max(axis = 1)"
   ]
  },
  {
   "cell_type": "code",
   "execution_count": 39,
   "metadata": {},
   "outputs": [
    {
     "data": {
      "text/plain": [
       "array([0.24412608, 0.24385943, 0.24621335, 0.2429486 , 0.24859539,\n",
       "       0.24676999])"
      ]
     },
     "execution_count": 39,
     "metadata": {},
     "output_type": "execute_result"
    }
   ],
   "source": [
    "val_score.max(axis = 0)"
   ]
  },
  {
   "cell_type": "markdown",
   "metadata": {},
   "source": [
    "# Finalised 2-gram model"
   ]
  },
  {
   "cell_type": "code",
   "execution_count": 21,
   "metadata": {},
   "outputs": [],
   "source": [
    "mod2 = lgb.LGBMClassifier(objective = 'multiclass', class_weight = \"balanced\", random_state = 1234, n_jobs = -1,\n",
    "                        learning_rate = 0.1, n_estimators = 100, max_depth = 9, num_leaves = 2**9+1, \n",
    "                        colsample_bytree = 0.9, reg_alpha = 0, reg_lambda = 4)"
   ]
  },
  {
   "cell_type": "code",
   "execution_count": 22,
   "metadata": {
    "id": "0b3hGMyu_Q7O"
   },
   "outputs": [],
   "source": [
    "fit2 = mod2.fit(basictrain, train.Strategy)\n",
    "pred2_train = fit2.predict(basictrain)\n",
    "pred2 = fit2.predict(basicvalidation)\n",
    "pred2_test = fit2.predict(basictest)"
   ]
  },
  {
   "cell_type": "code",
   "execution_count": 23,
   "metadata": {},
   "outputs": [
    {
     "name": "stderr",
     "output_type": "stream",
     "text": [
      "/Users/andrewyu/opt/anaconda3/lib/python3.8/site-packages/sklearn/utils/validation.py:67: FutureWarning: Pass labels=[0, 1, 2] as keyword args. From version 0.25 passing these as positional arguments will result in an error\n",
      "  warnings.warn(\"Pass {} as keyword args. From version 0.25 \"\n"
     ]
    },
    {
     "name": "stdout",
     "output_type": "stream",
     "text": [
      "              precision    recall  f1-score   support\n",
      "\n",
      "           0       0.56      0.56      0.56     33891\n",
      "           1       0.69      0.71      0.70     65551\n",
      "           2       0.58      0.55      0.57     33043\n",
      "\n",
      "    accuracy                           0.63    132485\n",
      "   macro avg       0.61      0.61      0.61    132485\n",
      "weighted avg       0.63      0.63      0.63    132485\n",
      "\n"
     ]
    },
    {
     "data": {
      "text/plain": [
       "0.5644794469364278"
      ]
     },
     "execution_count": 23,
     "metadata": {},
     "output_type": "execute_result"
    },
    {
     "data": {
      "image/png": "[encoded data removed]",
      "text/plain": [
       "<Figure size 432x288 with 2 Axes>"
      ]
     },
     "metadata": {
      "needs_background": "light"
     },
     "output_type": "display_data"
    }
   ],
   "source": [
    "performance(train.Strategy, pred2_train)"
   ]
  },
  {
   "cell_type": "code",
   "execution_count": 24,
   "metadata": {},
   "outputs": [
    {
     "name": "stdout",
     "output_type": "stream",
     "text": [
      "              precision    recall  f1-score   support\n",
      "\n",
      "           0       0.21      0.38      0.27      7173\n",
      "           1       0.77      0.56      0.65     31106\n",
      "           2       0.19      0.28      0.23      6630\n",
      "\n",
      "    accuracy                           0.49     44909\n",
      "   macro avg       0.39      0.41      0.38     44909\n",
      "weighted avg       0.60      0.49      0.53     44909\n",
      "\n"
     ]
    },
    {
     "data": {
      "text/plain": [
       "0.2485953934202455"
      ]
     },
     "execution_count": 24,
     "metadata": {},
     "output_type": "execute_result"
    },
    {
     "data": {
      "image/png": "[encoded data removed]",
      "text/plain": [
       "<Figure size 432x288 with 2 Axes>"
      ]
     },
     "metadata": {
      "needs_background": "light"
     },
     "output_type": "display_data"
    }
   ],
   "source": [
    "performance(validation.Strategy, pred2)"
   ]
  },
  {
   "cell_type": "code",
   "execution_count": 25,
   "metadata": {},
   "outputs": [
    {
     "name": "stdout",
     "output_type": "stream",
     "text": [
      "              precision    recall  f1-score   support\n",
      "\n",
      "           0       0.22      0.23      0.23      8287\n",
      "           1       0.66      0.67      0.67     27696\n",
      "           2       0.21      0.19      0.20      8081\n",
      "\n",
      "    accuracy                           0.50     44064\n",
      "   macro avg       0.37      0.37      0.37     44064\n",
      "weighted avg       0.50      0.50      0.50     44064\n",
      "\n"
     ]
    },
    {
     "data": {
      "text/plain": [
       "0.21366382839465392"
      ]
     },
     "execution_count": 25,
     "metadata": {},
     "output_type": "execute_result"
    },
    {
     "data": {
      "image/png": "[encoded data removed]",
      "text/plain": [
       "<Figure size 432x288 with 2 Axes>"
      ]
     },
     "metadata": {
      "needs_background": "light"
     },
     "output_type": "display_data"
    }
   ],
   "source": [
    "performance(test.Strategy, pred2_test)"
   ]
  },
  {
   "cell_type": "markdown",
   "metadata": {},
   "source": [
    "# Doc2Vec Model - train a 50-dimensional numeric vector with our own corpus"
   ]
  },
  {
   "cell_type": "code",
   "execution_count": 22,
   "metadata": {},
   "outputs": [
    {
     "data": {
      "text/plain": [
       "0         update confirms putnam talk say deal yet samsu...\n",
       "1         negroponte add weight diplomacy japan toshiba ...\n",
       "2         foreign broker place net japan stock sell orde...\n",
       "3         new chief speed plan reshape bureaucracy updat...\n",
       "4         longs drug store december us sale pct liberty ...\n",
       "                                ...                        \n",
       "132480    royal dutch shell plc interim dividend timetab...\n",
       "132481    elusive greek deal update watch thursday nov s...\n",
       "132482    turkey sabanci revenue grow pct hong kong shar...\n",
       "132483    drop indian national rating criterion bank hyb...\n",
       "132484    spanish bad bank face struggle lure property i...\n",
       "Name: News, Length: 132485, dtype: object"
      ]
     },
     "execution_count": 22,
     "metadata": {},
     "output_type": "execute_result"
    }
   ],
   "source": [
    "train.News"
   ]
  },
  {
   "cell_type": "code",
   "execution_count": null,
   "metadata": {},
   "outputs": [],
   "source": [
    "tokenized_doc = []\n",
    "count = 0\n",
    "for d in train.News:\n",
    "    tokenized_doc.append(word_tokenize(d))\n",
    "    count = count +1\n",
    "    if count % 10000 == 0:\n",
    "        print(\"finished tokenizing the\", count, \"-th row\")"
   ]
  },
  {
   "cell_type": "code",
   "execution_count": 29,
   "metadata": {},
   "outputs": [],
   "source": [
    "tagged_data = [TaggedDocument(d, [i]) for i, d in enumerate(tokenized_doc)]"
   ]
  },
  {
   "cell_type": "markdown",
   "metadata": {},
   "source": [
    "## Use PVDM algo"
   ]
  },
  {
   "cell_type": "code",
   "execution_count": 34,
   "metadata": {},
   "outputs": [
    {
     "name": "stdout",
     "output_type": "stream",
     "text": [
      "iteration 0\n",
      "iteration 1\n"
     ]
    },
    {
     "name": "stderr",
     "output_type": "stream",
     "text": [
      "<ipython-input-34-db9abdc66bfd>:15: DeprecationWarning: Call to deprecated `iter` (Attribute will be removed in 4.0.0, use self.epochs instead).\n",
      "  epochs = model.iter,)\n"
     ]
    },
    {
     "name": "stdout",
     "output_type": "stream",
     "text": [
      "iteration 2\n",
      "iteration 3\n",
      "iteration 4\n",
      "iteration 5\n",
      "iteration 6\n",
      "iteration 7\n",
      "iteration 8\n",
      "iteration 9\n",
      "iteration 10\n",
      "iteration 11\n",
      "iteration 12\n",
      "iteration 13\n",
      "iteration 14\n",
      "iteration 15\n",
      "iteration 16\n",
      "iteration 17\n",
      "iteration 18\n",
      "iteration 19\n",
      "iteration 20\n",
      "iteration 21\n",
      "iteration 22\n",
      "iteration 23\n",
      "iteration 24\n",
      "iteration 25\n",
      "iteration 26\n",
      "iteration 27\n",
      "iteration 28\n",
      "iteration 29\n"
     ]
    }
   ],
   "source": [
    "vector_size = 50\n",
    "epochs = 30 # in the published \"Paragraph Vector\" paper results, using 10s-of-thousands to millions of docs, are 10-20.\n",
    "min_count = 2 # to discard words with very few occurrences\n",
    "\n",
    "model = Doc2Vec(vector_size = vector_size, \n",
    "                min_count = min_count, \n",
    "                dm = 1,\n",
    "                workers=-1)\n",
    "model.build_vocab(tagged_data)\n",
    "\n",
    "for epoch in range(epochs):\n",
    "    print('iteration {0}'.format(epoch))\n",
    "    model.train(tagged_data,\n",
    "                total_examples = model.corpus_count,\n",
    "                epochs = model.iter,)\n",
    "model.save(\"doc2vec_PVDM.model\")"
   ]
  },
  {
   "cell_type": "markdown",
   "metadata": {},
   "source": [
    "## convert text into numerical vector"
   ]
  },
  {
   "cell_type": "code",
   "execution_count": 20,
   "metadata": {},
   "outputs": [],
   "source": [
    "# model = Doc2Vec.load(\"doc2vec_PVDM.model\")"
   ]
  },
  {
   "cell_type": "code",
   "execution_count": 21,
   "metadata": {},
   "outputs": [
    {
     "name": "stdout",
     "output_type": "stream",
     "text": [
      "finished word tokenization\n",
      "finished vector representation\n"
     ]
    }
   ],
   "source": [
    "train_d2v = d2v(train, model)"
   ]
  },
  {
   "cell_type": "code",
   "execution_count": 22,
   "metadata": {},
   "outputs": [
    {
     "name": "stdout",
     "output_type": "stream",
     "text": [
      "finished word tokenization\n",
      "finished vector representation\n",
      "finished word tokenization\n",
      "finished vector representation\n"
     ]
    }
   ],
   "source": [
    "test_d2v = d2v(test, model)\n",
    "validation_d2v = d2v(validation, model)"
   ]
  },
  {
   "cell_type": "code",
   "execution_count": 24,
   "metadata": {},
   "outputs": [],
   "source": [
    "train_d2v.to_csv(\"doc2vec_PVDM_train.csv\")\n",
    "test_d2v.to_csv(\"doc2vec_PVDM_test.csv\")\n",
    "validation_d2v.to_csv(\"doc2vec_PVDM_validation.csv\")"
   ]
  },
  {
   "cell_type": "markdown",
   "metadata": {},
   "source": [
    "# doc2vec (PVDM) LightGBM"
   ]
  },
  {
   "cell_type": "code",
   "execution_count": 20,
   "metadata": {},
   "outputs": [],
   "source": [
    "# train_d2v = pd.read_csv(\"doc2vec_PVDM_train.csv\")\n",
    "# test_d2v = pd.read_csv(\"doc2vec_PVDM_test.csv\")\n",
    "# validation_d2v = pd.read_csv(\"doc2vec_PVDM_validation.csv\")\n",
    "\n",
    "train_d2v = train_d2v.iloc[:, 1:]\n",
    "test_d2v = test_d2v.iloc[:, 1:]\n",
    "validation_d2v = validation_d2v.iloc[:, 1:]"
   ]
  },
  {
   "cell_type": "code",
   "execution_count": 21,
   "metadata": {},
   "outputs": [],
   "source": [
    "X_train = train_d2v.iloc[:, 4:]\n",
    "X_validation = validation_d2v.iloc[:, 4:]\n",
    "X_test = test_d2v.iloc[:, 4:]"
   ]
  },
  {
   "cell_type": "code",
   "execution_count": 22,
   "metadata": {},
   "outputs": [],
   "source": [
    "mod3 = lgb.LGBMClassifier(objective = 'multiclass', class_weight = \"balanced\", random_state = 1234, n_jobs = -1,\n",
    "                        learning_rate = 0.1, n_estimators = 100, max_depth = 9, num_leaves = 2**9+1, \n",
    "                        colsample_bytree = 0.9, reg_alpha = 0, reg_lambda = 4)\n",
    "fit3 = mod3.fit(X_train, train_d2v.Strategy)\n",
    "pred3_train = fit3.predict(X_train)\n",
    "pred3 = fit3.predict(X_validation)\n",
    "pred3_test = fit3.predict(X_test)"
   ]
  },
  {
   "cell_type": "code",
   "execution_count": 23,
   "metadata": {},
   "outputs": [
    {
     "name": "stderr",
     "output_type": "stream",
     "text": [
      "/Users/andrewyu/opt/anaconda3/lib/python3.8/site-packages/sklearn/utils/validation.py:67: FutureWarning: Pass labels=[0, 1, 2] as keyword args. From version 0.25 passing these as positional arguments will result in an error\n",
      "  warnings.warn(\"Pass {} as keyword args. From version 0.25 \"\n"
     ]
    },
    {
     "name": "stdout",
     "output_type": "stream",
     "text": [
      "              precision    recall  f1-score   support\n",
      "\n",
      "           0       0.83      0.92      0.87     33891\n",
      "           1       0.95      0.84      0.89     65551\n",
      "           2       0.82      0.93      0.87     33043\n",
      "\n",
      "    accuracy                           0.88    132485\n",
      "   macro avg       0.87      0.89      0.88    132485\n",
      "weighted avg       0.89      0.88      0.88    132485\n",
      "\n"
     ]
    },
    {
     "data": {
      "text/plain": [
       "0.8718518061885763"
      ]
     },
     "execution_count": 23,
     "metadata": {},
     "output_type": "execute_result"
    },
    {
     "data": {
      "image/png": "[encoded data removed]",
      "text/plain": [
       "<Figure size 432x288 with 2 Axes>"
      ]
     },
     "metadata": {
      "needs_background": "light"
     },
     "output_type": "display_data"
    }
   ],
   "source": [
    "performance(train_d2v.Strategy, pred3_train)"
   ]
  },
  {
   "cell_type": "code",
   "execution_count": 24,
   "metadata": {},
   "outputs": [
    {
     "name": "stdout",
     "output_type": "stream",
     "text": [
      "              precision    recall  f1-score   support\n",
      "\n",
      "           0       0.16      0.27      0.20      7173\n",
      "           1       0.69      0.47      0.56     31106\n",
      "           2       0.15      0.27      0.19      6630\n",
      "\n",
      "    accuracy                           0.40     44909\n",
      "   macro avg       0.33      0.33      0.32     44909\n",
      "weighted avg       0.53      0.40      0.45     44909\n",
      "\n"
     ]
    },
    {
     "data": {
      "text/plain": [
       "0.19544976707346834"
      ]
     },
     "execution_count": 24,
     "metadata": {},
     "output_type": "execute_result"
    },
    {
     "data": {
      "image/png": "[encoded data removed]",
      "text/plain": [
       "<Figure size 432x288 with 2 Axes>"
      ]
     },
     "metadata": {
      "needs_background": "light"
     },
     "output_type": "display_data"
    }
   ],
   "source": [
    "performance(validation_d2v.Strategy, pred3)"
   ]
  },
  {
   "cell_type": "code",
   "execution_count": 25,
   "metadata": {},
   "outputs": [
    {
     "name": "stdout",
     "output_type": "stream",
     "text": [
      "              precision    recall  f1-score   support\n",
      "\n",
      "           0       0.19      0.27      0.22      8287\n",
      "           1       0.63      0.46      0.54     27696\n",
      "           2       0.19      0.28      0.22      8081\n",
      "\n",
      "    accuracy                           0.39     44064\n",
      "   macro avg       0.34      0.34      0.33     44064\n",
      "weighted avg       0.47      0.39      0.42     44064\n",
      "\n"
     ]
    },
    {
     "data": {
      "text/plain": [
       "0.22262826061167668"
      ]
     },
     "execution_count": 25,
     "metadata": {},
     "output_type": "execute_result"
    },
    {
     "data": {
      "image/png": "[encoded data removed]",
      "text/plain": [
       "<Figure size 432x288 with 2 Axes>"
      ]
     },
     "metadata": {
      "needs_background": "light"
     },
     "output_type": "display_data"
    }
   ],
   "source": [
    "performance(test_d2v.Strategy, pred3_test)"
   ]
  },
  {
   "cell_type": "markdown",
   "metadata": {},
   "source": [
    "# Hyper parameter turning"
   ]
  },
  {
   "cell_type": "code",
   "execution_count": 26,
   "metadata": {},
   "outputs": [],
   "source": [
    "n_estimators = [5, 10, 20, 30, 40, 50, 75, 100]\n",
    "max_depth = [1,2,3,4,5,6,7,8,9]\n",
    "colsample_bytree = [0.25, 0.5, 0.75, 1]\n",
    "reg_alpha = [0,1,2,3]\n",
    "reg_lambda = [0,1,2,3]"
   ]
  },
  {
   "cell_type": "code",
   "execution_count": 27,
   "metadata": {},
   "outputs": [
    {
     "name": "stdout",
     "output_type": "stream",
     "text": [
      "Finished the model with n_estimators = 5\n",
      "--- 472.63776302337646 seconds ---\n",
      "Finished the model with n_estimators = 10\n",
      "--- 541.0460019111633 seconds ---\n",
      "Finished the model with n_estimators = 20\n",
      "--- 641.6218400001526 seconds ---\n",
      "Finished the model with n_estimators = 30\n",
      "--- 753.4360592365265 seconds ---\n",
      "Finished the model with n_estimators = 40\n",
      "--- 873.4469408988953 seconds ---\n",
      "Finished the model with n_estimators = 50\n",
      "--- 1006.3063743114471 seconds ---\n",
      "Finished the model with n_estimators = 75\n",
      "--- 1286.5362820625305 seconds ---\n",
      "Finished the model with n_estimators = 100\n",
      "--- 1587.3980071544647 seconds ---\n"
     ]
    }
   ],
   "source": [
    "val_score = np.zeros((len(n_estimators), len(max_depth), len(colsample_bytree), len(reg_alpha), len(reg_lambda)))\n",
    "\n",
    "for i in range(len(n_estimators)):\n",
    "    start_time = time.time()\n",
    "    \n",
    "    for j in range(len(max_depth)):\n",
    "        for k in range(len(colsample_bytree)):\n",
    "            for l in range(len(reg_alpha)):\n",
    "                for m in range(len(reg_lambda)):\n",
    "                    mod3 = lgb.LGBMClassifier(objective = 'multiclass', class_weight = \"balanced\", \n",
    "                                              random_state = 1234, n_jobs = -1, learning_rate = 0.1, \n",
    "                                              n_estimators = n_estimators[i], max_depth = max_depth[j], \n",
    "                                              num_leaves = 2**max_depth[j]+1, colsample_bytree = colsample_bytree[k],\n",
    "                                              reg_alpha = reg_alpha[l], reg_lambda = reg_lambda[m])\n",
    "                    fit3 = mod3.fit(X_train, train_d2v.Strategy)\n",
    "                    pred3 = fit3.predict(X_validation)\n",
    "                    val_score[i,j,k,l,m] = score(validation_d2v.Strategy, pred3)\n",
    "    \n",
    "    print(\"Finished the model with n_estimators =\", n_estimators[i])\n",
    "    print(\"--- %s seconds ---\" % (time.time() - start_time))"
   ]
  },
  {
   "cell_type": "code",
   "execution_count": 30,
   "metadata": {},
   "outputs": [
    {
     "data": {
      "text/plain": [
       "array([0.21609898, 0.21523279, 0.21568965, 0.21577742, 0.2151491 ,\n",
       "       0.21678111, 0.21566886, 0.21497374])"
      ]
     },
     "execution_count": 30,
     "metadata": {},
     "output_type": "execute_result"
    }
   ],
   "source": [
    "val_score.max(axis = 4).max(axis = 3).max(axis = 2).max(axis =1)"
   ]
  },
  {
   "cell_type": "code",
   "execution_count": 31,
   "metadata": {},
   "outputs": [
    {
     "data": {
      "text/plain": [
       "array([0.21283964, 0.21458826, 0.21538522, 0.21678111, 0.21545103,\n",
       "       0.21577742, 0.21609898, 0.21401035, 0.2129342 ])"
      ]
     },
     "execution_count": 31,
     "metadata": {},
     "output_type": "execute_result"
    }
   ],
   "source": [
    "val_score.max(axis = 4).max(axis = 3).max(axis = 2).max(axis =0)"
   ]
  },
  {
   "cell_type": "code",
   "execution_count": 32,
   "metadata": {},
   "outputs": [
    {
     "data": {
      "text/plain": [
       "array([0.21538522, 0.21609898, 0.21585548, 0.21678111])"
      ]
     },
     "execution_count": 32,
     "metadata": {},
     "output_type": "execute_result"
    }
   ],
   "source": [
    "val_score.max(axis = 4).max(axis = 3).max(axis = 1).max(axis = 0)"
   ]
  },
  {
   "cell_type": "code",
   "execution_count": 33,
   "metadata": {},
   "outputs": [
    {
     "data": {
      "text/plain": [
       "array([0.21609898, 0.21678111, 0.21538522, 0.21536717])"
      ]
     },
     "execution_count": 33,
     "metadata": {},
     "output_type": "execute_result"
    }
   ],
   "source": [
    "val_score.max(axis = 4).max(axis = 2).max(axis = 1).max(axis = 0)"
   ]
  },
  {
   "cell_type": "code",
   "execution_count": 34,
   "metadata": {},
   "outputs": [
    {
     "data": {
      "text/plain": [
       "array([0.21585548, 0.21566886, 0.21577742, 0.21678111])"
      ]
     },
     "execution_count": 34,
     "metadata": {},
     "output_type": "execute_result"
    }
   ],
   "source": [
    "val_score.max(axis = 3).max(axis = 2).max(axis = 1).max(axis = 0)"
   ]
  },
  {
   "cell_type": "markdown",
   "metadata": {},
   "source": [
    "### By the above gird search, the optimal hyperparameter choice is as follow:\n",
    "\n",
    "n_estimators = 50\n",
    "\n",
    "max_depth = 4\n",
    "\n",
    "colsample_bytree = 1\n",
    "\n",
    "reg_alpha = 1\n",
    "\n",
    "reg_lambda = 3"
   ]
  },
  {
   "cell_type": "code",
   "execution_count": 44,
   "metadata": {},
   "outputs": [],
   "source": [
    "n_estimators = 50\n",
    "max_depth = 4\n",
    "colsample_bytree = 1\n",
    "reg_alpha = 1\n",
    "reg_lambda = 3"
   ]
  },
  {
   "cell_type": "code",
   "execution_count": 45,
   "metadata": {},
   "outputs": [],
   "source": [
    "mod3 = lgb.LGBMClassifier(objective = 'multiclass', class_weight = \"balanced\", random_state = 1234, n_jobs = -1,\n",
    "                        learning_rate = 0.1, n_estimators = n_estimators, max_depth = max_depth, num_leaves = 2**max_depth+1, \n",
    "                        colsample_bytree = colsample_bytree, reg_alpha = reg_alpha, reg_lambda = reg_lambda)\n",
    "fit3 = mod3.fit(X_train, train_d2v.Strategy)\n",
    "pred3_train = fit3.predict(X_train)\n",
    "pred3 = fit3.predict(X_validation)\n",
    "pred3_test = fit3.predict(X_test)"
   ]
  },
  {
   "cell_type": "code",
   "execution_count": 46,
   "metadata": {},
   "outputs": [
    {
     "name": "stdout",
     "output_type": "stream",
     "text": [
      "              precision    recall  f1-score   support\n",
      "\n",
      "           0       0.34      0.44      0.38     33891\n",
      "           1       0.59      0.41      0.48     65551\n",
      "           2       0.33      0.45      0.38     33043\n",
      "\n",
      "    accuracy                           0.42    132485\n",
      "   macro avg       0.42      0.43      0.42    132485\n",
      "weighted avg       0.46      0.42      0.43    132485\n",
      "\n"
     ]
    },
    {
     "data": {
      "text/plain": [
       "0.3826882896182592"
      ]
     },
     "execution_count": 46,
     "metadata": {},
     "output_type": "execute_result"
    },
    {
     "data": {
      "image/png": "[encoded data removed]",
      "text/plain": [
       "<Figure size 432x288 with 2 Axes>"
      ]
     },
     "metadata": {
      "needs_background": "light"
     },
     "output_type": "display_data"
    }
   ],
   "source": [
    "performance(train_d2v.Strategy, pred3_train)"
   ]
  },
  {
   "cell_type": "code",
   "execution_count": 47,
   "metadata": {},
   "outputs": [
    {
     "name": "stdout",
     "output_type": "stream",
     "text": [
      "              precision    recall  f1-score   support\n",
      "\n",
      "           0       0.17      0.33      0.22      7173\n",
      "           1       0.70      0.34      0.46     31106\n",
      "           2       0.15      0.35      0.21      6630\n",
      "\n",
      "    accuracy                           0.34     44909\n",
      "   macro avg       0.34      0.34      0.30     44909\n",
      "weighted avg       0.53      0.34      0.38     44909\n",
      "\n"
     ]
    },
    {
     "data": {
      "text/plain": [
       "0.21678111061633004"
      ]
     },
     "execution_count": 47,
     "metadata": {},
     "output_type": "execute_result"
    },
    {
     "data": {
      "image/png": "[encoded data removed]",
      "text/plain": [
       "<Figure size 432x288 with 2 Axes>"
      ]
     },
     "metadata": {
      "needs_background": "light"
     },
     "output_type": "display_data"
    }
   ],
   "source": [
    "performance(validation_d2v.Strategy, pred3)"
   ]
  },
  {
   "cell_type": "code",
   "execution_count": 48,
   "metadata": {},
   "outputs": [
    {
     "name": "stdout",
     "output_type": "stream",
     "text": [
      "              precision    recall  f1-score   support\n",
      "\n",
      "           0       0.18      0.31      0.23      8287\n",
      "           1       0.63      0.35      0.45     27696\n",
      "           2       0.19      0.34      0.24      8081\n",
      "\n",
      "    accuracy                           0.34     44064\n",
      "   macro avg       0.33      0.33      0.31     44064\n",
      "weighted avg       0.46      0.34      0.37     44064\n",
      "\n"
     ]
    },
    {
     "data": {
      "text/plain": [
       "0.2355531392552288"
      ]
     },
     "execution_count": 48,
     "metadata": {},
     "output_type": "execute_result"
    },
    {
     "data": {
      "image/png": "[encoded data removed]",
      "text/plain": [
       "<Figure size 432x288 with 2 Axes>"
      ]
     },
     "metadata": {
      "needs_background": "light"
     },
     "output_type": "display_data"
    }
   ],
   "source": [
    "performance(test_d2v.Strategy, pred3_test)"
   ]
  },
  {
   "cell_type": "markdown",
   "metadata": {},
   "source": [
    "## Apparently, this is not successful. The model now become a random guess even not a weak learner. \n",
    "Let's try to use L2 regression as a benchmark to see is it the problem of algorithm choosing"
   ]
  },
  {
   "cell_type": "code",
   "execution_count": 51,
   "metadata": {},
   "outputs": [],
   "source": [
    "mod4 = RidgeClassifier(alpha = 1.0, normalize=False,tol=0.001, class_weight='balanced', \n",
    "                       solver='auto', random_state= 2046)"
   ]
  },
  {
   "cell_type": "code",
   "execution_count": 52,
   "metadata": {},
   "outputs": [],
   "source": [
    "fit4 = mod4.fit(X_train, train_d2v.Strategy)\n",
    "\n",
    "pred4_train = fit4.predict(X_train)\n",
    "pred4 = fit4.predict(X_validation)\n",
    "pred4_test = fit4.predict(X_test)"
   ]
  },
  {
   "cell_type": "code",
   "execution_count": 54,
   "metadata": {},
   "outputs": [
    {
     "name": "stdout",
     "output_type": "stream",
     "text": [
      "              precision    recall  f1-score   support\n",
      "\n",
      "           0       0.26      0.37      0.31     33891\n",
      "           1       0.51      0.33      0.40     65551\n",
      "           2       0.26      0.33      0.29     33043\n",
      "\n",
      "    accuracy                           0.34    132485\n",
      "   macro avg       0.34      0.34      0.33    132485\n",
      "weighted avg       0.38      0.34      0.35    132485\n",
      "\n"
     ]
    },
    {
     "data": {
      "text/plain": [
       "0.2996164551670377"
      ]
     },
     "execution_count": 54,
     "metadata": {},
     "output_type": "execute_result"
    },
    {
     "data": {
      "image/png": "[encoded data removed]",
      "text/plain": [
       "<Figure size 432x288 with 2 Axes>"
      ]
     },
     "metadata": {
      "needs_background": "light"
     },
     "output_type": "display_data"
    }
   ],
   "source": [
    "performance(train_d2v.Strategy, pred4_train)"
   ]
  },
  {
   "cell_type": "code",
   "execution_count": 55,
   "metadata": {},
   "outputs": [
    {
     "name": "stdout",
     "output_type": "stream",
     "text": [
      "              precision    recall  f1-score   support\n",
      "\n",
      "           0       0.16      0.37      0.22      7173\n",
      "           1       0.69      0.32      0.44     31106\n",
      "           2       0.15      0.31      0.20      6630\n",
      "\n",
      "    accuracy                           0.33     44909\n",
      "   macro avg       0.33      0.33      0.29     44909\n",
      "weighted avg       0.53      0.33      0.37     44909\n",
      "\n"
     ]
    },
    {
     "data": {
      "text/plain": [
       "0.21149348430154635"
      ]
     },
     "execution_count": 55,
     "metadata": {},
     "output_type": "execute_result"
    },
    {
     "data": {
      "image/png": "[encoded data removed]",
      "text/plain": [
       "<Figure size 432x288 with 2 Axes>"
      ]
     },
     "metadata": {
      "needs_background": "light"
     },
     "output_type": "display_data"
    }
   ],
   "source": [
    "performance(validation_d2v.Strategy, pred4)"
   ]
  },
  {
   "cell_type": "code",
   "execution_count": 56,
   "metadata": {},
   "outputs": [
    {
     "name": "stdout",
     "output_type": "stream",
     "text": [
      "              precision    recall  f1-score   support\n",
      "\n",
      "           0       0.19      0.36      0.25      8287\n",
      "           1       0.63      0.32      0.42     27696\n",
      "           2       0.18      0.32      0.23      8081\n",
      "\n",
      "    accuracy                           0.33     44064\n",
      "   macro avg       0.33      0.33      0.30     44064\n",
      "weighted avg       0.46      0.33      0.35     44064\n",
      "\n"
     ]
    },
    {
     "data": {
      "text/plain": [
       "0.2405655297762334"
      ]
     },
     "execution_count": 56,
     "metadata": {},
     "output_type": "execute_result"
    },
    {
     "data": {
      "image/png": "[encoded data removed]",
      "text/plain": [
       "<Figure size 432x288 with 2 Axes>"
      ]
     },
     "metadata": {
      "needs_background": "light"
     },
     "output_type": "display_data"
    }
   ],
   "source": [
    "performance(test_d2v.Strategy, pred4_test)"
   ]
  },
  {
   "cell_type": "markdown",
   "metadata": {},
   "source": [
    "### gird search on Ridge regression"
   ]
  },
  {
   "cell_type": "code",
   "execution_count": 61,
   "metadata": {},
   "outputs": [
    {
     "name": "stdout",
     "output_type": "stream",
     "text": [
      "Finished the model with alpha = 0\n",
      "--- 0.21952104568481445 seconds ---\n",
      "Finished the model with alpha = 0.1\n",
      "--- 0.22603583335876465 seconds ---\n",
      "Finished the model with alpha = 0.2\n",
      "--- 0.24279284477233887 seconds ---\n",
      "Finished the model with alpha = 0.4\n",
      "--- 0.2246720790863037 seconds ---\n",
      "Finished the model with alpha = 0.8\n",
      "--- 0.24910187721252441 seconds ---\n",
      "Finished the model with alpha = 1.6\n",
      "--- 0.2554600238800049 seconds ---\n",
      "Finished the model with alpha = 3.2\n",
      "--- 0.26706981658935547 seconds ---\n",
      "Finished the model with alpha = 6.4\n",
      "--- 0.2945747375488281 seconds ---\n",
      "Finished the model with alpha = 12.8\n",
      "--- 0.2622032165527344 seconds ---\n",
      "Finished the model with alpha = 25.6\n",
      "--- 0.24501776695251465 seconds ---\n",
      "Finished the model with alpha = 51.2\n",
      "--- 0.25139498710632324 seconds ---\n",
      "Finished the model with alpha = 102.4\n",
      "--- 0.25452613830566406 seconds ---\n"
     ]
    }
   ],
   "source": [
    "alpha = [0, 0.1, 0.2, 0.4, 0.8, 1.6, 3.2, 6.4, 12.8, 25.6, 51.2, 102.4]\n",
    "\n",
    "val_score = np.zeros((len(alpha)))\n",
    "\n",
    "for i in range(len(alpha)):\n",
    "    start_time = time.time()\n",
    "    \n",
    "    mod4 = RidgeClassifier(alpha = alpha[i], normalize=False,tol=0.001, class_weight='balanced', \n",
    "                           solver='auto', random_state= 2046)\n",
    "    fit4 = mod4.fit(X_train, train_d2v.Strategy)\n",
    "    pred4 = fit4.predict(X_validation)\n",
    "    val_score[i] = score(validation_d2v.Strategy, pred4)\n",
    "    \n",
    "    print(\"Finished the model with alpha =\", alpha[i])\n",
    "    print(\"--- %s seconds ---\" % (time.time() - start_time))"
   ]
  },
  {
   "cell_type": "code",
   "execution_count": 62,
   "metadata": {},
   "outputs": [
    {
     "data": {
      "text/plain": [
       "array([0.21159476, 0.21157554, 0.21152278, 0.21150308, 0.2114174 ,\n",
       "       0.2114701 , 0.21138087, 0.21137745, 0.21149749, 0.21139195,\n",
       "       0.21143097, 0.21140208])"
      ]
     },
     "execution_count": 62,
     "metadata": {},
     "output_type": "execute_result"
    }
   ],
   "source": [
    "val_score"
   ]
  },
  {
   "cell_type": "markdown",
   "metadata": {},
   "source": [
    "### L2 regression on doc2vec features as worse as lightGBM using doc2vec features\n",
    "### Let's make an comparison to using td-idf features."
   ]
  },
  {
   "cell_type": "code",
   "execution_count": 20,
   "metadata": {},
   "outputs": [
    {
     "name": "stdout",
     "output_type": "stream",
     "text": [
      "Finished the model with min_df = 0.01 and max_df =  0.8\n",
      "--- 252.8034589290619 seconds ---\n",
      "Finished the model with min_df = 0.01 and max_df =  0.85\n",
      "--- 242.27214694023132 seconds ---\n",
      "Finished the model with min_df = 0.01 and max_df =  0.9\n",
      "--- 226.44305300712585 seconds ---\n",
      "Finished the model with min_df = 0.01 and max_df =  0.95\n",
      "--- 232.31094026565552 seconds ---\n",
      "Finished the model with min_df = 0.02 and max_df =  0.8\n",
      "--- 236.8850531578064 seconds ---\n",
      "Finished the model with min_df = 0.02 and max_df =  0.85\n",
      "--- 214.15976190567017 seconds ---\n",
      "Finished the model with min_df = 0.02 and max_df =  0.9\n",
      "--- 217.46332812309265 seconds ---\n",
      "Finished the model with min_df = 0.02 and max_df =  0.95\n",
      "--- 217.05733489990234 seconds ---\n",
      "Finished the model with min_df = 0.03 and max_df =  0.8\n",
      "--- 205.51844096183777 seconds ---\n",
      "Finished the model with min_df = 0.03 and max_df =  0.85\n",
      "--- 204.83983325958252 seconds ---\n",
      "Finished the model with min_df = 0.03 and max_df =  0.9\n",
      "--- 209.94664096832275 seconds ---\n",
      "Finished the model with min_df = 0.03 and max_df =  0.95\n",
      "--- 200.6511287689209 seconds ---\n",
      "Finished the model with min_df = 0.04 and max_df =  0.8\n",
      "--- 194.88833713531494 seconds ---\n",
      "Finished the model with min_df = 0.04 and max_df =  0.85\n",
      "--- 183.86317992210388 seconds ---\n",
      "Finished the model with min_df = 0.04 and max_df =  0.9\n",
      "--- 180.0697648525238 seconds ---\n",
      "Finished the model with min_df = 0.04 and max_df =  0.95\n",
      "--- 179.09889101982117 seconds ---\n"
     ]
    }
   ],
   "source": [
    "min_df = [0.01, 0.02, 0.03, 0.04]\n",
    "max_df = [0.8, 0.85, 0.9, 0.95]\n",
    "alpha = [0, 0.1, 0.2, 0.4, 0.8, 1.6, 3.2, 6.4, 12.8, 25.6, 51.2, 102.4]\n",
    "\n",
    "val_score = np.zeros((len(min_df), len(max_df), len(alpha)))\n",
    "\n",
    "for i in range(len(min_df)):\n",
    "    for j in range(len(max_df)):\n",
    "        start_time = time.time()\n",
    "        basicvectorizer = TfidfVectorizer(ngram_range=(1,1), min_df = min_df[i], max_df = max_df[j])\n",
    "        basictrain = basicvectorizer.fit_transform(train.News)\n",
    "        basicvalidation = basicvectorizer.transform(validation.News)\n",
    "        \n",
    "        for k in range(len(alpha)):\n",
    "            mod1 = RidgeClassifier(alpha = alpha[k], normalize=True, class_weight='balanced',\n",
    "                                   solver='auto', random_state = 4356)\n",
    "            fit1 = mod1.fit(basictrain, train.Strategy)\n",
    "            pred1 = fit1.predict(basicvalidation)\n",
    "            val_score[i,j,k] = score(validation.Strategy, pred1)\n",
    "            \n",
    "        print(\"Finished the model with min_df =\", min_df[i], \"and max_df = \", max_df[j])\n",
    "        print(\"--- %s seconds ---\" % (time.time() - start_time))"
   ]
  },
  {
   "cell_type": "code",
   "execution_count": 21,
   "metadata": {},
   "outputs": [
    {
     "data": {
      "text/plain": [
       "array([0.2337914 , 0.23316385, 0.23098189, 0.22879664])"
      ]
     },
     "execution_count": 21,
     "metadata": {},
     "output_type": "execute_result"
    }
   ],
   "source": [
    "val_score.max(axis = 2).max(axis = 1)"
   ]
  },
  {
   "cell_type": "code",
   "execution_count": 72,
   "metadata": {},
   "outputs": [
    {
     "data": {
      "text/plain": [
       "array([0.2337914 , 0.23316385, 0.23098189, 0.22879664])"
      ]
     },
     "execution_count": 72,
     "metadata": {},
     "output_type": "execute_result"
    }
   ],
   "source": [
    "val_score.max(axis = 2).max(axis = 1)"
   ]
  },
  {
   "cell_type": "code",
   "execution_count": 73,
   "metadata": {},
   "outputs": [
    {
     "data": {
      "text/plain": [
       "array([0.2337914 , 0.23326414, 0.23368409, 0.23368409])"
      ]
     },
     "execution_count": 73,
     "metadata": {},
     "output_type": "execute_result"
    }
   ],
   "source": [
    "val_score.max(axis = 2).max(axis = 0)"
   ]
  },
  {
   "cell_type": "code",
   "execution_count": 74,
   "metadata": {},
   "outputs": [
    {
     "data": {
      "text/plain": [
       "array([0.21273147, 0.21822481, 0.22050135, 0.22305829, 0.22525303,\n",
       "       0.22789657, 0.23049397, 0.23193095, 0.23316385, 0.2337914 ,\n",
       "       0.23112188, 0.22674136])"
      ]
     },
     "execution_count": 74,
     "metadata": {},
     "output_type": "execute_result"
    }
   ],
   "source": [
    "val_score.max(axis = 1).max(axis = 0)"
   ]
  },
  {
   "cell_type": "code",
   "execution_count": 76,
   "metadata": {},
   "outputs": [],
   "source": [
    "min_df = 0.01\n",
    "max_df = 0.8\n",
    "alpha = 25.6\n",
    "\n",
    "basicvectorizer = TfidfVectorizer(ngram_range=(1,1), min_df = min_df, max_df = max_df)\n",
    "basictrain = basicvectorizer.fit_transform(train.News)\n",
    "basicvalidation = basicvectorizer.transform(validation.News)\n",
    "basictest = basicvectorizer.transform(test.News)\n",
    "\n",
    "mod1 = RidgeClassifier(alpha = alpha, normalize=True, class_weight='balanced', solver='auto', random_state = 4356)\n",
    "fit1 = mod1.fit(basictrain, train.Strategy)\n",
    "\n",
    "pred1_train = fit1.predict(basictrain)\n",
    "pred1 = fit1.predict(basicvalidation)\n",
    "pred1_test = fit1.predict(basictest)"
   ]
  },
  {
   "cell_type": "code",
   "execution_count": 77,
   "metadata": {},
   "outputs": [
    {
     "name": "stderr",
     "output_type": "stream",
     "text": [
      "/Users/andrewyu/opt/anaconda3/lib/python3.8/site-packages/sklearn/utils/validation.py:67: FutureWarning: Pass labels=[0, 1, 2] as keyword args. From version 0.25 passing these as positional arguments will result in an error\n",
      "  warnings.warn(\"Pass {} as keyword args. From version 0.25 \"\n"
     ]
    },
    {
     "name": "stdout",
     "output_type": "stream",
     "text": [
      "              precision    recall  f1-score   support\n",
      "\n",
      "           0       0.38      0.26      0.31     33891\n",
      "           1       0.59      0.63      0.61     65551\n",
      "           2       0.35      0.42      0.38     33043\n",
      "\n",
      "    accuracy                           0.48    132485\n",
      "   macro avg       0.44      0.44      0.43    132485\n",
      "weighted avg       0.48      0.48      0.48    132485\n",
      "\n"
     ]
    },
    {
     "data": {
      "text/plain": [
       "0.34626483056873747"
      ]
     },
     "execution_count": 77,
     "metadata": {},
     "output_type": "execute_result"
    },
    {
     "data": {
      "image/png": "[encoded data removed]",
      "text/plain": [
       "<Figure size 432x288 with 2 Axes>"
      ]
     },
     "metadata": {
      "needs_background": "light"
     },
     "output_type": "display_data"
    }
   ],
   "source": [
    "performance(train.Strategy, pred1_train)"
   ]
  },
  {
   "cell_type": "code",
   "execution_count": 78,
   "metadata": {},
   "outputs": [
    {
     "name": "stdout",
     "output_type": "stream",
     "text": [
      "              precision    recall  f1-score   support\n",
      "\n",
      "           0       0.20      0.32      0.25      7173\n",
      "           1       0.75      0.45      0.56     31106\n",
      "           2       0.16      0.36      0.22      6630\n",
      "\n",
      "    accuracy                           0.41     44909\n",
      "   macro avg       0.37      0.38      0.34     44909\n",
      "weighted avg       0.58      0.41      0.46     44909\n",
      "\n"
     ]
    },
    {
     "data": {
      "text/plain": [
       "0.23379140473138899"
      ]
     },
     "execution_count": 78,
     "metadata": {},
     "output_type": "execute_result"
    },
    {
     "data": {
      "image/png": "[encoded data removed]",
      "text/plain": [
       "<Figure size 432x288 with 2 Axes>"
      ]
     },
     "metadata": {
      "needs_background": "light"
     },
     "output_type": "display_data"
    }
   ],
   "source": [
    "performance(validation.Strategy, pred1)"
   ]
  },
  {
   "cell_type": "code",
   "execution_count": 79,
   "metadata": {},
   "outputs": [
    {
     "name": "stdout",
     "output_type": "stream",
     "text": [
      "              precision    recall  f1-score   support\n",
      "\n",
      "           0       0.22      0.21      0.21      8287\n",
      "           1       0.65      0.54      0.59     27696\n",
      "           2       0.18      0.29      0.22      8081\n",
      "\n",
      "    accuracy                           0.43     44064\n",
      "   macro avg       0.35      0.35      0.34     44064\n",
      "weighted avg       0.48      0.43      0.45     44064\n",
      "\n"
     ]
    },
    {
     "data": {
      "text/plain": [
       "0.21828739747778064"
      ]
     },
     "execution_count": 79,
     "metadata": {},
     "output_type": "execute_result"
    },
    {
     "data": {
      "image/png": "[encoded data removed]",
      "text/plain": [
       "<Figure size 432x288 with 2 Axes>"
      ]
     },
     "metadata": {
      "needs_background": "light"
     },
     "output_type": "display_data"
    }
   ],
   "source": [
    "performance(test.Strategy, pred1_test)"
   ]
  },
  {
   "cell_type": "code",
   "execution_count": null,
   "metadata": {},
   "outputs": [],
   "source": []
  }
 ],
 "metadata": {
  "colab": {
   "name": "BofW.ipynb",
   "provenance": []
  },
  "kernelspec": {
   "display_name": "Python 3",
   "language": "python",
   "name": "python3"
  },
  "language_info": {
   "codemirror_mode": {
    "name": "ipython",
    "version": 3
   },
   "file_extension": ".py",
   "mimetype": "text/x-python",
   "name": "python",
   "nbconvert_exporter": "python",
   "pygments_lexer": "ipython3",
   "version": "3.8.5"
  }
 },
 "nbformat": 4,
 "nbformat_minor": 1
}
